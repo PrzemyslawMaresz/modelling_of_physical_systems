{
  "nbformat": 4,
  "nbformat_minor": 0,
  "metadata": {
    "colab": {
      "provenance": []
    },
    "kernelspec": {
      "name": "python3",
      "display_name": "Python 3"
    },
    "language_info": {
      "name": "python"
    }
  },
  "cells": [
    {
      "cell_type": "markdown",
      "source": [],
      "metadata": {
        "id": "1xCRjc1LvfBm"
      }
    },
    {
      "cell_type": "markdown",
      "source": [
        "# Modelling of physical systems - assignment for lab03\n",
        "## Author: Przemysław Maresz"
      ],
      "metadata": {
        "id": "QcMKDyx3vf-E"
      }
    },
    {
      "cell_type": "markdown",
      "source": [
        "## Convergence Analysis of the Upwind Scheme\n",
        "\n",
        "This notebook performs a convergence analysis of the upwind scheme for solving the linear advection equation. The goal of the analysis is to investigate how the numerical error, measured here by the Root Mean Squared Error (RMSE) between the numerical solution and the analytic solution, changes with respect to the spatial step size ($dx$). Additionally, by keeping the Courant number $C$ constant and by varying it (e.g., $C=0.2$, $C=0.5$, $C=0.8$), we can explore how the convergence rate depends on $C$.\n",
        "\n",
        "### Analysis Approach\n",
        "\n",
        "1. **Physical Setup and Numerical Method:**\n",
        "   - We define an initial condition given by a Gaussian profile.\n",
        "   - The upwind scheme is implemented to numerically solve the advection equation.\n",
        "\n",
        "2. **Error Measure:**\n",
        "   - The RMSE is used to quantify the difference between the numerical solution and the analytic (exact) solution.\n",
        "\n",
        "3. **Convergence Study:**\n",
        "   - For a range of spatial step sizes $dx$, the corresponding temporal step $dt$ is determined using the fixed Courant number $C = \\frac{u \\cdot dt}{dx}$.\n",
        "   - The simulation is run for each $dx$ value until a fixed final time $t_{\\text{max}}$.\n",
        "   - RMSE is computed for each simulation to assess the convergence of the method.\n",
        "\n",
        "4. **Visualization:**\n",
        "   - A plot of RMSE versus $dx$ is generated to visually confirm that as the grid is refined (i.e., $dx$ decreases), the numerical error decreases.\n"
      ],
      "metadata": {
        "id": "puku5XjloNJ3"
      }
    },
    {
      "cell_type": "code",
      "source": [
        "import numpy as np\n",
        "import matplotlib.pyplot as plt"
      ],
      "metadata": {
        "id": "0Skbx_rJvcl9"
      },
      "execution_count": null,
      "outputs": []
    },
    {
      "cell_type": "code",
      "source": [
        "class Psi_0:\n",
        "    def __init__(self, x0=5, a=1, sigma=25):\n",
        "      self.x0 = x0\n",
        "      self.a = a\n",
        "      self.sigma = sigma\n",
        "\n",
        "    def __call__(self, x):\n",
        "        return self.a * np.exp(-(x-self.x0)**2 / 2 / self.sigma**2)\n",
        "\n",
        "class One:\n",
        "  def __radd__(self, o):\n",
        "    return slice(o.start+1, o.stop+1)\n",
        "\n",
        "  def __rsub__(self, o):\n",
        "    return slice(o.start-1, o.stop-1)"
      ],
      "metadata": {
        "id": "3GAn0Y9ROb1f"
      },
      "execution_count": null,
      "outputs": []
    },
    {
      "cell_type": "code",
      "source": [
        "def upwind(x, psi_0, u, dt, nt):\n",
        "  nx = len(x)\n",
        "  psi = psi_0(x)\n",
        "  i = slice(1, nx-2)\n",
        "  one = One()\n",
        "  dx = x[1] - x[0]\n",
        "  C = u * dt / dx\n",
        "\n",
        "  def F(psi_L, psi_R, C):\n",
        "    return (C + abs(C)) / 2 * psi_L + (C - abs(C)) / 2 * psi_R\n",
        "\n",
        "\n",
        "  for _ in range(nt):\n",
        "    psi[i] = psi[i] - (F(psi[i], psi[i+one], C) - F(psi[i-one], psi[i], C))\n",
        "\n",
        "  return psi"
      ],
      "metadata": {
        "id": "6WA1c8tkOv2o"
      },
      "execution_count": null,
      "outputs": []
    },
    {
      "cell_type": "code",
      "source": [
        "def rmse(psi_num, psi_an):\n",
        "  return np.sqrt(np.mean((psi_num - psi_an)**2))"
      ],
      "metadata": {
        "id": "OZSurOTaSe0q"
      },
      "execution_count": null,
      "outputs": []
    },
    {
      "cell_type": "markdown",
      "source": [],
      "metadata": {
        "id": "D5KvI47wWNaE"
      }
    },
    {
      "cell_type": "code",
      "source": [
        "def spacial_convergence(u=1, t_max=50, C_target=0.5, min=-100, max=100, dx_min=0.5, dx_max=5):\n",
        "  psi0 = Psi_0()\n",
        "  dx_val = np.linspace(dx_min, dx_max, 100)\n",
        "  rmse_list = []\n",
        "\n",
        "  for dx in dx_val:\n",
        "\n",
        "    nx = int((max - min) / dx)\n",
        "    x = np.linspace(min, max, nx, endpoint=False)\n",
        "\n",
        "    dt = C_target * dx / u\n",
        "    nt = int(t_max / dt)\n",
        "\n",
        "    psi_num = upwind(x, psi0, u, dt, nt)\n",
        "    psi_an = psi0(x - u * t_max)\n",
        "\n",
        "    error = rmse(psi_num, psi_an)\n",
        "    rmse_list.append(error)\n",
        "\n",
        "\n",
        "  plt.figure(figsize=(8,5))\n",
        "  plt.plot(dx_val, rmse_list)\n",
        "  plt.xlabel(\"dx (spatial step)\")\n",
        "  plt.ylabel(\"RMSE\")\n",
        "  plt.title(f\"Convergence analysis of the upwind scheme\\nC = {C_target}  u = {u}\")\n",
        "  plt.grid(True, which=\"both\", ls=\"--\")\n",
        "  plt.show()"
      ],
      "metadata": {
        "id": "LL6HFW-5Sk_v"
      },
      "execution_count": null,
      "outputs": []
    },
    {
      "cell_type": "code",
      "source": [
        "spacial_convergence(C_target=0.2)"
      ],
      "metadata": {
        "id": "Tizv22wrWXHZ"
      },
      "execution_count": null,
      "outputs": []
    },
    {
      "cell_type": "code",
      "source": [
        "spacial_convergence(C_target=0.5)"
      ],
      "metadata": {
        "id": "VtQvTkQVZ7VY"
      },
      "execution_count": null,
      "outputs": []
    },
    {
      "cell_type": "code",
      "source": [
        "spacial_convergence(C_target=0.8)"
      ],
      "metadata": {
        "id": "If18xFwvZ8Zh"
      },
      "execution_count": null,
      "outputs": []
    },
    {
      "cell_type": "markdown",
      "source": [
        "## Conclusions\n",
        "\n",
        "1. **Error Decrease with Finer Grids:**  \n",
        "   As $dx$ decreases, the RMSE between the numerical and analytic solutions generally decreases, confirming the first-order convergence of the upwind scheme.\n",
        "\n",
        "2. **Impact of the Courant Number:**  \n",
        "   Although changing $C$ does not alter the theoretical order of convergence, it can affect the error magnitude and smoothness of the convergence plot. Values of $C$ away from 0 or 1 help avoid trivial or unstable cases.\n",
        "\n",
        "3. **Accuracy vs. Computational Cost:**  \n",
        "   Finer grids require smaller $dt$ to maintain a fixed $C$, increasing the number of time steps and computational cost.\n"
      ],
      "metadata": {
        "id": "QFsjTCaOpnhr"
      }
    },
    {
      "cell_type": "code",
      "source": [],
      "metadata": {
        "id": "XAH-cgV6rJmu"
      },
      "execution_count": null,
      "outputs": []
    }
  ]
}