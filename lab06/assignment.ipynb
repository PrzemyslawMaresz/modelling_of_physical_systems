{
  "nbformat": 4,
  "nbformat_minor": 0,
  "metadata": {
    "colab": {
      "provenance": []
    },
    "kernelspec": {
      "name": "python3",
      "display_name": "Python 3"
    },
    "language_info": {
      "name": "python"
    },
    "widgets": {
      "application/vnd.jupyter.widget-state+json": {
        "ffafae32d1b045bd99cee74b017b9fd3": {
          "model_module": "@jupyter-widgets/controls",
          "model_name": "HBoxModel",
          "model_module_version": "1.5.0",
          "state": {
            "_dom_classes": [],
            "_model_module": "@jupyter-widgets/controls",
            "_model_module_version": "1.5.0",
            "_model_name": "HBoxModel",
            "_view_count": null,
            "_view_module": "@jupyter-widgets/controls",
            "_view_module_version": "1.5.0",
            "_view_name": "HBoxView",
            "box_style": "",
            "children": [
              "IPY_MODEL_2477c1ffba6a4af58d5be301d16a185f",
              "IPY_MODEL_f3b4dc88d0284845a1ca0613bcd19f85"
            ],
            "layout": "IPY_MODEL_4e2b5698280d4b74a51ddae8ed083f11"
          }
        },
        "2477c1ffba6a4af58d5be301d16a185f": {
          "model_module": "@jupyter-widgets/controls",
          "model_name": "ButtonModel",
          "model_module_version": "1.5.0",
          "state": {
            "_dom_classes": [],
            "_model_module": "@jupyter-widgets/controls",
            "_model_module_version": "1.5.0",
            "_model_name": "ButtonModel",
            "_view_count": null,
            "_view_module": "@jupyter-widgets/controls",
            "_view_module_version": "1.5.0",
            "_view_name": "ButtonView",
            "button_style": "",
            "description": "tmpdvxocq7t.pdf",
            "disabled": false,
            "icon": "",
            "layout": "IPY_MODEL_3e30f839a84d497dacf3502ca8206b74",
            "style": "IPY_MODEL_36fe268b8f594c37a99fea1391250b40",
            "tooltip": ""
          }
        },
        "f3b4dc88d0284845a1ca0613bcd19f85": {
          "model_module": "@jupyter-widgets/controls",
          "model_name": "ButtonModel",
          "model_module_version": "1.5.0",
          "state": {
            "_dom_classes": [],
            "_model_module": "@jupyter-widgets/controls",
            "_model_module_version": "1.5.0",
            "_model_name": "ButtonModel",
            "_view_count": null,
            "_view_module": "@jupyter-widgets/controls",
            "_view_module_version": "1.5.0",
            "_view_name": "ButtonView",
            "button_style": "",
            "description": "tmpldeljxca.svg",
            "disabled": false,
            "icon": "",
            "layout": "IPY_MODEL_f3de99645f39423d9ab7312526250efa",
            "style": "IPY_MODEL_dbd220c80cd04d00bf1bc80e87aaaaa3",
            "tooltip": ""
          }
        },
        "4e2b5698280d4b74a51ddae8ed083f11": {
          "model_module": "@jupyter-widgets/base",
          "model_name": "LayoutModel",
          "model_module_version": "1.2.0",
          "state": {
            "_model_module": "@jupyter-widgets/base",
            "_model_module_version": "1.2.0",
            "_model_name": "LayoutModel",
            "_view_count": null,
            "_view_module": "@jupyter-widgets/base",
            "_view_module_version": "1.2.0",
            "_view_name": "LayoutView",
            "align_content": null,
            "align_items": null,
            "align_self": null,
            "border": null,
            "bottom": null,
            "display": null,
            "flex": null,
            "flex_flow": null,
            "grid_area": null,
            "grid_auto_columns": null,
            "grid_auto_flow": null,
            "grid_auto_rows": null,
            "grid_column": null,
            "grid_gap": null,
            "grid_row": null,
            "grid_template_areas": null,
            "grid_template_columns": null,
            "grid_template_rows": null,
            "height": null,
            "justify_content": null,
            "justify_items": null,
            "left": null,
            "margin": null,
            "max_height": null,
            "max_width": null,
            "min_height": null,
            "min_width": null,
            "object_fit": null,
            "object_position": null,
            "order": null,
            "overflow": null,
            "overflow_x": null,
            "overflow_y": null,
            "padding": null,
            "right": null,
            "top": null,
            "visibility": null,
            "width": null
          }
        },
        "3e30f839a84d497dacf3502ca8206b74": {
          "model_module": "@jupyter-widgets/base",
          "model_name": "LayoutModel",
          "model_module_version": "1.2.0",
          "state": {
            "_model_module": "@jupyter-widgets/base",
            "_model_module_version": "1.2.0",
            "_model_name": "LayoutModel",
            "_view_count": null,
            "_view_module": "@jupyter-widgets/base",
            "_view_module_version": "1.2.0",
            "_view_name": "LayoutView",
            "align_content": null,
            "align_items": null,
            "align_self": null,
            "border": null,
            "bottom": null,
            "display": null,
            "flex": null,
            "flex_flow": null,
            "grid_area": null,
            "grid_auto_columns": null,
            "grid_auto_flow": null,
            "grid_auto_rows": null,
            "grid_column": null,
            "grid_gap": null,
            "grid_row": null,
            "grid_template_areas": null,
            "grid_template_columns": null,
            "grid_template_rows": null,
            "height": null,
            "justify_content": null,
            "justify_items": null,
            "left": null,
            "margin": null,
            "max_height": null,
            "max_width": null,
            "min_height": null,
            "min_width": null,
            "object_fit": null,
            "object_position": null,
            "order": null,
            "overflow": null,
            "overflow_x": null,
            "overflow_y": null,
            "padding": null,
            "right": null,
            "top": null,
            "visibility": null,
            "width": null
          }
        },
        "36fe268b8f594c37a99fea1391250b40": {
          "model_module": "@jupyter-widgets/controls",
          "model_name": "ButtonStyleModel",
          "model_module_version": "1.5.0",
          "state": {
            "_model_module": "@jupyter-widgets/controls",
            "_model_module_version": "1.5.0",
            "_model_name": "ButtonStyleModel",
            "_view_count": null,
            "_view_module": "@jupyter-widgets/base",
            "_view_module_version": "1.2.0",
            "_view_name": "StyleView",
            "button_color": null,
            "font_weight": ""
          }
        },
        "f3de99645f39423d9ab7312526250efa": {
          "model_module": "@jupyter-widgets/base",
          "model_name": "LayoutModel",
          "model_module_version": "1.2.0",
          "state": {
            "_model_module": "@jupyter-widgets/base",
            "_model_module_version": "1.2.0",
            "_model_name": "LayoutModel",
            "_view_count": null,
            "_view_module": "@jupyter-widgets/base",
            "_view_module_version": "1.2.0",
            "_view_name": "LayoutView",
            "align_content": null,
            "align_items": null,
            "align_self": null,
            "border": null,
            "bottom": null,
            "display": null,
            "flex": null,
            "flex_flow": null,
            "grid_area": null,
            "grid_auto_columns": null,
            "grid_auto_flow": null,
            "grid_auto_rows": null,
            "grid_column": null,
            "grid_gap": null,
            "grid_row": null,
            "grid_template_areas": null,
            "grid_template_columns": null,
            "grid_template_rows": null,
            "height": null,
            "justify_content": null,
            "justify_items": null,
            "left": null,
            "margin": null,
            "max_height": null,
            "max_width": null,
            "min_height": null,
            "min_width": null,
            "object_fit": null,
            "object_position": null,
            "order": null,
            "overflow": null,
            "overflow_x": null,
            "overflow_y": null,
            "padding": null,
            "right": null,
            "top": null,
            "visibility": null,
            "width": null
          }
        },
        "dbd220c80cd04d00bf1bc80e87aaaaa3": {
          "model_module": "@jupyter-widgets/controls",
          "model_name": "ButtonStyleModel",
          "model_module_version": "1.5.0",
          "state": {
            "_model_module": "@jupyter-widgets/controls",
            "_model_module_version": "1.5.0",
            "_model_name": "ButtonStyleModel",
            "_view_count": null,
            "_view_module": "@jupyter-widgets/base",
            "_view_module_version": "1.2.0",
            "_view_name": "StyleView",
            "button_color": null,
            "font_weight": ""
          }
        },
        "c87f15a8b8b3402fb56e51bccef26a50": {
          "model_module": "@jupyter-widgets/controls",
          "model_name": "HBoxModel",
          "model_module_version": "1.5.0",
          "state": {
            "_dom_classes": [],
            "_model_module": "@jupyter-widgets/controls",
            "_model_module_version": "1.5.0",
            "_model_name": "HBoxModel",
            "_view_count": null,
            "_view_module": "@jupyter-widgets/controls",
            "_view_module_version": "1.5.0",
            "_view_name": "HBoxView",
            "box_style": "",
            "children": [
              "IPY_MODEL_9a08c83a00964f57a1ccbc21618762da",
              "IPY_MODEL_3104d35204ed4fc786372614a0d370dd"
            ],
            "layout": "IPY_MODEL_33a0eb19adc84d00ab141e9f413ee051"
          }
        },
        "9a08c83a00964f57a1ccbc21618762da": {
          "model_module": "@jupyter-widgets/controls",
          "model_name": "ButtonModel",
          "model_module_version": "1.5.0",
          "state": {
            "_dom_classes": [],
            "_model_module": "@jupyter-widgets/controls",
            "_model_module_version": "1.5.0",
            "_model_name": "ButtonModel",
            "_view_count": null,
            "_view_module": "@jupyter-widgets/controls",
            "_view_module_version": "1.5.0",
            "_view_name": "ButtonView",
            "button_style": "",
            "description": "tmpimlmxea_.pdf",
            "disabled": false,
            "icon": "",
            "layout": "IPY_MODEL_349033a86ada4d92a48a0991a856ad06",
            "style": "IPY_MODEL_538ce871c5e34e7a8694083d9653fdbd",
            "tooltip": ""
          }
        },
        "3104d35204ed4fc786372614a0d370dd": {
          "model_module": "@jupyter-widgets/controls",
          "model_name": "ButtonModel",
          "model_module_version": "1.5.0",
          "state": {
            "_dom_classes": [],
            "_model_module": "@jupyter-widgets/controls",
            "_model_module_version": "1.5.0",
            "_model_name": "ButtonModel",
            "_view_count": null,
            "_view_module": "@jupyter-widgets/controls",
            "_view_module_version": "1.5.0",
            "_view_name": "ButtonView",
            "button_style": "",
            "description": "tmp5li7ba3e.svg",
            "disabled": false,
            "icon": "",
            "layout": "IPY_MODEL_171c3102fbab46bebd2136a6039d900f",
            "style": "IPY_MODEL_b9f8b0f68bf942cb9b0fe2be4e13c7c6",
            "tooltip": ""
          }
        },
        "33a0eb19adc84d00ab141e9f413ee051": {
          "model_module": "@jupyter-widgets/base",
          "model_name": "LayoutModel",
          "model_module_version": "1.2.0",
          "state": {
            "_model_module": "@jupyter-widgets/base",
            "_model_module_version": "1.2.0",
            "_model_name": "LayoutModel",
            "_view_count": null,
            "_view_module": "@jupyter-widgets/base",
            "_view_module_version": "1.2.0",
            "_view_name": "LayoutView",
            "align_content": null,
            "align_items": null,
            "align_self": null,
            "border": null,
            "bottom": null,
            "display": null,
            "flex": null,
            "flex_flow": null,
            "grid_area": null,
            "grid_auto_columns": null,
            "grid_auto_flow": null,
            "grid_auto_rows": null,
            "grid_column": null,
            "grid_gap": null,
            "grid_row": null,
            "grid_template_areas": null,
            "grid_template_columns": null,
            "grid_template_rows": null,
            "height": null,
            "justify_content": null,
            "justify_items": null,
            "left": null,
            "margin": null,
            "max_height": null,
            "max_width": null,
            "min_height": null,
            "min_width": null,
            "object_fit": null,
            "object_position": null,
            "order": null,
            "overflow": null,
            "overflow_x": null,
            "overflow_y": null,
            "padding": null,
            "right": null,
            "top": null,
            "visibility": null,
            "width": null
          }
        },
        "349033a86ada4d92a48a0991a856ad06": {
          "model_module": "@jupyter-widgets/base",
          "model_name": "LayoutModel",
          "model_module_version": "1.2.0",
          "state": {
            "_model_module": "@jupyter-widgets/base",
            "_model_module_version": "1.2.0",
            "_model_name": "LayoutModel",
            "_view_count": null,
            "_view_module": "@jupyter-widgets/base",
            "_view_module_version": "1.2.0",
            "_view_name": "LayoutView",
            "align_content": null,
            "align_items": null,
            "align_self": null,
            "border": null,
            "bottom": null,
            "display": null,
            "flex": null,
            "flex_flow": null,
            "grid_area": null,
            "grid_auto_columns": null,
            "grid_auto_flow": null,
            "grid_auto_rows": null,
            "grid_column": null,
            "grid_gap": null,
            "grid_row": null,
            "grid_template_areas": null,
            "grid_template_columns": null,
            "grid_template_rows": null,
            "height": null,
            "justify_content": null,
            "justify_items": null,
            "left": null,
            "margin": null,
            "max_height": null,
            "max_width": null,
            "min_height": null,
            "min_width": null,
            "object_fit": null,
            "object_position": null,
            "order": null,
            "overflow": null,
            "overflow_x": null,
            "overflow_y": null,
            "padding": null,
            "right": null,
            "top": null,
            "visibility": null,
            "width": null
          }
        },
        "538ce871c5e34e7a8694083d9653fdbd": {
          "model_module": "@jupyter-widgets/controls",
          "model_name": "ButtonStyleModel",
          "model_module_version": "1.5.0",
          "state": {
            "_model_module": "@jupyter-widgets/controls",
            "_model_module_version": "1.5.0",
            "_model_name": "ButtonStyleModel",
            "_view_count": null,
            "_view_module": "@jupyter-widgets/base",
            "_view_module_version": "1.2.0",
            "_view_name": "StyleView",
            "button_color": null,
            "font_weight": ""
          }
        },
        "171c3102fbab46bebd2136a6039d900f": {
          "model_module": "@jupyter-widgets/base",
          "model_name": "LayoutModel",
          "model_module_version": "1.2.0",
          "state": {
            "_model_module": "@jupyter-widgets/base",
            "_model_module_version": "1.2.0",
            "_model_name": "LayoutModel",
            "_view_count": null,
            "_view_module": "@jupyter-widgets/base",
            "_view_module_version": "1.2.0",
            "_view_name": "LayoutView",
            "align_content": null,
            "align_items": null,
            "align_self": null,
            "border": null,
            "bottom": null,
            "display": null,
            "flex": null,
            "flex_flow": null,
            "grid_area": null,
            "grid_auto_columns": null,
            "grid_auto_flow": null,
            "grid_auto_rows": null,
            "grid_column": null,
            "grid_gap": null,
            "grid_row": null,
            "grid_template_areas": null,
            "grid_template_columns": null,
            "grid_template_rows": null,
            "height": null,
            "justify_content": null,
            "justify_items": null,
            "left": null,
            "margin": null,
            "max_height": null,
            "max_width": null,
            "min_height": null,
            "min_width": null,
            "object_fit": null,
            "object_position": null,
            "order": null,
            "overflow": null,
            "overflow_x": null,
            "overflow_y": null,
            "padding": null,
            "right": null,
            "top": null,
            "visibility": null,
            "width": null
          }
        },
        "b9f8b0f68bf942cb9b0fe2be4e13c7c6": {
          "model_module": "@jupyter-widgets/controls",
          "model_name": "ButtonStyleModel",
          "model_module_version": "1.5.0",
          "state": {
            "_model_module": "@jupyter-widgets/controls",
            "_model_module_version": "1.5.0",
            "_model_name": "ButtonStyleModel",
            "_view_count": null,
            "_view_module": "@jupyter-widgets/base",
            "_view_module_version": "1.2.0",
            "_view_name": "StyleView",
            "button_color": null,
            "font_weight": ""
          }
        }
      }
    }
  },
  "cells": [
    {
      "cell_type": "markdown",
      "source": [
        "# Modelling of physical systems - assignment for lab04\n",
        "**Author: Przemysław Maresz**"
      ],
      "metadata": {
        "id": "_-Pzrjsi8KlR"
      }
    },
    {
      "cell_type": "markdown",
      "source": [
        "##Goal  \n",
        "Implement a 2D Monte Carlo particle advection on a periodic grid under constant wind and validate against the exact solution for a Gaussian initial distribution."
      ],
      "metadata": {
        "id": "A0dcHIwr8ON6"
      }
    },
    {
      "cell_type": "code",
      "source": [
        "\"\"\" notebook code targetting 100% `nbqa pylint` score! :) \"\"\"\n",
        "\n",
        "from types import SimpleNamespace\n",
        "import numpy as np\n",
        "from matplotlib import pyplot\n",
        "import scipy.stats\n",
        "from open_atmos_jupyter_utils import show_plot"
      ],
      "metadata": {
        "id": "fs7cyud0hBYH"
      },
      "execution_count": 70,
      "outputs": []
    },
    {
      "cell_type": "markdown",
      "source": [
        "##Approach:\n",
        "1. Sample `N = 50 000` particles from a 2D normal PDF onto a 32×32 grid.  \n",
        "2. March each particle with probability = Courant number in x and y.  \n",
        "3. Reconstruct the density histogram and overlay analytic contours shifted by the total wind displacement."
      ],
      "metadata": {
        "id": "IAfMdqCF8j4a"
      }
    },
    {
      "cell_type": "code",
      "source": [
        "PARAMS_P = SimpleNamespace(\n",
        "    n_part=50000,\n",
        "    norm=1e10,\n",
        "    initial_loc=[250, 250],\n",
        "    initial_scale=50,\n",
        "    dist=None\n",
        ")\n",
        "\n",
        "PARAMS_X = SimpleNamespace(\n",
        "    n_cell_x=32,\n",
        "    n_cell_y=32,\n",
        "    span_x=1000,\n",
        "    span_y=1000,\n",
        "    step_x=None,\n",
        "    step_y=None\n",
        ")\n",
        "PARAMS_X.step_x = PARAMS_X.span_x / PARAMS_X.n_cell_x\n",
        "PARAMS_X.step_y = PARAMS_X.span_y / PARAMS_X.n_cell_y\n",
        "\n",
        "PARAMS_P.dist = scipy.stats.multivariate_normal(\n",
        "    mean=PARAMS_P.initial_loc,\n",
        "    cov=[[PARAMS_P.initial_scale**2, 0], [0, PARAMS_P.initial_scale**2]]\n",
        ")\n",
        "\n",
        "PARAMS_T = SimpleNamespace(\n",
        "    span=300,\n",
        "    n_step=60,\n",
        "    wind_x=1.5,\n",
        "    wind_y=1.0,\n",
        "    step=None,\n",
        "    courant_number_x=None,\n",
        "    courant_number_y=None\n",
        ")\n",
        "PARAMS_T.step = PARAMS_T.span / PARAMS_T.n_step\n",
        "\n",
        "PARAMS_T.courant_number_x = PARAMS_T.wind_x / PARAMS_X.step_x * PARAMS_T.step\n",
        "PARAMS_T.courant_number_y = PARAMS_T.wind_y / PARAMS_X.step_y * PARAMS_T.step\n",
        "\n",
        "RNG = np.random.default_rng(seed=44)"
      ],
      "metadata": {
        "id": "OVsBoQsJhGrp"
      },
      "execution_count": 71,
      "outputs": []
    },
    {
      "cell_type": "code",
      "source": [
        "def sample_2d(*, params_p, params_x, rng):\n",
        "    \"\"\"\n",
        "    Samples a 2D particle population onto a 2D grid.\n",
        "    Returns a dictionary with particle positions and multiplicities.\n",
        "    \"\"\"\n",
        "    pos = (\n",
        "        rng.uniform(low=0, high=params_x.span_x, size=params_p.n_part),\n",
        "        rng.uniform(low=0, high=params_x.span_y, size=params_p.n_part)\n",
        "    )\n",
        "\n",
        "    multiplicity = params_p.dist.pdf(np.stack(pos, axis=-1)) * (\n",
        "        (params_x.span_x * params_x.span_y) / params_p.n_part)\n",
        "\n",
        "    cell_indices_x = (pos[0] / params_x.step_x).astype(int)\n",
        "    cell_indices_y = (pos[1] / params_x.step_y).astype(int)\n",
        "\n",
        "    cell_indices_x = np.clip(cell_indices_x, 0, params_x.n_cell_x - 1)\n",
        "    cell_indices_y = np.clip(cell_indices_y, 0, params_x.n_cell_y - 1)\n",
        "    cell_indices = np.stack((cell_indices_x, cell_indices_y), axis=-1)\n",
        "\n",
        "    return {\n",
        "        'sampling: uniform random in xy': {\n",
        "            'cell': cell_indices,\n",
        "            'mult': np.round(multiplicity * params_p.norm).astype(int),\n",
        "        }\n",
        "    }"
      ],
      "metadata": {
        "id": "PyhKbelEiADz"
      },
      "execution_count": 72,
      "outputs": []
    },
    {
      "cell_type": "code",
      "source": [
        "def plot_2d(*, particles_dict, params_p, params_x, title='', shift=(0, 0)):\n",
        "    \"\"\"\n",
        "    Plots the 2D particle state as a heatmap and the analytical solution.\n",
        "    \"\"\"\n",
        "\n",
        "    fig, ax = pyplot.subplots(figsize=(8, 7), tight_layout=True)\n",
        "\n",
        "    sampling_key = list(particles_dict.keys())[0]\n",
        "    sampling_data = particles_dict[sampling_key]\n",
        "\n",
        "    hist, _, _ = np.histogram2d(\n",
        "        x=sampling_data['cell'][:, 0],\n",
        "        y=sampling_data['cell'][:, 1],\n",
        "        bins=(np.arange(params_x.n_cell_x + 1), np.arange(params_x.n_cell_y + 1)),\n",
        "        weights=(\n",
        "            sampling_data['mult'] / np.sum(sampling_data['mult'])\n",
        "            if np.sum(sampling_data['mult']) > 0 else None\n",
        "            ),\n",
        "    )\n",
        "\n",
        "    img = ax.imshow(\n",
        "        hist.T,\n",
        "        origin='lower',\n",
        "        extent=[0, params_x.n_cell_x, 0, params_x.n_cell_y],\n",
        "        aspect='auto',\n",
        "        cmap='viridis',\n",
        "        interpolation='nearest'\n",
        "    )\n",
        "    fig.colorbar(img, ax=ax, label='Normalized Particle Density')\n",
        "\n",
        "    xx, yy = np.meshgrid(\n",
        "        np.linspace(0, params_x.span_x, params_x.n_cell_x * 2),\n",
        "        np.linspace(0, params_x.span_y, params_x.n_cell_y * 2)\n",
        "        )\n",
        "\n",
        "    pdf_values = scipy.stats.multivariate_normal(\n",
        "        mean=[\n",
        "            (params_p.initial_loc[0] + shift[0]) % params_x.span_x,\n",
        "             (params_p.initial_loc[1] + shift[1]) % params_x.span_y],\n",
        "        cov=[[params_p.initial_scale**2, 0], [0, params_p.initial_scale**2]]\n",
        "    ).pdf(np.dstack((xx, yy)))\n",
        "\n",
        "    ax.contour(\n",
        "        xx / params_x.step_x,\n",
        "        yy / params_x.step_y,\n",
        "        pdf_values,\n",
        "        colors='red',\n",
        "        linestyles='dashed',\n",
        "        levels=5,\n",
        "        alpha=0.8\n",
        "    )\n",
        "\n",
        "    ax.plot([], [], color='red', linestyle='dashed', label='Analytic (Shifted)')\n",
        "\n",
        "    ax.set_xlabel(f'x / Δx ({params_x.n_cell_x} cells)')\n",
        "    ax.set_ylabel(f'y / Δy ({params_x.n_cell_y} cells)')\n",
        "    ax.set_title(title or f'2D Particle Distribution ({sampling_key})')\n",
        "    ax.legend()\n",
        "    ax.grid(True, linestyle=':', alpha=0.5)\n",
        "    ax.set_xlim(0, params_x.n_cell_x)\n",
        "    ax.set_ylim(0, params_x.n_cell_y)\n",
        "    show_plot()"
      ],
      "metadata": {
        "id": "uyJoodNYiRm3"
      },
      "execution_count": 73,
      "outputs": []
    },
    {
      "cell_type": "code",
      "source": [
        "PARTICLES = sample_2d(params_p=PARAMS_P, params_x=PARAMS_X, rng=RNG)\n",
        "\n",
        "plot_2d(\n",
        "    particles_dict=PARTICLES,\n",
        "    params_p=PARAMS_P,\n",
        "    params_x=PARAMS_X,\n",
        "    title=f'Initial State (t=0), N_part={PARAMS_P.n_part}'\n",
        ")"
      ],
      "metadata": {
        "colab": {
          "base_uri": "https://localhost:8080/",
          "height": 716,
          "referenced_widgets": [
            "ffafae32d1b045bd99cee74b017b9fd3",
            "2477c1ffba6a4af58d5be301d16a185f",
            "f3b4dc88d0284845a1ca0613bcd19f85",
            "4e2b5698280d4b74a51ddae8ed083f11",
            "3e30f839a84d497dacf3502ca8206b74",
            "36fe268b8f594c37a99fea1391250b40",
            "f3de99645f39423d9ab7312526250efa",
            "dbd220c80cd04d00bf1bc80e87aaaaa3"
          ]
        },
        "id": "ppBzuPQci2Gk",
        "outputId": "149dc40a-94d5-47ff-ed67-54fded7d0bd2"
      },
      "execution_count": 74,
      "outputs": [
        {
          "output_type": "display_data",
          "data": {
            "text/plain": [
              "<Figure size 800x700 with 2 Axes>"
            ],
            "image/svg+xml": "<?xml version=\"1.0\" encoding=\"utf-8\" standalone=\"no\"?>\n<!DOCTYPE svg PUBLIC \"-//W3C//DTD SVG 1.1//EN\"\n  \"http://www.w3.org/Graphics/SVG/1.1/DTD/svg11.dtd\">\n<svg xmlns:xlink=\"http://www.w3.org/1999/xlink\" width=\"555.4405pt\" height=\"496.8pt\" viewBox=\"0 0 555.4405 496.8\" xmlns=\"http://www.w3.org/2000/svg\" version=\"1.1\">\n <metadata>\n  <rdf:RDF xmlns:dc=\"http://purl.org/dc/elements/1.1/\" xmlns:cc=\"http://creativecommons.org/ns#\" xmlns:rdf=\"http://www.w3.org/1999/02/22-rdf-syntax-ns#\">\n   <cc:Work>\n    <dc:type rdf:resource=\"http://purl.org/dc/dcmitype/StillImage\"/>\n    <dc:date>2025-04-17T18:15:50.977898</dc:date>\n    <dc:format>image/svg+xml</dc:format>\n    <dc:creator>\n     <cc:Agent>\n      <dc:title>Matplotlib v3.10.0, https://matplotlib.org/</dc:title>\n     </cc:Agent>\n    </dc:creator>\n   </cc:Work>\n  </rdf:RDF>\n </metadata>\n <defs>\n  <style type=\"text/css\">*{stroke-linejoin: round; stroke-linecap: butt}</style>\n </defs>\n <g id=\"figure_1\">\n  <g id=\"patch_1\">\n   <path d=\"M 0 496.8 \nL 555.4405 496.8 \nL 555.4405 0 \nL 0 0 \nz\n\" style=\"fill: #ffffff\"/>\n  </g>\n  <g id=\"axes_1\">\n   <g id=\"patch_2\">\n    <path d=\"M 40.603125 459.24375 \nL 457.400625 459.24375 \nL 457.400625 22.318125 \nL 40.603125 22.318125 \nz\n\" style=\"fill: #ffffff\"/>\n   </g>\n   <g clip-path=\"url(#p9776636740)\">\n    <image xlink:href=\"data:image/png;base64,\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\" id=\"image377007f48b\" transform=\"scale(1 -1) translate(0 -437.04)\" x=\"40.603125\" y=\"-22.20375\" width=\"416.88\" height=\"437.04\"/>\n   </g>\n   <g id=\"matplotlib.axis_1\">\n    <g id=\"xtick_1\">\n     <g id=\"line2d_1\">\n      <path d=\"M 40.603125 459.24375 \nL 40.603125 22.318125 \n\" clip-path=\"url(#p9776636740)\" style=\"fill: none; stroke-dasharray: 0.8,1.32; stroke-dashoffset: 0; stroke: #b0b0b0; stroke-opacity: 0.5; stroke-width: 0.8\"/>\n     </g>\n     <g id=\"line2d_2\">\n      <defs>\n       <path id=\"m980fcd432a\" d=\"M 0 0 \nL 0 3.5 \n\" style=\"stroke: #000000; stroke-width: 0.8\"/>\n      </defs>\n      <g>\n       <use xlink:href=\"#m980fcd432a\" x=\"40.603125\" y=\"459.24375\" style=\"stroke: #000000; stroke-width: 0.8\"/>\n      </g>\n     </g>\n     <g id=\"text_1\">\n      <!-- 0 -->\n      <g transform=\"translate(37.421875 473.842187) scale(0.1 -0.1)\">\n       <defs>\n        <path id=\"DejaVuSans-30\" d=\"M 2034 4250 \nQ 1547 4250 1301 3770 \nQ 1056 3291 1056 2328 \nQ 1056 1369 1301 889 \nQ 1547 409 2034 409 \nQ 2525 409 2770 889 \nQ 3016 1369 3016 2328 \nQ 3016 3291 2770 3770 \nQ 2525 4250 2034 4250 \nz\nM 2034 4750 \nQ 2819 4750 3233 4129 \nQ 3647 3509 3647 2328 \nQ 3647 1150 3233 529 \nQ 2819 -91 2034 -91 \nQ 1250 -91 836 529 \nQ 422 1150 422 2328 \nQ 422 3509 836 4129 \nQ 1250 4750 2034 4750 \nz\n\" transform=\"scale(0.015625)\"/>\n       </defs>\n       <use xlink:href=\"#DejaVuSans-30\"/>\n      </g>\n     </g>\n    </g>\n    <g id=\"xtick_2\">\n     <g id=\"line2d_3\">\n      <path d=\"M 105.727734 459.24375 \nL 105.727734 22.318125 \n\" clip-path=\"url(#p9776636740)\" style=\"fill: none; stroke-dasharray: 0.8,1.32; stroke-dashoffset: 0; stroke: #b0b0b0; stroke-opacity: 0.5; stroke-width: 0.8\"/>\n     </g>\n     <g id=\"line2d_4\">\n      <g>\n       <use xlink:href=\"#m980fcd432a\" x=\"105.727734\" y=\"459.24375\" style=\"stroke: #000000; stroke-width: 0.8\"/>\n      </g>\n     </g>\n     <g id=\"text_2\">\n      <!-- 5 -->\n      <g transform=\"translate(102.546484 473.842187) scale(0.1 -0.1)\">\n       <defs>\n        <path id=\"DejaVuSans-35\" d=\"M 691 4666 \nL 3169 4666 \nL 3169 4134 \nL 1269 4134 \nL 1269 2991 \nQ 1406 3038 1543 3061 \nQ 1681 3084 1819 3084 \nQ 2600 3084 3056 2656 \nQ 3513 2228 3513 1497 \nQ 3513 744 3044 326 \nQ 2575 -91 1722 -91 \nQ 1428 -91 1123 -41 \nQ 819 9 494 109 \nL 494 744 \nQ 775 591 1075 516 \nQ 1375 441 1709 441 \nQ 2250 441 2565 725 \nQ 2881 1009 2881 1497 \nQ 2881 1984 2565 2268 \nQ 2250 2553 1709 2553 \nQ 1456 2553 1204 2497 \nQ 953 2441 691 2322 \nL 691 4666 \nz\n\" transform=\"scale(0.015625)\"/>\n       </defs>\n       <use xlink:href=\"#DejaVuSans-35\"/>\n      </g>\n     </g>\n    </g>\n    <g id=\"xtick_3\">\n     <g id=\"line2d_5\">\n      <path d=\"M 170.852344 459.24375 \nL 170.852344 22.318125 \n\" clip-path=\"url(#p9776636740)\" style=\"fill: none; stroke-dasharray: 0.8,1.32; stroke-dashoffset: 0; stroke: #b0b0b0; stroke-opacity: 0.5; stroke-width: 0.8\"/>\n     </g>\n     <g id=\"line2d_6\">\n      <g>\n       <use xlink:href=\"#m980fcd432a\" x=\"170.852344\" y=\"459.24375\" style=\"stroke: #000000; stroke-width: 0.8\"/>\n      </g>\n     </g>\n     <g id=\"text_3\">\n      <!-- 10 -->\n      <g transform=\"translate(164.489844 473.842187) scale(0.1 -0.1)\">\n       <defs>\n        <path id=\"DejaVuSans-31\" d=\"M 794 531 \nL 1825 531 \nL 1825 4091 \nL 703 3866 \nL 703 4441 \nL 1819 4666 \nL 2450 4666 \nL 2450 531 \nL 3481 531 \nL 3481 0 \nL 794 0 \nL 794 531 \nz\n\" transform=\"scale(0.015625)\"/>\n       </defs>\n       <use xlink:href=\"#DejaVuSans-31\"/>\n       <use xlink:href=\"#DejaVuSans-30\" transform=\"translate(63.623047 0)\"/>\n      </g>\n     </g>\n    </g>\n    <g id=\"xtick_4\">\n     <g id=\"line2d_7\">\n      <path d=\"M 235.976953 459.24375 \nL 235.976953 22.318125 \n\" clip-path=\"url(#p9776636740)\" style=\"fill: none; stroke-dasharray: 0.8,1.32; stroke-dashoffset: 0; stroke: #b0b0b0; stroke-opacity: 0.5; stroke-width: 0.8\"/>\n     </g>\n     <g id=\"line2d_8\">\n      <g>\n       <use xlink:href=\"#m980fcd432a\" x=\"235.976953\" y=\"459.24375\" style=\"stroke: #000000; stroke-width: 0.8\"/>\n      </g>\n     </g>\n     <g id=\"text_4\">\n      <!-- 15 -->\n      <g transform=\"translate(229.614453 473.842187) scale(0.1 -0.1)\">\n       <use xlink:href=\"#DejaVuSans-31\"/>\n       <use xlink:href=\"#DejaVuSans-35\" transform=\"translate(63.623047 0)\"/>\n      </g>\n     </g>\n    </g>\n    <g id=\"xtick_5\">\n     <g id=\"line2d_9\">\n      <path d=\"M 301.101562 459.24375 \nL 301.101562 22.318125 \n\" clip-path=\"url(#p9776636740)\" style=\"fill: none; stroke-dasharray: 0.8,1.32; stroke-dashoffset: 0; stroke: #b0b0b0; stroke-opacity: 0.5; stroke-width: 0.8\"/>\n     </g>\n     <g id=\"line2d_10\">\n      <g>\n       <use xlink:href=\"#m980fcd432a\" x=\"301.101562\" y=\"459.24375\" style=\"stroke: #000000; stroke-width: 0.8\"/>\n      </g>\n     </g>\n     <g id=\"text_5\">\n      <!-- 20 -->\n      <g transform=\"translate(294.739062 473.842187) scale(0.1 -0.1)\">\n       <defs>\n        <path id=\"DejaVuSans-32\" d=\"M 1228 531 \nL 3431 531 \nL 3431 0 \nL 469 0 \nL 469 531 \nQ 828 903 1448 1529 \nQ 2069 2156 2228 2338 \nQ 2531 2678 2651 2914 \nQ 2772 3150 2772 3378 \nQ 2772 3750 2511 3984 \nQ 2250 4219 1831 4219 \nQ 1534 4219 1204 4116 \nQ 875 4013 500 3803 \nL 500 4441 \nQ 881 4594 1212 4672 \nQ 1544 4750 1819 4750 \nQ 2544 4750 2975 4387 \nQ 3406 4025 3406 3419 \nQ 3406 3131 3298 2873 \nQ 3191 2616 2906 2266 \nQ 2828 2175 2409 1742 \nQ 1991 1309 1228 531 \nz\n\" transform=\"scale(0.015625)\"/>\n       </defs>\n       <use xlink:href=\"#DejaVuSans-32\"/>\n       <use xlink:href=\"#DejaVuSans-30\" transform=\"translate(63.623047 0)\"/>\n      </g>\n     </g>\n    </g>\n    <g id=\"xtick_6\">\n     <g id=\"line2d_11\">\n      <path d=\"M 366.226172 459.24375 \nL 366.226172 22.318125 \n\" clip-path=\"url(#p9776636740)\" style=\"fill: none; stroke-dasharray: 0.8,1.32; stroke-dashoffset: 0; stroke: #b0b0b0; stroke-opacity: 0.5; stroke-width: 0.8\"/>\n     </g>\n     <g id=\"line2d_12\">\n      <g>\n       <use xlink:href=\"#m980fcd432a\" x=\"366.226172\" y=\"459.24375\" style=\"stroke: #000000; stroke-width: 0.8\"/>\n      </g>\n     </g>\n     <g id=\"text_6\">\n      <!-- 25 -->\n      <g transform=\"translate(359.863672 473.842187) scale(0.1 -0.1)\">\n       <use xlink:href=\"#DejaVuSans-32\"/>\n       <use xlink:href=\"#DejaVuSans-35\" transform=\"translate(63.623047 0)\"/>\n      </g>\n     </g>\n    </g>\n    <g id=\"xtick_7\">\n     <g id=\"line2d_13\">\n      <path d=\"M 431.350781 459.24375 \nL 431.350781 22.318125 \n\" clip-path=\"url(#p9776636740)\" style=\"fill: none; stroke-dasharray: 0.8,1.32; stroke-dashoffset: 0; stroke: #b0b0b0; stroke-opacity: 0.5; stroke-width: 0.8\"/>\n     </g>\n     <g id=\"line2d_14\">\n      <g>\n       <use xlink:href=\"#m980fcd432a\" x=\"431.350781\" y=\"459.24375\" style=\"stroke: #000000; stroke-width: 0.8\"/>\n      </g>\n     </g>\n     <g id=\"text_7\">\n      <!-- 30 -->\n      <g transform=\"translate(424.988281 473.842187) scale(0.1 -0.1)\">\n       <defs>\n        <path id=\"DejaVuSans-33\" d=\"M 2597 2516 \nQ 3050 2419 3304 2112 \nQ 3559 1806 3559 1356 \nQ 3559 666 3084 287 \nQ 2609 -91 1734 -91 \nQ 1441 -91 1130 -33 \nQ 819 25 488 141 \nL 488 750 \nQ 750 597 1062 519 \nQ 1375 441 1716 441 \nQ 2309 441 2620 675 \nQ 2931 909 2931 1356 \nQ 2931 1769 2642 2001 \nQ 2353 2234 1838 2234 \nL 1294 2234 \nL 1294 2753 \nL 1863 2753 \nQ 2328 2753 2575 2939 \nQ 2822 3125 2822 3475 \nQ 2822 3834 2567 4026 \nQ 2313 4219 1838 4219 \nQ 1578 4219 1281 4162 \nQ 984 4106 628 3988 \nL 628 4550 \nQ 988 4650 1302 4700 \nQ 1616 4750 1894 4750 \nQ 2613 4750 3031 4423 \nQ 3450 4097 3450 3541 \nQ 3450 3153 3228 2886 \nQ 3006 2619 2597 2516 \nz\n\" transform=\"scale(0.015625)\"/>\n       </defs>\n       <use xlink:href=\"#DejaVuSans-33\"/>\n       <use xlink:href=\"#DejaVuSans-30\" transform=\"translate(63.623047 0)\"/>\n      </g>\n     </g>\n    </g>\n    <g id=\"text_8\">\n     <!-- x / Δx (32 cells) -->\n     <g transform=\"translate(210.149531 487.520312) scale(0.1 -0.1)\">\n      <defs>\n       <path id=\"DejaVuSans-78\" d=\"M 3513 3500 \nL 2247 1797 \nL 3578 0 \nL 2900 0 \nL 1881 1375 \nL 863 0 \nL 184 0 \nL 1544 1831 \nL 300 3500 \nL 978 3500 \nL 1906 2253 \nL 2834 3500 \nL 3513 3500 \nz\n\" transform=\"scale(0.015625)\"/>\n       <path id=\"DejaVuSans-20\" transform=\"scale(0.015625)\"/>\n       <path id=\"DejaVuSans-2f\" d=\"M 1625 4666 \nL 2156 4666 \nL 531 -594 \nL 0 -594 \nL 1625 4666 \nz\n\" transform=\"scale(0.015625)\"/>\n       <path id=\"DejaVuSans-394\" d=\"M 2188 4044 \nL 906 525 \nL 3472 525 \nL 2188 4044 \nz\nM 50 0 \nL 1831 4666 \nL 2547 4666 \nL 4325 0 \nL 50 0 \nz\n\" transform=\"scale(0.015625)\"/>\n       <path id=\"DejaVuSans-28\" d=\"M 1984 4856 \nQ 1566 4138 1362 3434 \nQ 1159 2731 1159 2009 \nQ 1159 1288 1364 580 \nQ 1569 -128 1984 -844 \nL 1484 -844 \nQ 1016 -109 783 600 \nQ 550 1309 550 2009 \nQ 550 2706 781 3412 \nQ 1013 4119 1484 4856 \nL 1984 4856 \nz\n\" transform=\"scale(0.015625)\"/>\n       <path id=\"DejaVuSans-63\" d=\"M 3122 3366 \nL 3122 2828 \nQ 2878 2963 2633 3030 \nQ 2388 3097 2138 3097 \nQ 1578 3097 1268 2742 \nQ 959 2388 959 1747 \nQ 959 1106 1268 751 \nQ 1578 397 2138 397 \nQ 2388 397 2633 464 \nQ 2878 531 3122 666 \nL 3122 134 \nQ 2881 22 2623 -34 \nQ 2366 -91 2075 -91 \nQ 1284 -91 818 406 \nQ 353 903 353 1747 \nQ 353 2603 823 3093 \nQ 1294 3584 2113 3584 \nQ 2378 3584 2631 3529 \nQ 2884 3475 3122 3366 \nz\n\" transform=\"scale(0.015625)\"/>\n       <path id=\"DejaVuSans-65\" d=\"M 3597 1894 \nL 3597 1613 \nL 953 1613 \nQ 991 1019 1311 708 \nQ 1631 397 2203 397 \nQ 2534 397 2845 478 \nQ 3156 559 3463 722 \nL 3463 178 \nQ 3153 47 2828 -22 \nQ 2503 -91 2169 -91 \nQ 1331 -91 842 396 \nQ 353 884 353 1716 \nQ 353 2575 817 3079 \nQ 1281 3584 2069 3584 \nQ 2775 3584 3186 3129 \nQ 3597 2675 3597 1894 \nz\nM 3022 2063 \nQ 3016 2534 2758 2815 \nQ 2500 3097 2075 3097 \nQ 1594 3097 1305 2825 \nQ 1016 2553 972 2059 \nL 3022 2063 \nz\n\" transform=\"scale(0.015625)\"/>\n       <path id=\"DejaVuSans-6c\" d=\"M 603 4863 \nL 1178 4863 \nL 1178 0 \nL 603 0 \nL 603 4863 \nz\n\" transform=\"scale(0.015625)\"/>\n       <path id=\"DejaVuSans-73\" d=\"M 2834 3397 \nL 2834 2853 \nQ 2591 2978 2328 3040 \nQ 2066 3103 1784 3103 \nQ 1356 3103 1142 2972 \nQ 928 2841 928 2578 \nQ 928 2378 1081 2264 \nQ 1234 2150 1697 2047 \nL 1894 2003 \nQ 2506 1872 2764 1633 \nQ 3022 1394 3022 966 \nQ 3022 478 2636 193 \nQ 2250 -91 1575 -91 \nQ 1294 -91 989 -36 \nQ 684 19 347 128 \nL 347 722 \nQ 666 556 975 473 \nQ 1284 391 1588 391 \nQ 1994 391 2212 530 \nQ 2431 669 2431 922 \nQ 2431 1156 2273 1281 \nQ 2116 1406 1581 1522 \nL 1381 1569 \nQ 847 1681 609 1914 \nQ 372 2147 372 2553 \nQ 372 3047 722 3315 \nQ 1072 3584 1716 3584 \nQ 2034 3584 2315 3537 \nQ 2597 3491 2834 3397 \nz\n\" transform=\"scale(0.015625)\"/>\n       <path id=\"DejaVuSans-29\" d=\"M 513 4856 \nL 1013 4856 \nQ 1481 4119 1714 3412 \nQ 1947 2706 1947 2009 \nQ 1947 1309 1714 600 \nQ 1481 -109 1013 -844 \nL 513 -844 \nQ 928 -128 1133 580 \nQ 1338 1288 1338 2009 \nQ 1338 2731 1133 3434 \nQ 928 4138 513 4856 \nz\n\" transform=\"scale(0.015625)\"/>\n      </defs>\n      <use xlink:href=\"#DejaVuSans-78\"/>\n      <use xlink:href=\"#DejaVuSans-20\" transform=\"translate(59.179688 0)\"/>\n      <use xlink:href=\"#DejaVuSans-2f\" transform=\"translate(90.966797 0)\"/>\n      <use xlink:href=\"#DejaVuSans-20\" transform=\"translate(124.658203 0)\"/>\n      <use xlink:href=\"#DejaVuSans-394\" transform=\"translate(156.445312 0)\"/>\n      <use xlink:href=\"#DejaVuSans-78\" transform=\"translate(224.853516 0)\"/>\n      <use xlink:href=\"#DejaVuSans-20\" transform=\"translate(284.033203 0)\"/>\n      <use xlink:href=\"#DejaVuSans-28\" transform=\"translate(315.820312 0)\"/>\n      <use xlink:href=\"#DejaVuSans-33\" transform=\"translate(354.833984 0)\"/>\n      <use xlink:href=\"#DejaVuSans-32\" transform=\"translate(418.457031 0)\"/>\n      <use xlink:href=\"#DejaVuSans-20\" transform=\"translate(482.080078 0)\"/>\n      <use xlink:href=\"#DejaVuSans-63\" transform=\"translate(513.867188 0)\"/>\n      <use xlink:href=\"#DejaVuSans-65\" transform=\"translate(568.847656 0)\"/>\n      <use xlink:href=\"#DejaVuSans-6c\" transform=\"translate(630.371094 0)\"/>\n      <use xlink:href=\"#DejaVuSans-6c\" transform=\"translate(658.154297 0)\"/>\n      <use xlink:href=\"#DejaVuSans-73\" transform=\"translate(685.9375 0)\"/>\n      <use xlink:href=\"#DejaVuSans-29\" transform=\"translate(738.037109 0)\"/>\n     </g>\n    </g>\n   </g>\n   <g id=\"matplotlib.axis_2\">\n    <g id=\"ytick_1\">\n     <g id=\"line2d_15\">\n      <path d=\"M 40.603125 459.24375 \nL 457.400625 459.24375 \n\" clip-path=\"url(#p9776636740)\" style=\"fill: none; stroke-dasharray: 0.8,1.32; stroke-dashoffset: 0; stroke: #b0b0b0; stroke-opacity: 0.5; stroke-width: 0.8\"/>\n     </g>\n     <g id=\"line2d_16\">\n      <defs>\n       <path id=\"m4843e40ffa\" d=\"M 0 0 \nL -3.5 0 \n\" style=\"stroke: #000000; stroke-width: 0.8\"/>\n      </defs>\n      <g>\n       <use xlink:href=\"#m4843e40ffa\" x=\"40.603125\" y=\"459.24375\" style=\"stroke: #000000; stroke-width: 0.8\"/>\n      </g>\n     </g>\n     <g id=\"text_9\">\n      <!-- 0 -->\n      <g transform=\"translate(27.240625 463.042969) scale(0.1 -0.1)\">\n       <use xlink:href=\"#DejaVuSans-30\"/>\n      </g>\n     </g>\n    </g>\n    <g id=\"ytick_2\">\n     <g id=\"line2d_17\">\n      <path d=\"M 40.603125 390.974121 \nL 457.400625 390.974121 \n\" clip-path=\"url(#p9776636740)\" style=\"fill: none; stroke-dasharray: 0.8,1.32; stroke-dashoffset: 0; stroke: #b0b0b0; stroke-opacity: 0.5; stroke-width: 0.8\"/>\n     </g>\n     <g id=\"line2d_18\">\n      <g>\n       <use xlink:href=\"#m4843e40ffa\" x=\"40.603125\" y=\"390.974121\" style=\"stroke: #000000; stroke-width: 0.8\"/>\n      </g>\n     </g>\n     <g id=\"text_10\">\n      <!-- 5 -->\n      <g transform=\"translate(27.240625 394.77334) scale(0.1 -0.1)\">\n       <use xlink:href=\"#DejaVuSans-35\"/>\n      </g>\n     </g>\n    </g>\n    <g id=\"ytick_3\">\n     <g id=\"line2d_19\">\n      <path d=\"M 40.603125 322.704492 \nL 457.400625 322.704492 \n\" clip-path=\"url(#p9776636740)\" style=\"fill: none; stroke-dasharray: 0.8,1.32; stroke-dashoffset: 0; stroke: #b0b0b0; stroke-opacity: 0.5; stroke-width: 0.8\"/>\n     </g>\n     <g id=\"line2d_20\">\n      <g>\n       <use xlink:href=\"#m4843e40ffa\" x=\"40.603125\" y=\"322.704492\" style=\"stroke: #000000; stroke-width: 0.8\"/>\n      </g>\n     </g>\n     <g id=\"text_11\">\n      <!-- 10 -->\n      <g transform=\"translate(20.878125 326.503711) scale(0.1 -0.1)\">\n       <use xlink:href=\"#DejaVuSans-31\"/>\n       <use xlink:href=\"#DejaVuSans-30\" transform=\"translate(63.623047 0)\"/>\n      </g>\n     </g>\n    </g>\n    <g id=\"ytick_4\">\n     <g id=\"line2d_21\">\n      <path d=\"M 40.603125 254.434863 \nL 457.400625 254.434863 \n\" clip-path=\"url(#p9776636740)\" style=\"fill: none; stroke-dasharray: 0.8,1.32; stroke-dashoffset: 0; stroke: #b0b0b0; stroke-opacity: 0.5; stroke-width: 0.8\"/>\n     </g>\n     <g id=\"line2d_22\">\n      <g>\n       <use xlink:href=\"#m4843e40ffa\" x=\"40.603125\" y=\"254.434863\" style=\"stroke: #000000; stroke-width: 0.8\"/>\n      </g>\n     </g>\n     <g id=\"text_12\">\n      <!-- 15 -->\n      <g transform=\"translate(20.878125 258.234082) scale(0.1 -0.1)\">\n       <use xlink:href=\"#DejaVuSans-31\"/>\n       <use xlink:href=\"#DejaVuSans-35\" transform=\"translate(63.623047 0)\"/>\n      </g>\n     </g>\n    </g>\n    <g id=\"ytick_5\">\n     <g id=\"line2d_23\">\n      <path d=\"M 40.603125 186.165234 \nL 457.400625 186.165234 \n\" clip-path=\"url(#p9776636740)\" style=\"fill: none; stroke-dasharray: 0.8,1.32; stroke-dashoffset: 0; stroke: #b0b0b0; stroke-opacity: 0.5; stroke-width: 0.8\"/>\n     </g>\n     <g id=\"line2d_24\">\n      <g>\n       <use xlink:href=\"#m4843e40ffa\" x=\"40.603125\" y=\"186.165234\" style=\"stroke: #000000; stroke-width: 0.8\"/>\n      </g>\n     </g>\n     <g id=\"text_13\">\n      <!-- 20 -->\n      <g transform=\"translate(20.878125 189.964453) scale(0.1 -0.1)\">\n       <use xlink:href=\"#DejaVuSans-32\"/>\n       <use xlink:href=\"#DejaVuSans-30\" transform=\"translate(63.623047 0)\"/>\n      </g>\n     </g>\n    </g>\n    <g id=\"ytick_6\">\n     <g id=\"line2d_25\">\n      <path d=\"M 40.603125 117.895605 \nL 457.400625 117.895605 \n\" clip-path=\"url(#p9776636740)\" style=\"fill: none; stroke-dasharray: 0.8,1.32; stroke-dashoffset: 0; stroke: #b0b0b0; stroke-opacity: 0.5; stroke-width: 0.8\"/>\n     </g>\n     <g id=\"line2d_26\">\n      <g>\n       <use xlink:href=\"#m4843e40ffa\" x=\"40.603125\" y=\"117.895605\" style=\"stroke: #000000; stroke-width: 0.8\"/>\n      </g>\n     </g>\n     <g id=\"text_14\">\n      <!-- 25 -->\n      <g transform=\"translate(20.878125 121.694824) scale(0.1 -0.1)\">\n       <use xlink:href=\"#DejaVuSans-32\"/>\n       <use xlink:href=\"#DejaVuSans-35\" transform=\"translate(63.623047 0)\"/>\n      </g>\n     </g>\n    </g>\n    <g id=\"ytick_7\">\n     <g id=\"line2d_27\">\n      <path d=\"M 40.603125 49.625977 \nL 457.400625 49.625977 \n\" clip-path=\"url(#p9776636740)\" style=\"fill: none; stroke-dasharray: 0.8,1.32; stroke-dashoffset: 0; stroke: #b0b0b0; stroke-opacity: 0.5; stroke-width: 0.8\"/>\n     </g>\n     <g id=\"line2d_28\">\n      <g>\n       <use xlink:href=\"#m4843e40ffa\" x=\"40.603125\" y=\"49.625977\" style=\"stroke: #000000; stroke-width: 0.8\"/>\n      </g>\n     </g>\n     <g id=\"text_15\">\n      <!-- 30 -->\n      <g transform=\"translate(20.878125 53.425195) scale(0.1 -0.1)\">\n       <use xlink:href=\"#DejaVuSans-33\"/>\n       <use xlink:href=\"#DejaVuSans-30\" transform=\"translate(63.623047 0)\"/>\n      </g>\n     </g>\n    </g>\n    <g id=\"text_16\">\n     <!-- y / Δy (32 cells) -->\n     <g transform=\"translate(14.798438 279.633281) rotate(-90) scale(0.1 -0.1)\">\n      <defs>\n       <path id=\"DejaVuSans-79\" d=\"M 2059 -325 \nQ 1816 -950 1584 -1140 \nQ 1353 -1331 966 -1331 \nL 506 -1331 \nL 506 -850 \nL 844 -850 \nQ 1081 -850 1212 -737 \nQ 1344 -625 1503 -206 \nL 1606 56 \nL 191 3500 \nL 800 3500 \nL 1894 763 \nL 2988 3500 \nL 3597 3500 \nL 2059 -325 \nz\n\" transform=\"scale(0.015625)\"/>\n      </defs>\n      <use xlink:href=\"#DejaVuSans-79\"/>\n      <use xlink:href=\"#DejaVuSans-20\" transform=\"translate(59.179688 0)\"/>\n      <use xlink:href=\"#DejaVuSans-2f\" transform=\"translate(90.966797 0)\"/>\n      <use xlink:href=\"#DejaVuSans-20\" transform=\"translate(124.658203 0)\"/>\n      <use xlink:href=\"#DejaVuSans-394\" transform=\"translate(156.445312 0)\"/>\n      <use xlink:href=\"#DejaVuSans-79\" transform=\"translate(224.853516 0)\"/>\n      <use xlink:href=\"#DejaVuSans-20\" transform=\"translate(284.033203 0)\"/>\n      <use xlink:href=\"#DejaVuSans-28\" transform=\"translate(315.820312 0)\"/>\n      <use xlink:href=\"#DejaVuSans-33\" transform=\"translate(354.833984 0)\"/>\n      <use xlink:href=\"#DejaVuSans-32\" transform=\"translate(418.457031 0)\"/>\n      <use xlink:href=\"#DejaVuSans-20\" transform=\"translate(482.080078 0)\"/>\n      <use xlink:href=\"#DejaVuSans-63\" transform=\"translate(513.867188 0)\"/>\n      <use xlink:href=\"#DejaVuSans-65\" transform=\"translate(568.847656 0)\"/>\n      <use xlink:href=\"#DejaVuSans-6c\" transform=\"translate(630.371094 0)\"/>\n      <use xlink:href=\"#DejaVuSans-6c\" transform=\"translate(658.154297 0)\"/>\n      <use xlink:href=\"#DejaVuSans-73\" transform=\"translate(685.9375 0)\"/>\n      <use xlink:href=\"#DejaVuSans-29\" transform=\"translate(738.037109 0)\"/>\n     </g>\n    </g>\n   </g>\n   <g id=\"QuadContourSet_1\">\n    <path clip-path=\"url(#p9776636740)\" style=\"fill: none; stroke-dasharray: 5.55,2.4; stroke-dashoffset: 0; stroke: #ff0000; stroke-opacity: 0.8; stroke-width: 1.5\"/>\n    <path d=\"M 133.224792 385.368421 \nL 139.840625 387.080742 \nL 146.456458 387.398073 \nL 153.072292 386.421582 \nL 159.688125 383.83447 \nL 161.111915 382.955149 \nL 166.303958 379.704184 \nL 170.194666 376.019821 \nL 172.919792 372.634492 \nL 175.406143 369.084494 \nL 178.430078 362.149167 \nL 179.535625 356.848992 \nL 179.955408 355.213839 \nL 180.319223 348.278512 \nL 179.535625 343.315825 \nL 179.294989 341.343185 \nL 177.170317 334.407857 \nL 172.973767 327.47253 \nL 172.919792 327.404137 \nL 166.369201 320.537202 \nL 166.303958 320.480621 \nL 159.688125 316.081409 \nL 153.072292 313.854132 \nL 151.190526 313.601875 \nL 146.456458 312.780436 \nL 139.840625 313.16182 \nL 138.2808 313.601875 \nL 133.224792 314.760811 \nL 126.608958 317.930779 \nL 123.222501 320.537202 \nL 119.993125 323.393931 \nL 116.478493 327.47253 \nL 113.377292 332.915309 \nL 112.538479 334.407857 \nL 110.070549 341.343185 \nL 109.139042 348.278512 \nL 109.441755 355.213839 \nL 111.075193 362.149167 \nL 113.377292 367.036299 \nL 114.307391 369.084494 \nL 119.46319 376.019821 \nL 119.993125 376.575348 \nL 126.608958 381.980133 \nL 128.562798 382.955149 \nL 133.224792 385.368421 \nz\n\" clip-path=\"url(#p9776636740)\" style=\"fill: none; stroke-dasharray: 5.55,2.4; stroke-dashoffset: 0; stroke: #ff0000; stroke-opacity: 0.8; stroke-width: 1.5\"/>\n    <path d=\"M 139.840625 376.324593 \nL 146.456458 376.812292 \nL 150.074258 376.019821 \nL 153.072292 375.383099 \nL 159.688125 371.808709 \nL 162.686721 369.084494 \nL 166.303958 364.326644 \nL 167.64301 362.149167 \nL 169.972683 355.213839 \nL 170.404423 348.278512 \nL 169.075873 341.343185 \nL 166.303958 335.687234 \nL 165.566885 334.407857 \nL 159.688125 328.245198 \nL 158.467686 327.47253 \nL 153.072292 324.566753 \nL 146.456458 323.174044 \nL 139.840625 323.626634 \nL 133.224792 326.068812 \nL 131.147626 327.47253 \nL 126.608958 331.264452 \nL 124.010242 334.407857 \nL 120.600515 341.343185 \nL 119.993125 344.486 \nL 119.237162 348.278512 \nL 119.702393 355.213839 \nL 119.993125 356.110913 \nL 121.988546 362.149167 \nL 126.608958 368.817069 \nL 126.864064 369.084494 \nL 133.224792 373.928037 \nL 138.984877 376.019821 \nL 139.840625 376.324593 \nz\n\" clip-path=\"url(#p9776636740)\" style=\"fill: none; stroke-dasharray: 5.55,2.4; stroke-dashoffset: 0; stroke: #ff0000; stroke-opacity: 0.8; stroke-width: 1.5\"/>\n    <path d=\"M 133.224792 363.433077 \nL 139.840625 367.327201 \nL 146.456458 368.04887 \nL 153.072292 365.828154 \nL 157.475969 362.149167 \nL 159.688125 358.817636 \nL 161.369172 355.213839 \nL 162.007372 348.278512 \nL 160.043504 341.343185 \nL 159.688125 340.785471 \nL 153.604313 334.407857 \nL 153.072292 334.035316 \nL 146.456458 331.976609 \nL 139.840625 332.645629 \nL 136.402847 334.407857 \nL 133.224792 336.726843 \nL 129.715286 341.343185 \nL 127.596874 348.278512 \nL 128.285297 355.213839 \nL 132.000028 362.149167 \nL 133.224792 363.433077 \nz\n\" clip-path=\"url(#p9776636740)\" style=\"fill: none; stroke-dasharray: 5.55,2.4; stroke-dashoffset: 0; stroke: #ff0000; stroke-opacity: 0.8; stroke-width: 1.5\"/>\n    <path d=\"M 139.840625 355.36327 \nL 146.456458 356.817378 \nL 148.943525 355.213839 \nL 151.142713 348.278512 \nL 146.456458 343.365947 \nL 139.840625 345.671339 \nL 138.310957 348.278512 \nL 139.698078 355.213839 \nL 139.840625 355.36327 \nz\n\" clip-path=\"url(#p9776636740)\" style=\"fill: none; stroke-dasharray: 5.55,2.4; stroke-dashoffset: 0; stroke: #ff0000; stroke-opacity: 0.8; stroke-width: 1.5\"/>\n    <path clip-path=\"url(#p9776636740)\" style=\"fill: none; stroke-dasharray: 5.55,2.4; stroke-dashoffset: 0; stroke: #ff0000; stroke-opacity: 0.8; stroke-width: 1.5\"/>\n   </g>\n   <g id=\"line2d_29\"/>\n   <g id=\"patch_3\">\n    <path d=\"M 40.603125 459.24375 \nL 40.603125 22.318125 \n\" style=\"fill: none; stroke: #000000; stroke-width: 0.8; stroke-linejoin: miter; stroke-linecap: square\"/>\n   </g>\n   <g id=\"patch_4\">\n    <path d=\"M 457.400625 459.24375 \nL 457.400625 22.318125 \n\" style=\"fill: none; stroke: #000000; stroke-width: 0.8; stroke-linejoin: miter; stroke-linecap: square\"/>\n   </g>\n   <g id=\"patch_5\">\n    <path d=\"M 40.603125 459.24375 \nL 457.400625 459.24375 \n\" style=\"fill: none; stroke: #000000; stroke-width: 0.8; stroke-linejoin: miter; stroke-linecap: square\"/>\n   </g>\n   <g id=\"patch_6\">\n    <path d=\"M 40.603125 22.318125 \nL 457.400625 22.318125 \n\" style=\"fill: none; stroke: #000000; stroke-width: 0.8; stroke-linejoin: miter; stroke-linecap: square\"/>\n   </g>\n   <g id=\"text_17\">\n    <!-- Initial State (t=0), N_part=50000 -->\n    <g transform=\"translate(149.101875 16.318125) scale(0.12 -0.12)\">\n     <defs>\n      <path id=\"DejaVuSans-49\" d=\"M 628 4666 \nL 1259 4666 \nL 1259 0 \nL 628 0 \nL 628 4666 \nz\n\" transform=\"scale(0.015625)\"/>\n      <path id=\"DejaVuSans-6e\" d=\"M 3513 2113 \nL 3513 0 \nL 2938 0 \nL 2938 2094 \nQ 2938 2591 2744 2837 \nQ 2550 3084 2163 3084 \nQ 1697 3084 1428 2787 \nQ 1159 2491 1159 1978 \nL 1159 0 \nL 581 0 \nL 581 3500 \nL 1159 3500 \nL 1159 2956 \nQ 1366 3272 1645 3428 \nQ 1925 3584 2291 3584 \nQ 2894 3584 3203 3211 \nQ 3513 2838 3513 2113 \nz\n\" transform=\"scale(0.015625)\"/>\n      <path id=\"DejaVuSans-69\" d=\"M 603 3500 \nL 1178 3500 \nL 1178 0 \nL 603 0 \nL 603 3500 \nz\nM 603 4863 \nL 1178 4863 \nL 1178 4134 \nL 603 4134 \nL 603 4863 \nz\n\" transform=\"scale(0.015625)\"/>\n      <path id=\"DejaVuSans-74\" d=\"M 1172 4494 \nL 1172 3500 \nL 2356 3500 \nL 2356 3053 \nL 1172 3053 \nL 1172 1153 \nQ 1172 725 1289 603 \nQ 1406 481 1766 481 \nL 2356 481 \nL 2356 0 \nL 1766 0 \nQ 1100 0 847 248 \nQ 594 497 594 1153 \nL 594 3053 \nL 172 3053 \nL 172 3500 \nL 594 3500 \nL 594 4494 \nL 1172 4494 \nz\n\" transform=\"scale(0.015625)\"/>\n      <path id=\"DejaVuSans-61\" d=\"M 2194 1759 \nQ 1497 1759 1228 1600 \nQ 959 1441 959 1056 \nQ 959 750 1161 570 \nQ 1363 391 1709 391 \nQ 2188 391 2477 730 \nQ 2766 1069 2766 1631 \nL 2766 1759 \nL 2194 1759 \nz\nM 3341 1997 \nL 3341 0 \nL 2766 0 \nL 2766 531 \nQ 2569 213 2275 61 \nQ 1981 -91 1556 -91 \nQ 1019 -91 701 211 \nQ 384 513 384 1019 \nQ 384 1609 779 1909 \nQ 1175 2209 1959 2209 \nL 2766 2209 \nL 2766 2266 \nQ 2766 2663 2505 2880 \nQ 2244 3097 1772 3097 \nQ 1472 3097 1187 3025 \nQ 903 2953 641 2809 \nL 641 3341 \nQ 956 3463 1253 3523 \nQ 1550 3584 1831 3584 \nQ 2591 3584 2966 3190 \nQ 3341 2797 3341 1997 \nz\n\" transform=\"scale(0.015625)\"/>\n      <path id=\"DejaVuSans-53\" d=\"M 3425 4513 \nL 3425 3897 \nQ 3066 4069 2747 4153 \nQ 2428 4238 2131 4238 \nQ 1616 4238 1336 4038 \nQ 1056 3838 1056 3469 \nQ 1056 3159 1242 3001 \nQ 1428 2844 1947 2747 \nL 2328 2669 \nQ 3034 2534 3370 2195 \nQ 3706 1856 3706 1288 \nQ 3706 609 3251 259 \nQ 2797 -91 1919 -91 \nQ 1588 -91 1214 -16 \nQ 841 59 441 206 \nL 441 856 \nQ 825 641 1194 531 \nQ 1563 422 1919 422 \nQ 2459 422 2753 634 \nQ 3047 847 3047 1241 \nQ 3047 1584 2836 1778 \nQ 2625 1972 2144 2069 \nL 1759 2144 \nQ 1053 2284 737 2584 \nQ 422 2884 422 3419 \nQ 422 4038 858 4394 \nQ 1294 4750 2059 4750 \nQ 2388 4750 2728 4690 \nQ 3069 4631 3425 4513 \nz\n\" transform=\"scale(0.015625)\"/>\n      <path id=\"DejaVuSans-3d\" d=\"M 678 2906 \nL 4684 2906 \nL 4684 2381 \nL 678 2381 \nL 678 2906 \nz\nM 678 1631 \nL 4684 1631 \nL 4684 1100 \nL 678 1100 \nL 678 1631 \nz\n\" transform=\"scale(0.015625)\"/>\n      <path id=\"DejaVuSans-2c\" d=\"M 750 794 \nL 1409 794 \nL 1409 256 \nL 897 -744 \nL 494 -744 \nL 750 256 \nL 750 794 \nz\n\" transform=\"scale(0.015625)\"/>\n      <path id=\"DejaVuSans-4e\" d=\"M 628 4666 \nL 1478 4666 \nL 3547 763 \nL 3547 4666 \nL 4159 4666 \nL 4159 0 \nL 3309 0 \nL 1241 3903 \nL 1241 0 \nL 628 0 \nL 628 4666 \nz\n\" transform=\"scale(0.015625)\"/>\n      <path id=\"DejaVuSans-5f\" d=\"M 3263 -1063 \nL 3263 -1509 \nL -63 -1509 \nL -63 -1063 \nL 3263 -1063 \nz\n\" transform=\"scale(0.015625)\"/>\n      <path id=\"DejaVuSans-70\" d=\"M 1159 525 \nL 1159 -1331 \nL 581 -1331 \nL 581 3500 \nL 1159 3500 \nL 1159 2969 \nQ 1341 3281 1617 3432 \nQ 1894 3584 2278 3584 \nQ 2916 3584 3314 3078 \nQ 3713 2572 3713 1747 \nQ 3713 922 3314 415 \nQ 2916 -91 2278 -91 \nQ 1894 -91 1617 61 \nQ 1341 213 1159 525 \nz\nM 3116 1747 \nQ 3116 2381 2855 2742 \nQ 2594 3103 2138 3103 \nQ 1681 3103 1420 2742 \nQ 1159 2381 1159 1747 \nQ 1159 1113 1420 752 \nQ 1681 391 2138 391 \nQ 2594 391 2855 752 \nQ 3116 1113 3116 1747 \nz\n\" transform=\"scale(0.015625)\"/>\n      <path id=\"DejaVuSans-72\" d=\"M 2631 2963 \nQ 2534 3019 2420 3045 \nQ 2306 3072 2169 3072 \nQ 1681 3072 1420 2755 \nQ 1159 2438 1159 1844 \nL 1159 0 \nL 581 0 \nL 581 3500 \nL 1159 3500 \nL 1159 2956 \nQ 1341 3275 1631 3429 \nQ 1922 3584 2338 3584 \nQ 2397 3584 2469 3576 \nQ 2541 3569 2628 3553 \nL 2631 2963 \nz\n\" transform=\"scale(0.015625)\"/>\n     </defs>\n     <use xlink:href=\"#DejaVuSans-49\"/>\n     <use xlink:href=\"#DejaVuSans-6e\" transform=\"translate(29.492188 0)\"/>\n     <use xlink:href=\"#DejaVuSans-69\" transform=\"translate(92.871094 0)\"/>\n     <use xlink:href=\"#DejaVuSans-74\" transform=\"translate(120.654297 0)\"/>\n     <use xlink:href=\"#DejaVuSans-69\" transform=\"translate(159.863281 0)\"/>\n     <use xlink:href=\"#DejaVuSans-61\" transform=\"translate(187.646484 0)\"/>\n     <use xlink:href=\"#DejaVuSans-6c\" transform=\"translate(248.925781 0)\"/>\n     <use xlink:href=\"#DejaVuSans-20\" transform=\"translate(276.708984 0)\"/>\n     <use xlink:href=\"#DejaVuSans-53\" transform=\"translate(308.496094 0)\"/>\n     <use xlink:href=\"#DejaVuSans-74\" transform=\"translate(371.972656 0)\"/>\n     <use xlink:href=\"#DejaVuSans-61\" transform=\"translate(411.181641 0)\"/>\n     <use xlink:href=\"#DejaVuSans-74\" transform=\"translate(472.460938 0)\"/>\n     <use xlink:href=\"#DejaVuSans-65\" transform=\"translate(511.669922 0)\"/>\n     <use xlink:href=\"#DejaVuSans-20\" transform=\"translate(573.193359 0)\"/>\n     <use xlink:href=\"#DejaVuSans-28\" transform=\"translate(604.980469 0)\"/>\n     <use xlink:href=\"#DejaVuSans-74\" transform=\"translate(643.994141 0)\"/>\n     <use xlink:href=\"#DejaVuSans-3d\" transform=\"translate(683.203125 0)\"/>\n     <use xlink:href=\"#DejaVuSans-30\" transform=\"translate(766.992188 0)\"/>\n     <use xlink:href=\"#DejaVuSans-29\" transform=\"translate(830.615234 0)\"/>\n     <use xlink:href=\"#DejaVuSans-2c\" transform=\"translate(869.628906 0)\"/>\n     <use xlink:href=\"#DejaVuSans-20\" transform=\"translate(901.416016 0)\"/>\n     <use xlink:href=\"#DejaVuSans-4e\" transform=\"translate(933.203125 0)\"/>\n     <use xlink:href=\"#DejaVuSans-5f\" transform=\"translate(1008.007812 0)\"/>\n     <use xlink:href=\"#DejaVuSans-70\" transform=\"translate(1058.007812 0)\"/>\n     <use xlink:href=\"#DejaVuSans-61\" transform=\"translate(1121.484375 0)\"/>\n     <use xlink:href=\"#DejaVuSans-72\" transform=\"translate(1182.763672 0)\"/>\n     <use xlink:href=\"#DejaVuSans-74\" transform=\"translate(1223.876953 0)\"/>\n     <use xlink:href=\"#DejaVuSans-3d\" transform=\"translate(1263.085938 0)\"/>\n     <use xlink:href=\"#DejaVuSans-35\" transform=\"translate(1346.875 0)\"/>\n     <use xlink:href=\"#DejaVuSans-30\" transform=\"translate(1410.498047 0)\"/>\n     <use xlink:href=\"#DejaVuSans-30\" transform=\"translate(1474.121094 0)\"/>\n     <use xlink:href=\"#DejaVuSans-30\" transform=\"translate(1537.744141 0)\"/>\n     <use xlink:href=\"#DejaVuSans-30\" transform=\"translate(1601.367188 0)\"/>\n    </g>\n   </g>\n   <g id=\"legend_1\">\n    <g id=\"patch_7\">\n     <path d=\"M 331.988125 44.99625 \nL 450.400625 44.99625 \nQ 452.400625 44.99625 452.400625 42.99625 \nL 452.400625 29.318125 \nQ 452.400625 27.318125 450.400625 27.318125 \nL 331.988125 27.318125 \nQ 329.988125 27.318125 329.988125 29.318125 \nL 329.988125 42.99625 \nQ 329.988125 44.99625 331.988125 44.99625 \nz\n\" style=\"fill: #ffffff; opacity: 0.8; stroke: #cccccc; stroke-linejoin: miter\"/>\n    </g>\n    <g id=\"line2d_30\">\n     <path d=\"M 333.988125 35.416562 \nL 343.988125 35.416562 \nL 353.988125 35.416562 \n\" style=\"fill: none; stroke-dasharray: 5.55,2.4; stroke-dashoffset: 0; stroke: #ff0000; stroke-width: 1.5\"/>\n    </g>\n    <g id=\"text_18\">\n     <!-- Analytic (Shifted) -->\n     <g transform=\"translate(361.988125 38.916562) scale(0.1 -0.1)\">\n      <defs>\n       <path id=\"DejaVuSans-41\" d=\"M 2188 4044 \nL 1331 1722 \nL 3047 1722 \nL 2188 4044 \nz\nM 1831 4666 \nL 2547 4666 \nL 4325 0 \nL 3669 0 \nL 3244 1197 \nL 1141 1197 \nL 716 0 \nL 50 0 \nL 1831 4666 \nz\n\" transform=\"scale(0.015625)\"/>\n       <path id=\"DejaVuSans-68\" d=\"M 3513 2113 \nL 3513 0 \nL 2938 0 \nL 2938 2094 \nQ 2938 2591 2744 2837 \nQ 2550 3084 2163 3084 \nQ 1697 3084 1428 2787 \nQ 1159 2491 1159 1978 \nL 1159 0 \nL 581 0 \nL 581 4863 \nL 1159 4863 \nL 1159 2956 \nQ 1366 3272 1645 3428 \nQ 1925 3584 2291 3584 \nQ 2894 3584 3203 3211 \nQ 3513 2838 3513 2113 \nz\n\" transform=\"scale(0.015625)\"/>\n       <path id=\"DejaVuSans-66\" d=\"M 2375 4863 \nL 2375 4384 \nL 1825 4384 \nQ 1516 4384 1395 4259 \nQ 1275 4134 1275 3809 \nL 1275 3500 \nL 2222 3500 \nL 2222 3053 \nL 1275 3053 \nL 1275 0 \nL 697 0 \nL 697 3053 \nL 147 3053 \nL 147 3500 \nL 697 3500 \nL 697 3744 \nQ 697 4328 969 4595 \nQ 1241 4863 1831 4863 \nL 2375 4863 \nz\n\" transform=\"scale(0.015625)\"/>\n       <path id=\"DejaVuSans-64\" d=\"M 2906 2969 \nL 2906 4863 \nL 3481 4863 \nL 3481 0 \nL 2906 0 \nL 2906 525 \nQ 2725 213 2448 61 \nQ 2172 -91 1784 -91 \nQ 1150 -91 751 415 \nQ 353 922 353 1747 \nQ 353 2572 751 3078 \nQ 1150 3584 1784 3584 \nQ 2172 3584 2448 3432 \nQ 2725 3281 2906 2969 \nz\nM 947 1747 \nQ 947 1113 1208 752 \nQ 1469 391 1925 391 \nQ 2381 391 2643 752 \nQ 2906 1113 2906 1747 \nQ 2906 2381 2643 2742 \nQ 2381 3103 1925 3103 \nQ 1469 3103 1208 2742 \nQ 947 2381 947 1747 \nz\n\" transform=\"scale(0.015625)\"/>\n      </defs>\n      <use xlink:href=\"#DejaVuSans-41\"/>\n      <use xlink:href=\"#DejaVuSans-6e\" transform=\"translate(68.408203 0)\"/>\n      <use xlink:href=\"#DejaVuSans-61\" transform=\"translate(131.787109 0)\"/>\n      <use xlink:href=\"#DejaVuSans-6c\" transform=\"translate(193.066406 0)\"/>\n      <use xlink:href=\"#DejaVuSans-79\" transform=\"translate(220.849609 0)\"/>\n      <use xlink:href=\"#DejaVuSans-74\" transform=\"translate(280.029297 0)\"/>\n      <use xlink:href=\"#DejaVuSans-69\" transform=\"translate(319.238281 0)\"/>\n      <use xlink:href=\"#DejaVuSans-63\" transform=\"translate(347.021484 0)\"/>\n      <use xlink:href=\"#DejaVuSans-20\" transform=\"translate(402.001953 0)\"/>\n      <use xlink:href=\"#DejaVuSans-28\" transform=\"translate(433.789062 0)\"/>\n      <use xlink:href=\"#DejaVuSans-53\" transform=\"translate(472.802734 0)\"/>\n      <use xlink:href=\"#DejaVuSans-68\" transform=\"translate(536.279297 0)\"/>\n      <use xlink:href=\"#DejaVuSans-69\" transform=\"translate(599.658203 0)\"/>\n      <use xlink:href=\"#DejaVuSans-66\" transform=\"translate(627.441406 0)\"/>\n      <use xlink:href=\"#DejaVuSans-74\" transform=\"translate(660.896484 0)\"/>\n      <use xlink:href=\"#DejaVuSans-65\" transform=\"translate(700.105469 0)\"/>\n      <use xlink:href=\"#DejaVuSans-64\" transform=\"translate(761.628906 0)\"/>\n      <use xlink:href=\"#DejaVuSans-29\" transform=\"translate(825.105469 0)\"/>\n     </g>\n    </g>\n   </g>\n  </g>\n  <g id=\"axes_2\">\n   <g id=\"patch_8\">\n    <path d=\"M 483.450469 459.24375 \nL 505.29675 459.24375 \nL 505.29675 22.318125 \nL 483.450469 22.318125 \nz\n\" style=\"fill: #ffffff\"/>\n   </g>\n   <image xlink:href=\"data:image/png;base64,\niVBORw0KGgoAAAANSUhEUgAAAB8AAAJfCAYAAACHaQ18AAAC/ElEQVR4nO3d25XjQAwDUT06tAlh8g9lZ7NQfVxUAjwkAXTL8rHvn/v374p4qsJ58XPdXf228/u5s+LbuVd8gkuIO1d3XgsOHfu5H9Zq6s7rhJvgvocWHDr2c+8aFSBbTU04uXP1PJ/gEtzON/YE9zLh7rweO3qkzmoJtNXQsbudL+ESXMGdP7Xz2mpd8Vktwe18Y09ws92N11ktwe18CZfgJtysliBbrWs87xzdeWy1ZXuALLglXEDdeVecthorOPZUY3e+hEtwz/NacKjPXcG5IVNfJma175nVvOK04NCQmeAS3IRzd14LDk04V3BuyOylXoIrODdkasHtVPseWnBd8Qkuwd35BJfgCs7d+QSXsC9sJNCC64pv515xd+yzWgJstQmuYIJLmOAS3M5ntQRXcCf7Z7eLtporOLdzNl4nuIQJLgEWnNv5rFYAC87tfFYrmOASJriEdZ4wqyW4gnOLz2oJrtXczufzBFdw7s4nuIRz3d175FnNK05brSs+q3nFYcGxnddj32Xie1zBucXdhHOt5sZrPfau+Dr3irtjdxPO3fkuEwmzWgJstfC3bHLBoVarx94VX+cJ57pmte+BBXer2e7ufIJLcAXnXp1rwalWY0OmHntXvO4cFZx7qk1wCSfUW925uvONPcE9z9uxP7Dg1vn3wFZjE24hkwBb7VFfbbkhs4RLcBPO3fkEl+AKzj3PZ7UE2Wpq5xt7gtv5jtQEV3Bu5xt7gty5Gq8TXMJ57n9Z8QkuYQmX4O68HjuacOdVBeeGzKyWsGxPOK/q81ktQbaaOvbzXLPa98hWm+AC6nhFd15n+wT3PbLg1LHvWS0BttoEV1DvHO28FpxqtQmuwL297oklAbaa+/Gn+5H3TrWC3dsTYMG5CSefamjnS7iEPbEk0FZTBbdTrWBWS6if1dDOa8GhPp/VEmiroWOHO3/2O5ABsuDC4rLgVJ+fN/w3mFnNK37e8LeVa8GpnbMhM8EluCFTC66rX3eOCu68N7rzWnDo2P8DBLCPwCkH+WYAAAAASUVORK5CYII=\" id=\"image713383bc9e\" transform=\"scale(1 -1) translate(0 -437.04)\" x=\"483.12\" y=\"-21.6\" width=\"22.32\" height=\"437.04\"/>\n   <g id=\"matplotlib.axis_3\"/>\n   <g id=\"matplotlib.axis_4\">\n    <g id=\"ytick_8\">\n     <g id=\"line2d_31\">\n      <defs>\n       <path id=\"m1826295ac0\" d=\"M 0 0 \nL 3.5 0 \n\" style=\"stroke: #000000; stroke-width: 0.8\"/>\n      </defs>\n      <g>\n       <use xlink:href=\"#m1826295ac0\" x=\"505.29675\" y=\"459.24375\" style=\"stroke: #000000; stroke-width: 0.8\"/>\n      </g>\n     </g>\n     <g id=\"text_19\">\n      <!-- 0.00 -->\n      <g transform=\"translate(512.29675 463.042969) scale(0.1 -0.1)\">\n       <defs>\n        <path id=\"DejaVuSans-2e\" d=\"M 684 794 \nL 1344 794 \nL 1344 0 \nL 684 0 \nL 684 794 \nz\n\" transform=\"scale(0.015625)\"/>\n       </defs>\n       <use xlink:href=\"#DejaVuSans-30\"/>\n       <use xlink:href=\"#DejaVuSans-2e\" transform=\"translate(63.623047 0)\"/>\n       <use xlink:href=\"#DejaVuSans-30\" transform=\"translate(95.410156 0)\"/>\n       <use xlink:href=\"#DejaVuSans-30\" transform=\"translate(159.033203 0)\"/>\n      </g>\n     </g>\n    </g>\n    <g id=\"ytick_9\">\n     <g id=\"line2d_32\">\n      <g>\n       <use xlink:href=\"#m1826295ac0\" x=\"505.29675\" y=\"399.740313\" style=\"stroke: #000000; stroke-width: 0.8\"/>\n      </g>\n     </g>\n     <g id=\"text_20\">\n      <!-- 0.01 -->\n      <g transform=\"translate(512.29675 403.539532) scale(0.1 -0.1)\">\n       <use xlink:href=\"#DejaVuSans-30\"/>\n       <use xlink:href=\"#DejaVuSans-2e\" transform=\"translate(63.623047 0)\"/>\n       <use xlink:href=\"#DejaVuSans-30\" transform=\"translate(95.410156 0)\"/>\n       <use xlink:href=\"#DejaVuSans-31\" transform=\"translate(159.033203 0)\"/>\n      </g>\n     </g>\n    </g>\n    <g id=\"ytick_10\">\n     <g id=\"line2d_33\">\n      <g>\n       <use xlink:href=\"#m1826295ac0\" x=\"505.29675\" y=\"340.236876\" style=\"stroke: #000000; stroke-width: 0.8\"/>\n      </g>\n     </g>\n     <g id=\"text_21\">\n      <!-- 0.02 -->\n      <g transform=\"translate(512.29675 344.036095) scale(0.1 -0.1)\">\n       <use xlink:href=\"#DejaVuSans-30\"/>\n       <use xlink:href=\"#DejaVuSans-2e\" transform=\"translate(63.623047 0)\"/>\n       <use xlink:href=\"#DejaVuSans-30\" transform=\"translate(95.410156 0)\"/>\n       <use xlink:href=\"#DejaVuSans-32\" transform=\"translate(159.033203 0)\"/>\n      </g>\n     </g>\n    </g>\n    <g id=\"ytick_11\">\n     <g id=\"line2d_34\">\n      <g>\n       <use xlink:href=\"#m1826295ac0\" x=\"505.29675\" y=\"280.733439\" style=\"stroke: #000000; stroke-width: 0.8\"/>\n      </g>\n     </g>\n     <g id=\"text_22\">\n      <!-- 0.03 -->\n      <g transform=\"translate(512.29675 284.532657) scale(0.1 -0.1)\">\n       <use xlink:href=\"#DejaVuSans-30\"/>\n       <use xlink:href=\"#DejaVuSans-2e\" transform=\"translate(63.623047 0)\"/>\n       <use xlink:href=\"#DejaVuSans-30\" transform=\"translate(95.410156 0)\"/>\n       <use xlink:href=\"#DejaVuSans-33\" transform=\"translate(159.033203 0)\"/>\n      </g>\n     </g>\n    </g>\n    <g id=\"ytick_12\">\n     <g id=\"line2d_35\">\n      <g>\n       <use xlink:href=\"#m1826295ac0\" x=\"505.29675\" y=\"221.230002\" style=\"stroke: #000000; stroke-width: 0.8\"/>\n      </g>\n     </g>\n     <g id=\"text_23\">\n      <!-- 0.04 -->\n      <g transform=\"translate(512.29675 225.02922) scale(0.1 -0.1)\">\n       <defs>\n        <path id=\"DejaVuSans-34\" d=\"M 2419 4116 \nL 825 1625 \nL 2419 1625 \nL 2419 4116 \nz\nM 2253 4666 \nL 3047 4666 \nL 3047 1625 \nL 3713 1625 \nL 3713 1100 \nL 3047 1100 \nL 3047 0 \nL 2419 0 \nL 2419 1100 \nL 313 1100 \nL 313 1709 \nL 2253 4666 \nz\n\" transform=\"scale(0.015625)\"/>\n       </defs>\n       <use xlink:href=\"#DejaVuSans-30\"/>\n       <use xlink:href=\"#DejaVuSans-2e\" transform=\"translate(63.623047 0)\"/>\n       <use xlink:href=\"#DejaVuSans-30\" transform=\"translate(95.410156 0)\"/>\n       <use xlink:href=\"#DejaVuSans-34\" transform=\"translate(159.033203 0)\"/>\n      </g>\n     </g>\n    </g>\n    <g id=\"ytick_13\">\n     <g id=\"line2d_36\">\n      <g>\n       <use xlink:href=\"#m1826295ac0\" x=\"505.29675\" y=\"161.726564\" style=\"stroke: #000000; stroke-width: 0.8\"/>\n      </g>\n     </g>\n     <g id=\"text_24\">\n      <!-- 0.05 -->\n      <g transform=\"translate(512.29675 165.525783) scale(0.1 -0.1)\">\n       <use xlink:href=\"#DejaVuSans-30\"/>\n       <use xlink:href=\"#DejaVuSans-2e\" transform=\"translate(63.623047 0)\"/>\n       <use xlink:href=\"#DejaVuSans-30\" transform=\"translate(95.410156 0)\"/>\n       <use xlink:href=\"#DejaVuSans-35\" transform=\"translate(159.033203 0)\"/>\n      </g>\n     </g>\n    </g>\n    <g id=\"ytick_14\">\n     <g id=\"line2d_37\">\n      <g>\n       <use xlink:href=\"#m1826295ac0\" x=\"505.29675\" y=\"102.223127\" style=\"stroke: #000000; stroke-width: 0.8\"/>\n      </g>\n     </g>\n     <g id=\"text_25\">\n      <!-- 0.06 -->\n      <g transform=\"translate(512.29675 106.022346) scale(0.1 -0.1)\">\n       <defs>\n        <path id=\"DejaVuSans-36\" d=\"M 2113 2584 \nQ 1688 2584 1439 2293 \nQ 1191 2003 1191 1497 \nQ 1191 994 1439 701 \nQ 1688 409 2113 409 \nQ 2538 409 2786 701 \nQ 3034 994 3034 1497 \nQ 3034 2003 2786 2293 \nQ 2538 2584 2113 2584 \nz\nM 3366 4563 \nL 3366 3988 \nQ 3128 4100 2886 4159 \nQ 2644 4219 2406 4219 \nQ 1781 4219 1451 3797 \nQ 1122 3375 1075 2522 \nQ 1259 2794 1537 2939 \nQ 1816 3084 2150 3084 \nQ 2853 3084 3261 2657 \nQ 3669 2231 3669 1497 \nQ 3669 778 3244 343 \nQ 2819 -91 2113 -91 \nQ 1303 -91 875 529 \nQ 447 1150 447 2328 \nQ 447 3434 972 4092 \nQ 1497 4750 2381 4750 \nQ 2619 4750 2861 4703 \nQ 3103 4656 3366 4563 \nz\n\" transform=\"scale(0.015625)\"/>\n       </defs>\n       <use xlink:href=\"#DejaVuSans-30\"/>\n       <use xlink:href=\"#DejaVuSans-2e\" transform=\"translate(63.623047 0)\"/>\n       <use xlink:href=\"#DejaVuSans-30\" transform=\"translate(95.410156 0)\"/>\n       <use xlink:href=\"#DejaVuSans-36\" transform=\"translate(159.033203 0)\"/>\n      </g>\n     </g>\n    </g>\n    <g id=\"ytick_15\">\n     <g id=\"line2d_38\">\n      <g>\n       <use xlink:href=\"#m1826295ac0\" x=\"505.29675\" y=\"42.71969\" style=\"stroke: #000000; stroke-width: 0.8\"/>\n      </g>\n     </g>\n     <g id=\"text_26\">\n      <!-- 0.07 -->\n      <g transform=\"translate(512.29675 46.518909) scale(0.1 -0.1)\">\n       <defs>\n        <path id=\"DejaVuSans-37\" d=\"M 525 4666 \nL 3525 4666 \nL 3525 4397 \nL 1831 0 \nL 1172 0 \nL 2766 4134 \nL 525 4134 \nL 525 4666 \nz\n\" transform=\"scale(0.015625)\"/>\n       </defs>\n       <use xlink:href=\"#DejaVuSans-30\"/>\n       <use xlink:href=\"#DejaVuSans-2e\" transform=\"translate(63.623047 0)\"/>\n       <use xlink:href=\"#DejaVuSans-30\" transform=\"translate(95.410156 0)\"/>\n       <use xlink:href=\"#DejaVuSans-37\" transform=\"translate(159.033203 0)\"/>\n      </g>\n     </g>\n    </g>\n    <g id=\"text_27\">\n     <!-- Normalized Particle Density -->\n     <g transform=\"translate(546.160813 309.796562) rotate(-90) scale(0.1 -0.1)\">\n      <defs>\n       <path id=\"DejaVuSans-6f\" d=\"M 1959 3097 \nQ 1497 3097 1228 2736 \nQ 959 2375 959 1747 \nQ 959 1119 1226 758 \nQ 1494 397 1959 397 \nQ 2419 397 2687 759 \nQ 2956 1122 2956 1747 \nQ 2956 2369 2687 2733 \nQ 2419 3097 1959 3097 \nz\nM 1959 3584 \nQ 2709 3584 3137 3096 \nQ 3566 2609 3566 1747 \nQ 3566 888 3137 398 \nQ 2709 -91 1959 -91 \nQ 1206 -91 779 398 \nQ 353 888 353 1747 \nQ 353 2609 779 3096 \nQ 1206 3584 1959 3584 \nz\n\" transform=\"scale(0.015625)\"/>\n       <path id=\"DejaVuSans-6d\" d=\"M 3328 2828 \nQ 3544 3216 3844 3400 \nQ 4144 3584 4550 3584 \nQ 5097 3584 5394 3201 \nQ 5691 2819 5691 2113 \nL 5691 0 \nL 5113 0 \nL 5113 2094 \nQ 5113 2597 4934 2840 \nQ 4756 3084 4391 3084 \nQ 3944 3084 3684 2787 \nQ 3425 2491 3425 1978 \nL 3425 0 \nL 2847 0 \nL 2847 2094 \nQ 2847 2600 2669 2842 \nQ 2491 3084 2119 3084 \nQ 1678 3084 1418 2786 \nQ 1159 2488 1159 1978 \nL 1159 0 \nL 581 0 \nL 581 3500 \nL 1159 3500 \nL 1159 2956 \nQ 1356 3278 1631 3431 \nQ 1906 3584 2284 3584 \nQ 2666 3584 2933 3390 \nQ 3200 3197 3328 2828 \nz\n\" transform=\"scale(0.015625)\"/>\n       <path id=\"DejaVuSans-7a\" d=\"M 353 3500 \nL 3084 3500 \nL 3084 2975 \nL 922 459 \nL 3084 459 \nL 3084 0 \nL 275 0 \nL 275 525 \nL 2438 3041 \nL 353 3041 \nL 353 3500 \nz\n\" transform=\"scale(0.015625)\"/>\n       <path id=\"DejaVuSans-50\" d=\"M 1259 4147 \nL 1259 2394 \nL 2053 2394 \nQ 2494 2394 2734 2622 \nQ 2975 2850 2975 3272 \nQ 2975 3691 2734 3919 \nQ 2494 4147 2053 4147 \nL 1259 4147 \nz\nM 628 4666 \nL 2053 4666 \nQ 2838 4666 3239 4311 \nQ 3641 3956 3641 3272 \nQ 3641 2581 3239 2228 \nQ 2838 1875 2053 1875 \nL 1259 1875 \nL 1259 0 \nL 628 0 \nL 628 4666 \nz\n\" transform=\"scale(0.015625)\"/>\n       <path id=\"DejaVuSans-44\" d=\"M 1259 4147 \nL 1259 519 \nL 2022 519 \nQ 2988 519 3436 956 \nQ 3884 1394 3884 2338 \nQ 3884 3275 3436 3711 \nQ 2988 4147 2022 4147 \nL 1259 4147 \nz\nM 628 4666 \nL 1925 4666 \nQ 3281 4666 3915 4102 \nQ 4550 3538 4550 2338 \nQ 4550 1131 3912 565 \nQ 3275 0 1925 0 \nL 628 0 \nL 628 4666 \nz\n\" transform=\"scale(0.015625)\"/>\n      </defs>\n      <use xlink:href=\"#DejaVuSans-4e\"/>\n      <use xlink:href=\"#DejaVuSans-6f\" transform=\"translate(74.804688 0)\"/>\n      <use xlink:href=\"#DejaVuSans-72\" transform=\"translate(135.986328 0)\"/>\n      <use xlink:href=\"#DejaVuSans-6d\" transform=\"translate(175.349609 0)\"/>\n      <use xlink:href=\"#DejaVuSans-61\" transform=\"translate(272.761719 0)\"/>\n      <use xlink:href=\"#DejaVuSans-6c\" transform=\"translate(334.041016 0)\"/>\n      <use xlink:href=\"#DejaVuSans-69\" transform=\"translate(361.824219 0)\"/>\n      <use xlink:href=\"#DejaVuSans-7a\" transform=\"translate(389.607422 0)\"/>\n      <use xlink:href=\"#DejaVuSans-65\" transform=\"translate(442.097656 0)\"/>\n      <use xlink:href=\"#DejaVuSans-64\" transform=\"translate(503.621094 0)\"/>\n      <use xlink:href=\"#DejaVuSans-20\" transform=\"translate(567.097656 0)\"/>\n      <use xlink:href=\"#DejaVuSans-50\" transform=\"translate(598.884766 0)\"/>\n      <use xlink:href=\"#DejaVuSans-61\" transform=\"translate(654.6875 0)\"/>\n      <use xlink:href=\"#DejaVuSans-72\" transform=\"translate(715.966797 0)\"/>\n      <use xlink:href=\"#DejaVuSans-74\" transform=\"translate(757.080078 0)\"/>\n      <use xlink:href=\"#DejaVuSans-69\" transform=\"translate(796.289062 0)\"/>\n      <use xlink:href=\"#DejaVuSans-63\" transform=\"translate(824.072266 0)\"/>\n      <use xlink:href=\"#DejaVuSans-6c\" transform=\"translate(879.052734 0)\"/>\n      <use xlink:href=\"#DejaVuSans-65\" transform=\"translate(906.835938 0)\"/>\n      <use xlink:href=\"#DejaVuSans-20\" transform=\"translate(968.359375 0)\"/>\n      <use xlink:href=\"#DejaVuSans-44\" transform=\"translate(1000.146484 0)\"/>\n      <use xlink:href=\"#DejaVuSans-65\" transform=\"translate(1077.148438 0)\"/>\n      <use xlink:href=\"#DejaVuSans-6e\" transform=\"translate(1138.671875 0)\"/>\n      <use xlink:href=\"#DejaVuSans-73\" transform=\"translate(1202.050781 0)\"/>\n      <use xlink:href=\"#DejaVuSans-69\" transform=\"translate(1254.150391 0)\"/>\n      <use xlink:href=\"#DejaVuSans-74\" transform=\"translate(1281.933594 0)\"/>\n      <use xlink:href=\"#DejaVuSans-79\" transform=\"translate(1321.142578 0)\"/>\n     </g>\n    </g>\n   </g>\n   <g id=\"LineCollection_1\"/>\n   <g id=\"patch_9\">\n    <path d=\"M 483.450469 459.24375 \nL 494.373609 459.24375 \nL 505.29675 459.24375 \nL 505.29675 22.318125 \nL 494.373609 22.318125 \nL 483.450469 22.318125 \nL 483.450469 459.24375 \nz\n\" style=\"fill: none; stroke: #000000; stroke-width: 0.8; stroke-linejoin: miter; stroke-linecap: square\"/>\n   </g>\n  </g>\n </g>\n <defs>\n  <clipPath id=\"p9776636740\">\n   <rect x=\"40.603125\" y=\"22.318125\" width=\"416.7975\" height=\"436.925625\"/>\n  </clipPath>\n </defs>\n</svg>\n"
          },
          "metadata": {}
        },
        {
          "output_type": "display_data",
          "data": {
            "text/plain": [
              "HBox(children=(Button(description='tmpdvxocq7t.pdf', style=ButtonStyle()), Button(description='tmpldeljxca.svg…"
            ],
            "application/vnd.jupyter.widget-view+json": {
              "version_major": 2,
              "version_minor": 0,
              "model_id": "ffafae32d1b045bd99cee74b017b9fd3"
            }
          },
          "metadata": {}
        }
      ]
    },
    {
      "cell_type": "code",
      "source": [
        "def advect_2d(*, params_p, params_t, params_x, particles_dict, rng):\n",
        "    \"\"\" Performs 2D Monte-Carlo advection with periodic boundaries. \"\"\"\n",
        "    prob_shift_x = abs(params_t.courant_number_x)\n",
        "    prob_shift_y = abs(params_t.courant_number_y)\n",
        "\n",
        "    if prob_shift_x >= 1 or prob_shift_y >= 1:\n",
        "        print(f\"Warning: Courant number >= 1! Cx={prob_shift_x:.2f}, Cy={prob_shift_y:.2f}\")\n",
        "\n",
        "    sign_x = int(np.sign(params_t.courant_number_x)) if params_t.courant_number_x != 0 else 0\n",
        "    sign_y = int(np.sign(params_t.courant_number_y)) if params_t.courant_number_y != 0 else 0\n",
        "\n",
        "    for _ in range(params_t.n_step):\n",
        "        shuffled_x = rng.uniform(low=0, high=1, size=params_p.n_part)\n",
        "        shuffled_y = rng.uniform(low=0, high=1, size=params_p.n_part)\n",
        "\n",
        "        for sampling in particles_dict:\n",
        "            shift_x = (shuffled_x < prob_shift_x) * sign_x\n",
        "            shift_y = (shuffled_y < prob_shift_y) * sign_y\n",
        "\n",
        "            particles_dict[sampling]['cell'][:, 0] = (\n",
        "                particles_dict[sampling]['cell'][:, 0] + shift_x\n",
        "            ) % params_x.n_cell_x\n",
        "            particles_dict[sampling]['cell'][:, 1] = (\n",
        "                particles_dict[sampling]['cell'][:, 1] + shift_y\n",
        "            ) % params_x.n_cell_y\n"
      ],
      "metadata": {
        "id": "OJUq9u2E2Vqd"
      },
      "execution_count": 75,
      "outputs": []
    },
    {
      "cell_type": "code",
      "source": [
        "print(f\"Courant Numbers: Cx={PARAMS_T.courant_number_x:.3g}, Cy={PARAMS_T.courant_number_y:.3g}\")\n",
        "if abs(PARAMS_T.courant_number_x) < 1 and abs(PARAMS_T.courant_number_y) < 1:\n",
        "    advect_2d(\n",
        "        particles_dict=PARTICLES,\n",
        "        params_t=PARAMS_T,\n",
        "        params_p=PARAMS_P,\n",
        "        params_x=PARAMS_X,\n",
        "        rng=RNG\n",
        "        )\n",
        "    print(\"Advection completed.\")\n",
        "\n",
        "    total_shift_x = PARAMS_T.wind_x * PARAMS_T.span\n",
        "    total_shift_y = PARAMS_T.wind_y * PARAMS_T.span\n",
        "\n",
        "    plot_2d(\n",
        "        particles_dict=PARTICLES,\n",
        "        params_p=PARAMS_P,\n",
        "        params_x=PARAMS_X,\n",
        "        shift=(total_shift_x, total_shift_y),\n",
        "        title=f'Final State (t={PARAMS_T.span}), ' +\n",
        "              f'Cx={PARAMS_T.courant_number_x:.2f}, ' +\n",
        "              f'Cy={PARAMS_T.courant_number_y:.2f}'\n",
        "    )\n",
        "else:\n",
        "    print(\"Advection skipped due to Courant number >= 1.\")"
      ],
      "metadata": {
        "colab": {
          "base_uri": "https://localhost:8080/",
          "height": 750,
          "referenced_widgets": [
            "c87f15a8b8b3402fb56e51bccef26a50",
            "9a08c83a00964f57a1ccbc21618762da",
            "3104d35204ed4fc786372614a0d370dd",
            "33a0eb19adc84d00ab141e9f413ee051",
            "349033a86ada4d92a48a0991a856ad06",
            "538ce871c5e34e7a8694083d9653fdbd",
            "171c3102fbab46bebd2136a6039d900f",
            "b9f8b0f68bf942cb9b0fe2be4e13c7c6"
          ]
        },
        "id": "3RKgVMfSjd4G",
        "outputId": "5fa355d0-5b36-49f9-fb79-73c1e6d0d4fd"
      },
      "execution_count": 76,
      "outputs": [
        {
          "output_type": "stream",
          "name": "stdout",
          "text": [
            "Courant Numbers: Cx=0.24, Cy=0.16\n",
            "Advection completed.\n"
          ]
        },
        {
          "output_type": "display_data",
          "data": {
            "text/plain": [
              "<Figure size 800x700 with 2 Axes>"
            ],
            "image/svg+xml": "<?xml version=\"1.0\" encoding=\"utf-8\" standalone=\"no\"?>\n<!DOCTYPE svg PUBLIC \"-//W3C//DTD SVG 1.1//EN\"\n  \"http://www.w3.org/Graphics/SVG/1.1/DTD/svg11.dtd\">\n<svg xmlns:xlink=\"http://www.w3.org/1999/xlink\" width=\"568.1655pt\" height=\"496.8pt\" viewBox=\"0 0 568.1655 496.8\" xmlns=\"http://www.w3.org/2000/svg\" version=\"1.1\">\n <metadata>\n  <rdf:RDF xmlns:dc=\"http://purl.org/dc/elements/1.1/\" xmlns:cc=\"http://creativecommons.org/ns#\" xmlns:rdf=\"http://www.w3.org/1999/02/22-rdf-syntax-ns#\">\n   <cc:Work>\n    <dc:type rdf:resource=\"http://purl.org/dc/dcmitype/StillImage\"/>\n    <dc:date>2025-04-17T18:15:53.428648</dc:date>\n    <dc:format>image/svg+xml</dc:format>\n    <dc:creator>\n     <cc:Agent>\n      <dc:title>Matplotlib v3.10.0, https://matplotlib.org/</dc:title>\n     </cc:Agent>\n    </dc:creator>\n   </cc:Work>\n  </rdf:RDF>\n </metadata>\n <defs>\n  <style type=\"text/css\">*{stroke-linejoin: round; stroke-linecap: butt}</style>\n </defs>\n <g id=\"figure_1\">\n  <g id=\"patch_1\">\n   <path d=\"M 0 496.8 \nL 568.1655 496.8 \nL 568.1655 0 \nL 0 0 \nz\n\" style=\"fill: #ffffff\"/>\n  </g>\n  <g id=\"axes_1\">\n   <g id=\"patch_2\">\n    <path d=\"M 40.603125 459.24375 \nL 457.400625 459.24375 \nL 457.400625 22.318125 \nL 40.603125 22.318125 \nz\n\" style=\"fill: #ffffff\"/>\n   </g>\n   <g clip-path=\"url(#pd7eeafcf8e)\">\n    <image xlink:href=\"data:image/png;base64,\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\" id=\"imageea2eda9b66\" transform=\"scale(1 -1) translate(0 -437.04)\" x=\"40.603125\" y=\"-22.20375\" width=\"416.88\" height=\"437.04\"/>\n   </g>\n   <g id=\"matplotlib.axis_1\">\n    <g id=\"xtick_1\">\n     <g id=\"line2d_1\">\n      <path d=\"M 40.603125 459.24375 \nL 40.603125 22.318125 \n\" clip-path=\"url(#pd7eeafcf8e)\" style=\"fill: none; stroke-dasharray: 0.8,1.32; stroke-dashoffset: 0; stroke: #b0b0b0; stroke-opacity: 0.5; stroke-width: 0.8\"/>\n     </g>\n     <g id=\"line2d_2\">\n      <defs>\n       <path id=\"m60fb982a7c\" d=\"M 0 0 \nL 0 3.5 \n\" style=\"stroke: #000000; stroke-width: 0.8\"/>\n      </defs>\n      <g>\n       <use xlink:href=\"#m60fb982a7c\" x=\"40.603125\" y=\"459.24375\" style=\"stroke: #000000; stroke-width: 0.8\"/>\n      </g>\n     </g>\n     <g id=\"text_1\">\n      <!-- 0 -->\n      <g transform=\"translate(37.421875 473.842187) scale(0.1 -0.1)\">\n       <defs>\n        <path id=\"DejaVuSans-30\" d=\"M 2034 4250 \nQ 1547 4250 1301 3770 \nQ 1056 3291 1056 2328 \nQ 1056 1369 1301 889 \nQ 1547 409 2034 409 \nQ 2525 409 2770 889 \nQ 3016 1369 3016 2328 \nQ 3016 3291 2770 3770 \nQ 2525 4250 2034 4250 \nz\nM 2034 4750 \nQ 2819 4750 3233 4129 \nQ 3647 3509 3647 2328 \nQ 3647 1150 3233 529 \nQ 2819 -91 2034 -91 \nQ 1250 -91 836 529 \nQ 422 1150 422 2328 \nQ 422 3509 836 4129 \nQ 1250 4750 2034 4750 \nz\n\" transform=\"scale(0.015625)\"/>\n       </defs>\n       <use xlink:href=\"#DejaVuSans-30\"/>\n      </g>\n     </g>\n    </g>\n    <g id=\"xtick_2\">\n     <g id=\"line2d_3\">\n      <path d=\"M 105.727734 459.24375 \nL 105.727734 22.318125 \n\" clip-path=\"url(#pd7eeafcf8e)\" style=\"fill: none; stroke-dasharray: 0.8,1.32; stroke-dashoffset: 0; stroke: #b0b0b0; stroke-opacity: 0.5; stroke-width: 0.8\"/>\n     </g>\n     <g id=\"line2d_4\">\n      <g>\n       <use xlink:href=\"#m60fb982a7c\" x=\"105.727734\" y=\"459.24375\" style=\"stroke: #000000; stroke-width: 0.8\"/>\n      </g>\n     </g>\n     <g id=\"text_2\">\n      <!-- 5 -->\n      <g transform=\"translate(102.546484 473.842187) scale(0.1 -0.1)\">\n       <defs>\n        <path id=\"DejaVuSans-35\" d=\"M 691 4666 \nL 3169 4666 \nL 3169 4134 \nL 1269 4134 \nL 1269 2991 \nQ 1406 3038 1543 3061 \nQ 1681 3084 1819 3084 \nQ 2600 3084 3056 2656 \nQ 3513 2228 3513 1497 \nQ 3513 744 3044 326 \nQ 2575 -91 1722 -91 \nQ 1428 -91 1123 -41 \nQ 819 9 494 109 \nL 494 744 \nQ 775 591 1075 516 \nQ 1375 441 1709 441 \nQ 2250 441 2565 725 \nQ 2881 1009 2881 1497 \nQ 2881 1984 2565 2268 \nQ 2250 2553 1709 2553 \nQ 1456 2553 1204 2497 \nQ 953 2441 691 2322 \nL 691 4666 \nz\n\" transform=\"scale(0.015625)\"/>\n       </defs>\n       <use xlink:href=\"#DejaVuSans-35\"/>\n      </g>\n     </g>\n    </g>\n    <g id=\"xtick_3\">\n     <g id=\"line2d_5\">\n      <path d=\"M 170.852344 459.24375 \nL 170.852344 22.318125 \n\" clip-path=\"url(#pd7eeafcf8e)\" style=\"fill: none; stroke-dasharray: 0.8,1.32; stroke-dashoffset: 0; stroke: #b0b0b0; stroke-opacity: 0.5; stroke-width: 0.8\"/>\n     </g>\n     <g id=\"line2d_6\">\n      <g>\n       <use xlink:href=\"#m60fb982a7c\" x=\"170.852344\" y=\"459.24375\" style=\"stroke: #000000; stroke-width: 0.8\"/>\n      </g>\n     </g>\n     <g id=\"text_3\">\n      <!-- 10 -->\n      <g transform=\"translate(164.489844 473.842187) scale(0.1 -0.1)\">\n       <defs>\n        <path id=\"DejaVuSans-31\" d=\"M 794 531 \nL 1825 531 \nL 1825 4091 \nL 703 3866 \nL 703 4441 \nL 1819 4666 \nL 2450 4666 \nL 2450 531 \nL 3481 531 \nL 3481 0 \nL 794 0 \nL 794 531 \nz\n\" transform=\"scale(0.015625)\"/>\n       </defs>\n       <use xlink:href=\"#DejaVuSans-31\"/>\n       <use xlink:href=\"#DejaVuSans-30\" transform=\"translate(63.623047 0)\"/>\n      </g>\n     </g>\n    </g>\n    <g id=\"xtick_4\">\n     <g id=\"line2d_7\">\n      <path d=\"M 235.976953 459.24375 \nL 235.976953 22.318125 \n\" clip-path=\"url(#pd7eeafcf8e)\" style=\"fill: none; stroke-dasharray: 0.8,1.32; stroke-dashoffset: 0; stroke: #b0b0b0; stroke-opacity: 0.5; stroke-width: 0.8\"/>\n     </g>\n     <g id=\"line2d_8\">\n      <g>\n       <use xlink:href=\"#m60fb982a7c\" x=\"235.976953\" y=\"459.24375\" style=\"stroke: #000000; stroke-width: 0.8\"/>\n      </g>\n     </g>\n     <g id=\"text_4\">\n      <!-- 15 -->\n      <g transform=\"translate(229.614453 473.842187) scale(0.1 -0.1)\">\n       <use xlink:href=\"#DejaVuSans-31\"/>\n       <use xlink:href=\"#DejaVuSans-35\" transform=\"translate(63.623047 0)\"/>\n      </g>\n     </g>\n    </g>\n    <g id=\"xtick_5\">\n     <g id=\"line2d_9\">\n      <path d=\"M 301.101562 459.24375 \nL 301.101562 22.318125 \n\" clip-path=\"url(#pd7eeafcf8e)\" style=\"fill: none; stroke-dasharray: 0.8,1.32; stroke-dashoffset: 0; stroke: #b0b0b0; stroke-opacity: 0.5; stroke-width: 0.8\"/>\n     </g>\n     <g id=\"line2d_10\">\n      <g>\n       <use xlink:href=\"#m60fb982a7c\" x=\"301.101562\" y=\"459.24375\" style=\"stroke: #000000; stroke-width: 0.8\"/>\n      </g>\n     </g>\n     <g id=\"text_5\">\n      <!-- 20 -->\n      <g transform=\"translate(294.739062 473.842187) scale(0.1 -0.1)\">\n       <defs>\n        <path id=\"DejaVuSans-32\" d=\"M 1228 531 \nL 3431 531 \nL 3431 0 \nL 469 0 \nL 469 531 \nQ 828 903 1448 1529 \nQ 2069 2156 2228 2338 \nQ 2531 2678 2651 2914 \nQ 2772 3150 2772 3378 \nQ 2772 3750 2511 3984 \nQ 2250 4219 1831 4219 \nQ 1534 4219 1204 4116 \nQ 875 4013 500 3803 \nL 500 4441 \nQ 881 4594 1212 4672 \nQ 1544 4750 1819 4750 \nQ 2544 4750 2975 4387 \nQ 3406 4025 3406 3419 \nQ 3406 3131 3298 2873 \nQ 3191 2616 2906 2266 \nQ 2828 2175 2409 1742 \nQ 1991 1309 1228 531 \nz\n\" transform=\"scale(0.015625)\"/>\n       </defs>\n       <use xlink:href=\"#DejaVuSans-32\"/>\n       <use xlink:href=\"#DejaVuSans-30\" transform=\"translate(63.623047 0)\"/>\n      </g>\n     </g>\n    </g>\n    <g id=\"xtick_6\">\n     <g id=\"line2d_11\">\n      <path d=\"M 366.226172 459.24375 \nL 366.226172 22.318125 \n\" clip-path=\"url(#pd7eeafcf8e)\" style=\"fill: none; stroke-dasharray: 0.8,1.32; stroke-dashoffset: 0; stroke: #b0b0b0; stroke-opacity: 0.5; stroke-width: 0.8\"/>\n     </g>\n     <g id=\"line2d_12\">\n      <g>\n       <use xlink:href=\"#m60fb982a7c\" x=\"366.226172\" y=\"459.24375\" style=\"stroke: #000000; stroke-width: 0.8\"/>\n      </g>\n     </g>\n     <g id=\"text_6\">\n      <!-- 25 -->\n      <g transform=\"translate(359.863672 473.842187) scale(0.1 -0.1)\">\n       <use xlink:href=\"#DejaVuSans-32\"/>\n       <use xlink:href=\"#DejaVuSans-35\" transform=\"translate(63.623047 0)\"/>\n      </g>\n     </g>\n    </g>\n    <g id=\"xtick_7\">\n     <g id=\"line2d_13\">\n      <path d=\"M 431.350781 459.24375 \nL 431.350781 22.318125 \n\" clip-path=\"url(#pd7eeafcf8e)\" style=\"fill: none; stroke-dasharray: 0.8,1.32; stroke-dashoffset: 0; stroke: #b0b0b0; stroke-opacity: 0.5; stroke-width: 0.8\"/>\n     </g>\n     <g id=\"line2d_14\">\n      <g>\n       <use xlink:href=\"#m60fb982a7c\" x=\"431.350781\" y=\"459.24375\" style=\"stroke: #000000; stroke-width: 0.8\"/>\n      </g>\n     </g>\n     <g id=\"text_7\">\n      <!-- 30 -->\n      <g transform=\"translate(424.988281 473.842187) scale(0.1 -0.1)\">\n       <defs>\n        <path id=\"DejaVuSans-33\" d=\"M 2597 2516 \nQ 3050 2419 3304 2112 \nQ 3559 1806 3559 1356 \nQ 3559 666 3084 287 \nQ 2609 -91 1734 -91 \nQ 1441 -91 1130 -33 \nQ 819 25 488 141 \nL 488 750 \nQ 750 597 1062 519 \nQ 1375 441 1716 441 \nQ 2309 441 2620 675 \nQ 2931 909 2931 1356 \nQ 2931 1769 2642 2001 \nQ 2353 2234 1838 2234 \nL 1294 2234 \nL 1294 2753 \nL 1863 2753 \nQ 2328 2753 2575 2939 \nQ 2822 3125 2822 3475 \nQ 2822 3834 2567 4026 \nQ 2313 4219 1838 4219 \nQ 1578 4219 1281 4162 \nQ 984 4106 628 3988 \nL 628 4550 \nQ 988 4650 1302 4700 \nQ 1616 4750 1894 4750 \nQ 2613 4750 3031 4423 \nQ 3450 4097 3450 3541 \nQ 3450 3153 3228 2886 \nQ 3006 2619 2597 2516 \nz\n\" transform=\"scale(0.015625)\"/>\n       </defs>\n       <use xlink:href=\"#DejaVuSans-33\"/>\n       <use xlink:href=\"#DejaVuSans-30\" transform=\"translate(63.623047 0)\"/>\n      </g>\n     </g>\n    </g>\n    <g id=\"text_8\">\n     <!-- x / Δx (32 cells) -->\n     <g transform=\"translate(210.149531 487.520312) scale(0.1 -0.1)\">\n      <defs>\n       <path id=\"DejaVuSans-78\" d=\"M 3513 3500 \nL 2247 1797 \nL 3578 0 \nL 2900 0 \nL 1881 1375 \nL 863 0 \nL 184 0 \nL 1544 1831 \nL 300 3500 \nL 978 3500 \nL 1906 2253 \nL 2834 3500 \nL 3513 3500 \nz\n\" transform=\"scale(0.015625)\"/>\n       <path id=\"DejaVuSans-20\" transform=\"scale(0.015625)\"/>\n       <path id=\"DejaVuSans-2f\" d=\"M 1625 4666 \nL 2156 4666 \nL 531 -594 \nL 0 -594 \nL 1625 4666 \nz\n\" transform=\"scale(0.015625)\"/>\n       <path id=\"DejaVuSans-394\" d=\"M 2188 4044 \nL 906 525 \nL 3472 525 \nL 2188 4044 \nz\nM 50 0 \nL 1831 4666 \nL 2547 4666 \nL 4325 0 \nL 50 0 \nz\n\" transform=\"scale(0.015625)\"/>\n       <path id=\"DejaVuSans-28\" d=\"M 1984 4856 \nQ 1566 4138 1362 3434 \nQ 1159 2731 1159 2009 \nQ 1159 1288 1364 580 \nQ 1569 -128 1984 -844 \nL 1484 -844 \nQ 1016 -109 783 600 \nQ 550 1309 550 2009 \nQ 550 2706 781 3412 \nQ 1013 4119 1484 4856 \nL 1984 4856 \nz\n\" transform=\"scale(0.015625)\"/>\n       <path id=\"DejaVuSans-63\" d=\"M 3122 3366 \nL 3122 2828 \nQ 2878 2963 2633 3030 \nQ 2388 3097 2138 3097 \nQ 1578 3097 1268 2742 \nQ 959 2388 959 1747 \nQ 959 1106 1268 751 \nQ 1578 397 2138 397 \nQ 2388 397 2633 464 \nQ 2878 531 3122 666 \nL 3122 134 \nQ 2881 22 2623 -34 \nQ 2366 -91 2075 -91 \nQ 1284 -91 818 406 \nQ 353 903 353 1747 \nQ 353 2603 823 3093 \nQ 1294 3584 2113 3584 \nQ 2378 3584 2631 3529 \nQ 2884 3475 3122 3366 \nz\n\" transform=\"scale(0.015625)\"/>\n       <path id=\"DejaVuSans-65\" d=\"M 3597 1894 \nL 3597 1613 \nL 953 1613 \nQ 991 1019 1311 708 \nQ 1631 397 2203 397 \nQ 2534 397 2845 478 \nQ 3156 559 3463 722 \nL 3463 178 \nQ 3153 47 2828 -22 \nQ 2503 -91 2169 -91 \nQ 1331 -91 842 396 \nQ 353 884 353 1716 \nQ 353 2575 817 3079 \nQ 1281 3584 2069 3584 \nQ 2775 3584 3186 3129 \nQ 3597 2675 3597 1894 \nz\nM 3022 2063 \nQ 3016 2534 2758 2815 \nQ 2500 3097 2075 3097 \nQ 1594 3097 1305 2825 \nQ 1016 2553 972 2059 \nL 3022 2063 \nz\n\" transform=\"scale(0.015625)\"/>\n       <path id=\"DejaVuSans-6c\" d=\"M 603 4863 \nL 1178 4863 \nL 1178 0 \nL 603 0 \nL 603 4863 \nz\n\" transform=\"scale(0.015625)\"/>\n       <path id=\"DejaVuSans-73\" d=\"M 2834 3397 \nL 2834 2853 \nQ 2591 2978 2328 3040 \nQ 2066 3103 1784 3103 \nQ 1356 3103 1142 2972 \nQ 928 2841 928 2578 \nQ 928 2378 1081 2264 \nQ 1234 2150 1697 2047 \nL 1894 2003 \nQ 2506 1872 2764 1633 \nQ 3022 1394 3022 966 \nQ 3022 478 2636 193 \nQ 2250 -91 1575 -91 \nQ 1294 -91 989 -36 \nQ 684 19 347 128 \nL 347 722 \nQ 666 556 975 473 \nQ 1284 391 1588 391 \nQ 1994 391 2212 530 \nQ 2431 669 2431 922 \nQ 2431 1156 2273 1281 \nQ 2116 1406 1581 1522 \nL 1381 1569 \nQ 847 1681 609 1914 \nQ 372 2147 372 2553 \nQ 372 3047 722 3315 \nQ 1072 3584 1716 3584 \nQ 2034 3584 2315 3537 \nQ 2597 3491 2834 3397 \nz\n\" transform=\"scale(0.015625)\"/>\n       <path id=\"DejaVuSans-29\" d=\"M 513 4856 \nL 1013 4856 \nQ 1481 4119 1714 3412 \nQ 1947 2706 1947 2009 \nQ 1947 1309 1714 600 \nQ 1481 -109 1013 -844 \nL 513 -844 \nQ 928 -128 1133 580 \nQ 1338 1288 1338 2009 \nQ 1338 2731 1133 3434 \nQ 928 4138 513 4856 \nz\n\" transform=\"scale(0.015625)\"/>\n      </defs>\n      <use xlink:href=\"#DejaVuSans-78\"/>\n      <use xlink:href=\"#DejaVuSans-20\" transform=\"translate(59.179688 0)\"/>\n      <use xlink:href=\"#DejaVuSans-2f\" transform=\"translate(90.966797 0)\"/>\n      <use xlink:href=\"#DejaVuSans-20\" transform=\"translate(124.658203 0)\"/>\n      <use xlink:href=\"#DejaVuSans-394\" transform=\"translate(156.445312 0)\"/>\n      <use xlink:href=\"#DejaVuSans-78\" transform=\"translate(224.853516 0)\"/>\n      <use xlink:href=\"#DejaVuSans-20\" transform=\"translate(284.033203 0)\"/>\n      <use xlink:href=\"#DejaVuSans-28\" transform=\"translate(315.820312 0)\"/>\n      <use xlink:href=\"#DejaVuSans-33\" transform=\"translate(354.833984 0)\"/>\n      <use xlink:href=\"#DejaVuSans-32\" transform=\"translate(418.457031 0)\"/>\n      <use xlink:href=\"#DejaVuSans-20\" transform=\"translate(482.080078 0)\"/>\n      <use xlink:href=\"#DejaVuSans-63\" transform=\"translate(513.867188 0)\"/>\n      <use xlink:href=\"#DejaVuSans-65\" transform=\"translate(568.847656 0)\"/>\n      <use xlink:href=\"#DejaVuSans-6c\" transform=\"translate(630.371094 0)\"/>\n      <use xlink:href=\"#DejaVuSans-6c\" transform=\"translate(658.154297 0)\"/>\n      <use xlink:href=\"#DejaVuSans-73\" transform=\"translate(685.9375 0)\"/>\n      <use xlink:href=\"#DejaVuSans-29\" transform=\"translate(738.037109 0)\"/>\n     </g>\n    </g>\n   </g>\n   <g id=\"matplotlib.axis_2\">\n    <g id=\"ytick_1\">\n     <g id=\"line2d_15\">\n      <path d=\"M 40.603125 459.24375 \nL 457.400625 459.24375 \n\" clip-path=\"url(#pd7eeafcf8e)\" style=\"fill: none; stroke-dasharray: 0.8,1.32; stroke-dashoffset: 0; stroke: #b0b0b0; stroke-opacity: 0.5; stroke-width: 0.8\"/>\n     </g>\n     <g id=\"line2d_16\">\n      <defs>\n       <path id=\"m8da1a78c35\" d=\"M 0 0 \nL -3.5 0 \n\" style=\"stroke: #000000; stroke-width: 0.8\"/>\n      </defs>\n      <g>\n       <use xlink:href=\"#m8da1a78c35\" x=\"40.603125\" y=\"459.24375\" style=\"stroke: #000000; stroke-width: 0.8\"/>\n      </g>\n     </g>\n     <g id=\"text_9\">\n      <!-- 0 -->\n      <g transform=\"translate(27.240625 463.042969) scale(0.1 -0.1)\">\n       <use xlink:href=\"#DejaVuSans-30\"/>\n      </g>\n     </g>\n    </g>\n    <g id=\"ytick_2\">\n     <g id=\"line2d_17\">\n      <path d=\"M 40.603125 390.974121 \nL 457.400625 390.974121 \n\" clip-path=\"url(#pd7eeafcf8e)\" style=\"fill: none; stroke-dasharray: 0.8,1.32; stroke-dashoffset: 0; stroke: #b0b0b0; stroke-opacity: 0.5; stroke-width: 0.8\"/>\n     </g>\n     <g id=\"line2d_18\">\n      <g>\n       <use xlink:href=\"#m8da1a78c35\" x=\"40.603125\" y=\"390.974121\" style=\"stroke: #000000; stroke-width: 0.8\"/>\n      </g>\n     </g>\n     <g id=\"text_10\">\n      <!-- 5 -->\n      <g transform=\"translate(27.240625 394.77334) scale(0.1 -0.1)\">\n       <use xlink:href=\"#DejaVuSans-35\"/>\n      </g>\n     </g>\n    </g>\n    <g id=\"ytick_3\">\n     <g id=\"line2d_19\">\n      <path d=\"M 40.603125 322.704492 \nL 457.400625 322.704492 \n\" clip-path=\"url(#pd7eeafcf8e)\" style=\"fill: none; stroke-dasharray: 0.8,1.32; stroke-dashoffset: 0; stroke: #b0b0b0; stroke-opacity: 0.5; stroke-width: 0.8\"/>\n     </g>\n     <g id=\"line2d_20\">\n      <g>\n       <use xlink:href=\"#m8da1a78c35\" x=\"40.603125\" y=\"322.704492\" style=\"stroke: #000000; stroke-width: 0.8\"/>\n      </g>\n     </g>\n     <g id=\"text_11\">\n      <!-- 10 -->\n      <g transform=\"translate(20.878125 326.503711) scale(0.1 -0.1)\">\n       <use xlink:href=\"#DejaVuSans-31\"/>\n       <use xlink:href=\"#DejaVuSans-30\" transform=\"translate(63.623047 0)\"/>\n      </g>\n     </g>\n    </g>\n    <g id=\"ytick_4\">\n     <g id=\"line2d_21\">\n      <path d=\"M 40.603125 254.434863 \nL 457.400625 254.434863 \n\" clip-path=\"url(#pd7eeafcf8e)\" style=\"fill: none; stroke-dasharray: 0.8,1.32; stroke-dashoffset: 0; stroke: #b0b0b0; stroke-opacity: 0.5; stroke-width: 0.8\"/>\n     </g>\n     <g id=\"line2d_22\">\n      <g>\n       <use xlink:href=\"#m8da1a78c35\" x=\"40.603125\" y=\"254.434863\" style=\"stroke: #000000; stroke-width: 0.8\"/>\n      </g>\n     </g>\n     <g id=\"text_12\">\n      <!-- 15 -->\n      <g transform=\"translate(20.878125 258.234082) scale(0.1 -0.1)\">\n       <use xlink:href=\"#DejaVuSans-31\"/>\n       <use xlink:href=\"#DejaVuSans-35\" transform=\"translate(63.623047 0)\"/>\n      </g>\n     </g>\n    </g>\n    <g id=\"ytick_5\">\n     <g id=\"line2d_23\">\n      <path d=\"M 40.603125 186.165234 \nL 457.400625 186.165234 \n\" clip-path=\"url(#pd7eeafcf8e)\" style=\"fill: none; stroke-dasharray: 0.8,1.32; stroke-dashoffset: 0; stroke: #b0b0b0; stroke-opacity: 0.5; stroke-width: 0.8\"/>\n     </g>\n     <g id=\"line2d_24\">\n      <g>\n       <use xlink:href=\"#m8da1a78c35\" x=\"40.603125\" y=\"186.165234\" style=\"stroke: #000000; stroke-width: 0.8\"/>\n      </g>\n     </g>\n     <g id=\"text_13\">\n      <!-- 20 -->\n      <g transform=\"translate(20.878125 189.964453) scale(0.1 -0.1)\">\n       <use xlink:href=\"#DejaVuSans-32\"/>\n       <use xlink:href=\"#DejaVuSans-30\" transform=\"translate(63.623047 0)\"/>\n      </g>\n     </g>\n    </g>\n    <g id=\"ytick_6\">\n     <g id=\"line2d_25\">\n      <path d=\"M 40.603125 117.895605 \nL 457.400625 117.895605 \n\" clip-path=\"url(#pd7eeafcf8e)\" style=\"fill: none; stroke-dasharray: 0.8,1.32; stroke-dashoffset: 0; stroke: #b0b0b0; stroke-opacity: 0.5; stroke-width: 0.8\"/>\n     </g>\n     <g id=\"line2d_26\">\n      <g>\n       <use xlink:href=\"#m8da1a78c35\" x=\"40.603125\" y=\"117.895605\" style=\"stroke: #000000; stroke-width: 0.8\"/>\n      </g>\n     </g>\n     <g id=\"text_14\">\n      <!-- 25 -->\n      <g transform=\"translate(20.878125 121.694824) scale(0.1 -0.1)\">\n       <use xlink:href=\"#DejaVuSans-32\"/>\n       <use xlink:href=\"#DejaVuSans-35\" transform=\"translate(63.623047 0)\"/>\n      </g>\n     </g>\n    </g>\n    <g id=\"ytick_7\">\n     <g id=\"line2d_27\">\n      <path d=\"M 40.603125 49.625977 \nL 457.400625 49.625977 \n\" clip-path=\"url(#pd7eeafcf8e)\" style=\"fill: none; stroke-dasharray: 0.8,1.32; stroke-dashoffset: 0; stroke: #b0b0b0; stroke-opacity: 0.5; stroke-width: 0.8\"/>\n     </g>\n     <g id=\"line2d_28\">\n      <g>\n       <use xlink:href=\"#m8da1a78c35\" x=\"40.603125\" y=\"49.625977\" style=\"stroke: #000000; stroke-width: 0.8\"/>\n      </g>\n     </g>\n     <g id=\"text_15\">\n      <!-- 30 -->\n      <g transform=\"translate(20.878125 53.425195) scale(0.1 -0.1)\">\n       <use xlink:href=\"#DejaVuSans-33\"/>\n       <use xlink:href=\"#DejaVuSans-30\" transform=\"translate(63.623047 0)\"/>\n      </g>\n     </g>\n    </g>\n    <g id=\"text_16\">\n     <!-- y / Δy (32 cells) -->\n     <g transform=\"translate(14.798438 279.633281) rotate(-90) scale(0.1 -0.1)\">\n      <defs>\n       <path id=\"DejaVuSans-79\" d=\"M 2059 -325 \nQ 1816 -950 1584 -1140 \nQ 1353 -1331 966 -1331 \nL 506 -1331 \nL 506 -850 \nL 844 -850 \nQ 1081 -850 1212 -737 \nQ 1344 -625 1503 -206 \nL 1606 56 \nL 191 3500 \nL 800 3500 \nL 1894 763 \nL 2988 3500 \nL 3597 3500 \nL 2059 -325 \nz\n\" transform=\"scale(0.015625)\"/>\n      </defs>\n      <use xlink:href=\"#DejaVuSans-79\"/>\n      <use xlink:href=\"#DejaVuSans-20\" transform=\"translate(59.179688 0)\"/>\n      <use xlink:href=\"#DejaVuSans-2f\" transform=\"translate(90.966797 0)\"/>\n      <use xlink:href=\"#DejaVuSans-20\" transform=\"translate(124.658203 0)\"/>\n      <use xlink:href=\"#DejaVuSans-394\" transform=\"translate(156.445312 0)\"/>\n      <use xlink:href=\"#DejaVuSans-79\" transform=\"translate(224.853516 0)\"/>\n      <use xlink:href=\"#DejaVuSans-20\" transform=\"translate(284.033203 0)\"/>\n      <use xlink:href=\"#DejaVuSans-28\" transform=\"translate(315.820312 0)\"/>\n      <use xlink:href=\"#DejaVuSans-33\" transform=\"translate(354.833984 0)\"/>\n      <use xlink:href=\"#DejaVuSans-32\" transform=\"translate(418.457031 0)\"/>\n      <use xlink:href=\"#DejaVuSans-20\" transform=\"translate(482.080078 0)\"/>\n      <use xlink:href=\"#DejaVuSans-63\" transform=\"translate(513.867188 0)\"/>\n      <use xlink:href=\"#DejaVuSans-65\" transform=\"translate(568.847656 0)\"/>\n      <use xlink:href=\"#DejaVuSans-6c\" transform=\"translate(630.371094 0)\"/>\n      <use xlink:href=\"#DejaVuSans-6c\" transform=\"translate(658.154297 0)\"/>\n      <use xlink:href=\"#DejaVuSans-73\" transform=\"translate(685.9375 0)\"/>\n      <use xlink:href=\"#DejaVuSans-29\" transform=\"translate(738.037109 0)\"/>\n     </g>\n    </g>\n   </g>\n   <g id=\"QuadContourSet_1\">\n    <path clip-path=\"url(#pd7eeafcf8e)\" style=\"fill: none; stroke-dasharray: 5.55,2.4; stroke-dashoffset: 0; stroke: #ff0000; stroke-opacity: 0.8; stroke-width: 1.5\"/>\n    <path d=\"M 318.468125 253.328216 \nL 325.083958 255.559683 \nL 331.699792 256.307977 \nL 338.315625 255.814159 \nL 344.931458 253.920255 \nL 349.85078 251.183929 \nL 351.547292 250.246794 \nL 358.163125 244.405641 \nL 358.306081 244.248601 \nL 363.291404 237.313274 \nL 364.778958 233.716506 \nL 366.25721 230.377946 \nL 367.820458 223.442619 \nL 368.011326 216.507292 \nL 366.890578 209.571964 \nL 364.778958 204.110009 \nL 364.262755 202.636637 \nL 360.14647 195.70131 \nL 358.163125 193.385687 \nL 353.05149 188.765982 \nL 351.547292 187.582764 \nL 344.931458 183.983108 \nL 338.315625 182.252019 \nL 332.156379 181.830655 \nL 331.699792 181.788199 \nL 331.392343 181.830655 \nL 325.083958 182.484618 \nL 318.468125 184.524251 \nL 311.852292 188.627153 \nL 311.684017 188.765982 \nL 305.236458 195.001993 \nL 304.658168 195.70131 \nL 300.3503 202.636637 \nL 298.620625 207.854205 \nL 297.974361 209.571964 \nL 296.768056 216.507292 \nL 296.973495 223.442619 \nL 298.620625 230.247505 \nL 298.646551 230.377946 \nL 301.36686 237.313274 \nL 305.236458 242.845797 \nL 306.379646 244.248601 \nL 311.852292 249.355875 \nL 314.875173 251.183929 \nL 318.468125 253.328216 \nz\n\" clip-path=\"url(#pd7eeafcf8e)\" style=\"fill: none; stroke-dasharray: 5.55,2.4; stroke-dashoffset: 0; stroke: #ff0000; stroke-opacity: 0.8; stroke-width: 1.5\"/>\n    <path d=\"M 325.083958 244.652171 \nL 331.699792 245.819088 \nL 338.315625 245.04901 \nL 340.298832 244.248601 \nL 344.931458 242.279049 \nL 350.928743 237.313274 \nL 351.547292 236.579928 \nL 355.520028 230.377946 \nL 357.58081 223.442619 \nL 357.832425 216.507292 \nL 356.354977 209.571964 \nL 352.666484 202.636637 \nL 351.547292 201.273261 \nL 345.084202 195.70131 \nL 344.931458 195.594338 \nL 338.315625 192.77056 \nL 331.699792 192.034285 \nL 325.083958 193.149979 \nL 319.828194 195.70131 \nL 318.468125 196.451103 \nL 312.077471 202.636637 \nL 311.852292 202.981653 \nL 308.337983 209.571964 \nL 306.841507 216.507292 \nL 307.096363 223.442619 \nL 309.183686 230.377946 \nL 311.852292 234.747416 \nL 313.829147 237.313274 \nL 318.468125 241.434471 \nL 324.20037 244.248601 \nL 325.083958 244.652171 \nz\n\" clip-path=\"url(#pd7eeafcf8e)\" style=\"fill: none; stroke-dasharray: 5.55,2.4; stroke-dashoffset: 0; stroke: #ff0000; stroke-opacity: 0.8; stroke-width: 1.5\"/>\n    <path d=\"M 325.083958 235.298873 \nL 331.699792 237.099028 \nL 338.315625 235.911059 \nL 344.931458 231.354934 \nL 345.776535 230.377946 \nL 349.053912 223.442619 \nL 349.45407 216.507292 \nL 347.104401 209.571964 \nL 344.931458 206.69481 \nL 339.695352 202.636637 \nL 338.315625 201.874278 \nL 331.699792 200.806819 \nL 325.083958 202.424363 \nL 324.744486 202.636637 \nL 318.468125 208.253697 \nL 317.540185 209.571964 \nL 315.260131 216.507292 \nL 315.648433 223.442619 \nL 318.468125 229.668862 \nL 318.943152 230.377946 \nL 325.083958 235.298873 \nz\n\" clip-path=\"url(#pd7eeafcf8e)\" style=\"fill: none; stroke-dasharray: 5.55,2.4; stroke-dashoffset: 0; stroke: #ff0000; stroke-opacity: 0.8; stroke-width: 1.5\"/>\n    <path d=\"M 331.699792 225.77204 \nL 337.854448 223.442619 \nL 338.315625 222.137005 \nL 338.927928 216.507292 \nL 338.315625 215.478449 \nL 331.699792 212.181358 \nL 325.926007 216.507292 \nL 327.555477 223.442619 \nL 331.699792 225.77204 \nz\n\" clip-path=\"url(#pd7eeafcf8e)\" style=\"fill: none; stroke-dasharray: 5.55,2.4; stroke-dashoffset: 0; stroke: #ff0000; stroke-opacity: 0.8; stroke-width: 1.5\"/>\n    <path clip-path=\"url(#pd7eeafcf8e)\" style=\"fill: none; stroke-dasharray: 5.55,2.4; stroke-dashoffset: 0; stroke: #ff0000; stroke-opacity: 0.8; stroke-width: 1.5\"/>\n   </g>\n   <g id=\"line2d_29\"/>\n   <g id=\"patch_3\">\n    <path d=\"M 40.603125 459.24375 \nL 40.603125 22.318125 \n\" style=\"fill: none; stroke: #000000; stroke-width: 0.8; stroke-linejoin: miter; stroke-linecap: square\"/>\n   </g>\n   <g id=\"patch_4\">\n    <path d=\"M 457.400625 459.24375 \nL 457.400625 22.318125 \n\" style=\"fill: none; stroke: #000000; stroke-width: 0.8; stroke-linejoin: miter; stroke-linecap: square\"/>\n   </g>\n   <g id=\"patch_5\">\n    <path d=\"M 40.603125 459.24375 \nL 457.400625 459.24375 \n\" style=\"fill: none; stroke: #000000; stroke-width: 0.8; stroke-linejoin: miter; stroke-linecap: square\"/>\n   </g>\n   <g id=\"patch_6\">\n    <path d=\"M 40.603125 22.318125 \nL 457.400625 22.318125 \n\" style=\"fill: none; stroke: #000000; stroke-width: 0.8; stroke-linejoin: miter; stroke-linecap: square\"/>\n   </g>\n   <g id=\"text_17\">\n    <!-- Final State (t=300), Cx=0.24, Cy=0.16 -->\n    <g transform=\"translate(132.07875 16.318125) scale(0.12 -0.12)\">\n     <defs>\n      <path id=\"DejaVuSans-46\" d=\"M 628 4666 \nL 3309 4666 \nL 3309 4134 \nL 1259 4134 \nL 1259 2759 \nL 3109 2759 \nL 3109 2228 \nL 1259 2228 \nL 1259 0 \nL 628 0 \nL 628 4666 \nz\n\" transform=\"scale(0.015625)\"/>\n      <path id=\"DejaVuSans-69\" d=\"M 603 3500 \nL 1178 3500 \nL 1178 0 \nL 603 0 \nL 603 3500 \nz\nM 603 4863 \nL 1178 4863 \nL 1178 4134 \nL 603 4134 \nL 603 4863 \nz\n\" transform=\"scale(0.015625)\"/>\n      <path id=\"DejaVuSans-6e\" d=\"M 3513 2113 \nL 3513 0 \nL 2938 0 \nL 2938 2094 \nQ 2938 2591 2744 2837 \nQ 2550 3084 2163 3084 \nQ 1697 3084 1428 2787 \nQ 1159 2491 1159 1978 \nL 1159 0 \nL 581 0 \nL 581 3500 \nL 1159 3500 \nL 1159 2956 \nQ 1366 3272 1645 3428 \nQ 1925 3584 2291 3584 \nQ 2894 3584 3203 3211 \nQ 3513 2838 3513 2113 \nz\n\" transform=\"scale(0.015625)\"/>\n      <path id=\"DejaVuSans-61\" d=\"M 2194 1759 \nQ 1497 1759 1228 1600 \nQ 959 1441 959 1056 \nQ 959 750 1161 570 \nQ 1363 391 1709 391 \nQ 2188 391 2477 730 \nQ 2766 1069 2766 1631 \nL 2766 1759 \nL 2194 1759 \nz\nM 3341 1997 \nL 3341 0 \nL 2766 0 \nL 2766 531 \nQ 2569 213 2275 61 \nQ 1981 -91 1556 -91 \nQ 1019 -91 701 211 \nQ 384 513 384 1019 \nQ 384 1609 779 1909 \nQ 1175 2209 1959 2209 \nL 2766 2209 \nL 2766 2266 \nQ 2766 2663 2505 2880 \nQ 2244 3097 1772 3097 \nQ 1472 3097 1187 3025 \nQ 903 2953 641 2809 \nL 641 3341 \nQ 956 3463 1253 3523 \nQ 1550 3584 1831 3584 \nQ 2591 3584 2966 3190 \nQ 3341 2797 3341 1997 \nz\n\" transform=\"scale(0.015625)\"/>\n      <path id=\"DejaVuSans-53\" d=\"M 3425 4513 \nL 3425 3897 \nQ 3066 4069 2747 4153 \nQ 2428 4238 2131 4238 \nQ 1616 4238 1336 4038 \nQ 1056 3838 1056 3469 \nQ 1056 3159 1242 3001 \nQ 1428 2844 1947 2747 \nL 2328 2669 \nQ 3034 2534 3370 2195 \nQ 3706 1856 3706 1288 \nQ 3706 609 3251 259 \nQ 2797 -91 1919 -91 \nQ 1588 -91 1214 -16 \nQ 841 59 441 206 \nL 441 856 \nQ 825 641 1194 531 \nQ 1563 422 1919 422 \nQ 2459 422 2753 634 \nQ 3047 847 3047 1241 \nQ 3047 1584 2836 1778 \nQ 2625 1972 2144 2069 \nL 1759 2144 \nQ 1053 2284 737 2584 \nQ 422 2884 422 3419 \nQ 422 4038 858 4394 \nQ 1294 4750 2059 4750 \nQ 2388 4750 2728 4690 \nQ 3069 4631 3425 4513 \nz\n\" transform=\"scale(0.015625)\"/>\n      <path id=\"DejaVuSans-74\" d=\"M 1172 4494 \nL 1172 3500 \nL 2356 3500 \nL 2356 3053 \nL 1172 3053 \nL 1172 1153 \nQ 1172 725 1289 603 \nQ 1406 481 1766 481 \nL 2356 481 \nL 2356 0 \nL 1766 0 \nQ 1100 0 847 248 \nQ 594 497 594 1153 \nL 594 3053 \nL 172 3053 \nL 172 3500 \nL 594 3500 \nL 594 4494 \nL 1172 4494 \nz\n\" transform=\"scale(0.015625)\"/>\n      <path id=\"DejaVuSans-3d\" d=\"M 678 2906 \nL 4684 2906 \nL 4684 2381 \nL 678 2381 \nL 678 2906 \nz\nM 678 1631 \nL 4684 1631 \nL 4684 1100 \nL 678 1100 \nL 678 1631 \nz\n\" transform=\"scale(0.015625)\"/>\n      <path id=\"DejaVuSans-2c\" d=\"M 750 794 \nL 1409 794 \nL 1409 256 \nL 897 -744 \nL 494 -744 \nL 750 256 \nL 750 794 \nz\n\" transform=\"scale(0.015625)\"/>\n      <path id=\"DejaVuSans-43\" d=\"M 4122 4306 \nL 4122 3641 \nQ 3803 3938 3442 4084 \nQ 3081 4231 2675 4231 \nQ 1875 4231 1450 3742 \nQ 1025 3253 1025 2328 \nQ 1025 1406 1450 917 \nQ 1875 428 2675 428 \nQ 3081 428 3442 575 \nQ 3803 722 4122 1019 \nL 4122 359 \nQ 3791 134 3420 21 \nQ 3050 -91 2638 -91 \nQ 1578 -91 968 557 \nQ 359 1206 359 2328 \nQ 359 3453 968 4101 \nQ 1578 4750 2638 4750 \nQ 3056 4750 3426 4639 \nQ 3797 4528 4122 4306 \nz\n\" transform=\"scale(0.015625)\"/>\n      <path id=\"DejaVuSans-2e\" d=\"M 684 794 \nL 1344 794 \nL 1344 0 \nL 684 0 \nL 684 794 \nz\n\" transform=\"scale(0.015625)\"/>\n      <path id=\"DejaVuSans-34\" d=\"M 2419 4116 \nL 825 1625 \nL 2419 1625 \nL 2419 4116 \nz\nM 2253 4666 \nL 3047 4666 \nL 3047 1625 \nL 3713 1625 \nL 3713 1100 \nL 3047 1100 \nL 3047 0 \nL 2419 0 \nL 2419 1100 \nL 313 1100 \nL 313 1709 \nL 2253 4666 \nz\n\" transform=\"scale(0.015625)\"/>\n      <path id=\"DejaVuSans-36\" d=\"M 2113 2584 \nQ 1688 2584 1439 2293 \nQ 1191 2003 1191 1497 \nQ 1191 994 1439 701 \nQ 1688 409 2113 409 \nQ 2538 409 2786 701 \nQ 3034 994 3034 1497 \nQ 3034 2003 2786 2293 \nQ 2538 2584 2113 2584 \nz\nM 3366 4563 \nL 3366 3988 \nQ 3128 4100 2886 4159 \nQ 2644 4219 2406 4219 \nQ 1781 4219 1451 3797 \nQ 1122 3375 1075 2522 \nQ 1259 2794 1537 2939 \nQ 1816 3084 2150 3084 \nQ 2853 3084 3261 2657 \nQ 3669 2231 3669 1497 \nQ 3669 778 3244 343 \nQ 2819 -91 2113 -91 \nQ 1303 -91 875 529 \nQ 447 1150 447 2328 \nQ 447 3434 972 4092 \nQ 1497 4750 2381 4750 \nQ 2619 4750 2861 4703 \nQ 3103 4656 3366 4563 \nz\n\" transform=\"scale(0.015625)\"/>\n     </defs>\n     <use xlink:href=\"#DejaVuSans-46\"/>\n     <use xlink:href=\"#DejaVuSans-69\" transform=\"translate(50.269531 0)\"/>\n     <use xlink:href=\"#DejaVuSans-6e\" transform=\"translate(78.052734 0)\"/>\n     <use xlink:href=\"#DejaVuSans-61\" transform=\"translate(141.431641 0)\"/>\n     <use xlink:href=\"#DejaVuSans-6c\" transform=\"translate(202.710938 0)\"/>\n     <use xlink:href=\"#DejaVuSans-20\" transform=\"translate(230.494141 0)\"/>\n     <use xlink:href=\"#DejaVuSans-53\" transform=\"translate(262.28125 0)\"/>\n     <use xlink:href=\"#DejaVuSans-74\" transform=\"translate(325.757812 0)\"/>\n     <use xlink:href=\"#DejaVuSans-61\" transform=\"translate(364.966797 0)\"/>\n     <use xlink:href=\"#DejaVuSans-74\" transform=\"translate(426.246094 0)\"/>\n     <use xlink:href=\"#DejaVuSans-65\" transform=\"translate(465.455078 0)\"/>\n     <use xlink:href=\"#DejaVuSans-20\" transform=\"translate(526.978516 0)\"/>\n     <use xlink:href=\"#DejaVuSans-28\" transform=\"translate(558.765625 0)\"/>\n     <use xlink:href=\"#DejaVuSans-74\" transform=\"translate(597.779297 0)\"/>\n     <use xlink:href=\"#DejaVuSans-3d\" transform=\"translate(636.988281 0)\"/>\n     <use xlink:href=\"#DejaVuSans-33\" transform=\"translate(720.777344 0)\"/>\n     <use xlink:href=\"#DejaVuSans-30\" transform=\"translate(784.400391 0)\"/>\n     <use xlink:href=\"#DejaVuSans-30\" transform=\"translate(848.023438 0)\"/>\n     <use xlink:href=\"#DejaVuSans-29\" transform=\"translate(911.646484 0)\"/>\n     <use xlink:href=\"#DejaVuSans-2c\" transform=\"translate(950.660156 0)\"/>\n     <use xlink:href=\"#DejaVuSans-20\" transform=\"translate(982.447266 0)\"/>\n     <use xlink:href=\"#DejaVuSans-43\" transform=\"translate(1014.234375 0)\"/>\n     <use xlink:href=\"#DejaVuSans-78\" transform=\"translate(1084.058594 0)\"/>\n     <use xlink:href=\"#DejaVuSans-3d\" transform=\"translate(1143.238281 0)\"/>\n     <use xlink:href=\"#DejaVuSans-30\" transform=\"translate(1227.027344 0)\"/>\n     <use xlink:href=\"#DejaVuSans-2e\" transform=\"translate(1290.650391 0)\"/>\n     <use xlink:href=\"#DejaVuSans-32\" transform=\"translate(1322.4375 0)\"/>\n     <use xlink:href=\"#DejaVuSans-34\" transform=\"translate(1386.060547 0)\"/>\n     <use xlink:href=\"#DejaVuSans-2c\" transform=\"translate(1449.683594 0)\"/>\n     <use xlink:href=\"#DejaVuSans-20\" transform=\"translate(1481.470703 0)\"/>\n     <use xlink:href=\"#DejaVuSans-43\" transform=\"translate(1513.257812 0)\"/>\n     <use xlink:href=\"#DejaVuSans-79\" transform=\"translate(1583.082031 0)\"/>\n     <use xlink:href=\"#DejaVuSans-3d\" transform=\"translate(1642.261719 0)\"/>\n     <use xlink:href=\"#DejaVuSans-30\" transform=\"translate(1726.050781 0)\"/>\n     <use xlink:href=\"#DejaVuSans-2e\" transform=\"translate(1789.673828 0)\"/>\n     <use xlink:href=\"#DejaVuSans-31\" transform=\"translate(1821.460938 0)\"/>\n     <use xlink:href=\"#DejaVuSans-36\" transform=\"translate(1885.083984 0)\"/>\n    </g>\n   </g>\n   <g id=\"legend_1\">\n    <g id=\"patch_7\">\n     <path d=\"M 331.988125 44.99625 \nL 450.400625 44.99625 \nQ 452.400625 44.99625 452.400625 42.99625 \nL 452.400625 29.318125 \nQ 452.400625 27.318125 450.400625 27.318125 \nL 331.988125 27.318125 \nQ 329.988125 27.318125 329.988125 29.318125 \nL 329.988125 42.99625 \nQ 329.988125 44.99625 331.988125 44.99625 \nz\n\" style=\"fill: #ffffff; opacity: 0.8; stroke: #cccccc; stroke-linejoin: miter\"/>\n    </g>\n    <g id=\"line2d_30\">\n     <path d=\"M 333.988125 35.416562 \nL 343.988125 35.416562 \nL 353.988125 35.416562 \n\" style=\"fill: none; stroke-dasharray: 5.55,2.4; stroke-dashoffset: 0; stroke: #ff0000; stroke-width: 1.5\"/>\n    </g>\n    <g id=\"text_18\">\n     <!-- Analytic (Shifted) -->\n     <g transform=\"translate(361.988125 38.916562) scale(0.1 -0.1)\">\n      <defs>\n       <path id=\"DejaVuSans-41\" d=\"M 2188 4044 \nL 1331 1722 \nL 3047 1722 \nL 2188 4044 \nz\nM 1831 4666 \nL 2547 4666 \nL 4325 0 \nL 3669 0 \nL 3244 1197 \nL 1141 1197 \nL 716 0 \nL 50 0 \nL 1831 4666 \nz\n\" transform=\"scale(0.015625)\"/>\n       <path id=\"DejaVuSans-68\" d=\"M 3513 2113 \nL 3513 0 \nL 2938 0 \nL 2938 2094 \nQ 2938 2591 2744 2837 \nQ 2550 3084 2163 3084 \nQ 1697 3084 1428 2787 \nQ 1159 2491 1159 1978 \nL 1159 0 \nL 581 0 \nL 581 4863 \nL 1159 4863 \nL 1159 2956 \nQ 1366 3272 1645 3428 \nQ 1925 3584 2291 3584 \nQ 2894 3584 3203 3211 \nQ 3513 2838 3513 2113 \nz\n\" transform=\"scale(0.015625)\"/>\n       <path id=\"DejaVuSans-66\" d=\"M 2375 4863 \nL 2375 4384 \nL 1825 4384 \nQ 1516 4384 1395 4259 \nQ 1275 4134 1275 3809 \nL 1275 3500 \nL 2222 3500 \nL 2222 3053 \nL 1275 3053 \nL 1275 0 \nL 697 0 \nL 697 3053 \nL 147 3053 \nL 147 3500 \nL 697 3500 \nL 697 3744 \nQ 697 4328 969 4595 \nQ 1241 4863 1831 4863 \nL 2375 4863 \nz\n\" transform=\"scale(0.015625)\"/>\n       <path id=\"DejaVuSans-64\" d=\"M 2906 2969 \nL 2906 4863 \nL 3481 4863 \nL 3481 0 \nL 2906 0 \nL 2906 525 \nQ 2725 213 2448 61 \nQ 2172 -91 1784 -91 \nQ 1150 -91 751 415 \nQ 353 922 353 1747 \nQ 353 2572 751 3078 \nQ 1150 3584 1784 3584 \nQ 2172 3584 2448 3432 \nQ 2725 3281 2906 2969 \nz\nM 947 1747 \nQ 947 1113 1208 752 \nQ 1469 391 1925 391 \nQ 2381 391 2643 752 \nQ 2906 1113 2906 1747 \nQ 2906 2381 2643 2742 \nQ 2381 3103 1925 3103 \nQ 1469 3103 1208 2742 \nQ 947 2381 947 1747 \nz\n\" transform=\"scale(0.015625)\"/>\n      </defs>\n      <use xlink:href=\"#DejaVuSans-41\"/>\n      <use xlink:href=\"#DejaVuSans-6e\" transform=\"translate(68.408203 0)\"/>\n      <use xlink:href=\"#DejaVuSans-61\" transform=\"translate(131.787109 0)\"/>\n      <use xlink:href=\"#DejaVuSans-6c\" transform=\"translate(193.066406 0)\"/>\n      <use xlink:href=\"#DejaVuSans-79\" transform=\"translate(220.849609 0)\"/>\n      <use xlink:href=\"#DejaVuSans-74\" transform=\"translate(280.029297 0)\"/>\n      <use xlink:href=\"#DejaVuSans-69\" transform=\"translate(319.238281 0)\"/>\n      <use xlink:href=\"#DejaVuSans-63\" transform=\"translate(347.021484 0)\"/>\n      <use xlink:href=\"#DejaVuSans-20\" transform=\"translate(402.001953 0)\"/>\n      <use xlink:href=\"#DejaVuSans-28\" transform=\"translate(433.789062 0)\"/>\n      <use xlink:href=\"#DejaVuSans-53\" transform=\"translate(472.802734 0)\"/>\n      <use xlink:href=\"#DejaVuSans-68\" transform=\"translate(536.279297 0)\"/>\n      <use xlink:href=\"#DejaVuSans-69\" transform=\"translate(599.658203 0)\"/>\n      <use xlink:href=\"#DejaVuSans-66\" transform=\"translate(627.441406 0)\"/>\n      <use xlink:href=\"#DejaVuSans-74\" transform=\"translate(660.896484 0)\"/>\n      <use xlink:href=\"#DejaVuSans-65\" transform=\"translate(700.105469 0)\"/>\n      <use xlink:href=\"#DejaVuSans-64\" transform=\"translate(761.628906 0)\"/>\n      <use xlink:href=\"#DejaVuSans-29\" transform=\"translate(825.105469 0)\"/>\n     </g>\n    </g>\n   </g>\n  </g>\n  <g id=\"axes_2\">\n   <g id=\"patch_8\">\n    <path d=\"M 483.450469 459.24375 \nL 505.29675 459.24375 \nL 505.29675 22.318125 \nL 483.450469 22.318125 \nz\n\" style=\"fill: #ffffff\"/>\n   </g>\n   <image xlink:href=\"data:image/png;base64,\niVBORw0KGgoAAAANSUhEUgAAAB8AAAJfCAYAAACHaQ18AAAC/ElEQVR4nO3d25XjQAwDUT06tAlh8g9lZ7NQfVxUAjwkAXTL8rHvn/v374p4qsJ58XPdXf228/u5s+LbuVd8gkuIO1d3XgsOHfu5H9Zq6s7rhJvgvocWHDr2c+8aFSBbTU04uXP1PJ/gEtzON/YE9zLh7rweO3qkzmoJtNXQsbudL+ESXMGdP7Xz2mpd8Vktwe18Y09ws92N11ktwe18CZfgJtysliBbrWs87xzdeWy1ZXuALLglXEDdeVecthorOPZUY3e+hEtwz/NacKjPXcG5IVNfJma175nVvOK04NCQmeAS3IRzd14LDk04V3BuyOylXoIrODdkasHtVPseWnBd8Qkuwd35BJfgCs7d+QSXsC9sJNCC64pv515xd+yzWgJstQmuYIJLmOAS3M5ntQRXcCf7Z7eLtporOLdzNl4nuIQJLgEWnNv5rFYAC87tfFYrmOASJriEdZ4wqyW4gnOLz2oJrtXczufzBFdw7s4nuIRz3d175FnNK05brSs+q3nFYcGxnddj32Xie1zBucXdhHOt5sZrPfau+Dr3irtjdxPO3fkuEwmzWgJstfC3bHLBoVarx94VX+cJ57pmte+BBXer2e7ufIJLcAXnXp1rwalWY0OmHntXvO4cFZx7qk1wCSfUW925uvONPcE9z9uxP7Dg1vn3wFZjE24hkwBb7VFfbbkhs4RLcBPO3fkEl+AKzj3PZ7UE2Wpq5xt7gtv5jtQEV3Bu5xt7gty5Gq8TXMJ57n9Z8QkuYQmX4O68HjuacOdVBeeGzKyWsGxPOK/q81ktQbaaOvbzXLPa98hWm+AC6nhFd15n+wT3PbLg1LHvWS0BttoEV1DvHO28FpxqtQmuwL297oklAbaa+/Gn+5H3TrWC3dsTYMG5CSefamjnS7iEPbEk0FZTBbdTrWBWS6if1dDOa8GhPp/VEmiroWOHO3/2O5ABsuDC4rLgVJ+fN/w3mFnNK37e8LeVa8GpnbMhM8EluCFTC66rX3eOCu68N7rzWnDo2P8DBLCPwCkH+WYAAAAASUVORK5CYII=\" id=\"imaged9c685237c\" transform=\"scale(1 -1) translate(0 -437.04)\" x=\"483.12\" y=\"-21.6\" width=\"22.32\" height=\"437.04\"/>\n   <g id=\"matplotlib.axis_3\"/>\n   <g id=\"matplotlib.axis_4\">\n    <g id=\"ytick_8\">\n     <g id=\"line2d_31\">\n      <defs>\n       <path id=\"mec910e9d63\" d=\"M 0 0 \nL 3.5 0 \n\" style=\"stroke: #000000; stroke-width: 0.8\"/>\n      </defs>\n      <g>\n       <use xlink:href=\"#mec910e9d63\" x=\"505.29675\" y=\"459.24375\" style=\"stroke: #000000; stroke-width: 0.8\"/>\n      </g>\n     </g>\n     <g id=\"text_19\">\n      <!-- 0.0000 -->\n      <g transform=\"translate(512.29675 463.042969) scale(0.1 -0.1)\">\n       <use xlink:href=\"#DejaVuSans-30\"/>\n       <use xlink:href=\"#DejaVuSans-2e\" transform=\"translate(63.623047 0)\"/>\n       <use xlink:href=\"#DejaVuSans-30\" transform=\"translate(95.410156 0)\"/>\n       <use xlink:href=\"#DejaVuSans-30\" transform=\"translate(159.033203 0)\"/>\n       <use xlink:href=\"#DejaVuSans-30\" transform=\"translate(222.65625 0)\"/>\n       <use xlink:href=\"#DejaVuSans-30\" transform=\"translate(286.279297 0)\"/>\n      </g>\n     </g>\n    </g>\n    <g id=\"ytick_9\">\n     <g id=\"line2d_32\">\n      <g>\n       <use xlink:href=\"#mec910e9d63\" x=\"505.29675\" y=\"405.376601\" style=\"stroke: #000000; stroke-width: 0.8\"/>\n      </g>\n     </g>\n     <g id=\"text_20\">\n      <!-- 0.0025 -->\n      <g transform=\"translate(512.29675 409.175819) scale(0.1 -0.1)\">\n       <use xlink:href=\"#DejaVuSans-30\"/>\n       <use xlink:href=\"#DejaVuSans-2e\" transform=\"translate(63.623047 0)\"/>\n       <use xlink:href=\"#DejaVuSans-30\" transform=\"translate(95.410156 0)\"/>\n       <use xlink:href=\"#DejaVuSans-30\" transform=\"translate(159.033203 0)\"/>\n       <use xlink:href=\"#DejaVuSans-32\" transform=\"translate(222.65625 0)\"/>\n       <use xlink:href=\"#DejaVuSans-35\" transform=\"translate(286.279297 0)\"/>\n      </g>\n     </g>\n    </g>\n    <g id=\"ytick_10\">\n     <g id=\"line2d_33\">\n      <g>\n       <use xlink:href=\"#mec910e9d63\" x=\"505.29675\" y=\"351.509451\" style=\"stroke: #000000; stroke-width: 0.8\"/>\n      </g>\n     </g>\n     <g id=\"text_21\">\n      <!-- 0.0050 -->\n      <g transform=\"translate(512.29675 355.30867) scale(0.1 -0.1)\">\n       <use xlink:href=\"#DejaVuSans-30\"/>\n       <use xlink:href=\"#DejaVuSans-2e\" transform=\"translate(63.623047 0)\"/>\n       <use xlink:href=\"#DejaVuSans-30\" transform=\"translate(95.410156 0)\"/>\n       <use xlink:href=\"#DejaVuSans-30\" transform=\"translate(159.033203 0)\"/>\n       <use xlink:href=\"#DejaVuSans-35\" transform=\"translate(222.65625 0)\"/>\n       <use xlink:href=\"#DejaVuSans-30\" transform=\"translate(286.279297 0)\"/>\n      </g>\n     </g>\n    </g>\n    <g id=\"ytick_11\">\n     <g id=\"line2d_34\">\n      <g>\n       <use xlink:href=\"#mec910e9d63\" x=\"505.29675\" y=\"297.642302\" style=\"stroke: #000000; stroke-width: 0.8\"/>\n      </g>\n     </g>\n     <g id=\"text_22\">\n      <!-- 0.0075 -->\n      <g transform=\"translate(512.29675 301.441521) scale(0.1 -0.1)\">\n       <defs>\n        <path id=\"DejaVuSans-37\" d=\"M 525 4666 \nL 3525 4666 \nL 3525 4397 \nL 1831 0 \nL 1172 0 \nL 2766 4134 \nL 525 4134 \nL 525 4666 \nz\n\" transform=\"scale(0.015625)\"/>\n       </defs>\n       <use xlink:href=\"#DejaVuSans-30\"/>\n       <use xlink:href=\"#DejaVuSans-2e\" transform=\"translate(63.623047 0)\"/>\n       <use xlink:href=\"#DejaVuSans-30\" transform=\"translate(95.410156 0)\"/>\n       <use xlink:href=\"#DejaVuSans-30\" transform=\"translate(159.033203 0)\"/>\n       <use xlink:href=\"#DejaVuSans-37\" transform=\"translate(222.65625 0)\"/>\n       <use xlink:href=\"#DejaVuSans-35\" transform=\"translate(286.279297 0)\"/>\n      </g>\n     </g>\n    </g>\n    <g id=\"ytick_12\">\n     <g id=\"line2d_35\">\n      <g>\n       <use xlink:href=\"#mec910e9d63\" x=\"505.29675\" y=\"243.775153\" style=\"stroke: #000000; stroke-width: 0.8\"/>\n      </g>\n     </g>\n     <g id=\"text_23\">\n      <!-- 0.0100 -->\n      <g transform=\"translate(512.29675 247.574372) scale(0.1 -0.1)\">\n       <use xlink:href=\"#DejaVuSans-30\"/>\n       <use xlink:href=\"#DejaVuSans-2e\" transform=\"translate(63.623047 0)\"/>\n       <use xlink:href=\"#DejaVuSans-30\" transform=\"translate(95.410156 0)\"/>\n       <use xlink:href=\"#DejaVuSans-31\" transform=\"translate(159.033203 0)\"/>\n       <use xlink:href=\"#DejaVuSans-30\" transform=\"translate(222.65625 0)\"/>\n       <use xlink:href=\"#DejaVuSans-30\" transform=\"translate(286.279297 0)\"/>\n      </g>\n     </g>\n    </g>\n    <g id=\"ytick_13\">\n     <g id=\"line2d_36\">\n      <g>\n       <use xlink:href=\"#mec910e9d63\" x=\"505.29675\" y=\"189.908004\" style=\"stroke: #000000; stroke-width: 0.8\"/>\n      </g>\n     </g>\n     <g id=\"text_24\">\n      <!-- 0.0125 -->\n      <g transform=\"translate(512.29675 193.707222) scale(0.1 -0.1)\">\n       <use xlink:href=\"#DejaVuSans-30\"/>\n       <use xlink:href=\"#DejaVuSans-2e\" transform=\"translate(63.623047 0)\"/>\n       <use xlink:href=\"#DejaVuSans-30\" transform=\"translate(95.410156 0)\"/>\n       <use xlink:href=\"#DejaVuSans-31\" transform=\"translate(159.033203 0)\"/>\n       <use xlink:href=\"#DejaVuSans-32\" transform=\"translate(222.65625 0)\"/>\n       <use xlink:href=\"#DejaVuSans-35\" transform=\"translate(286.279297 0)\"/>\n      </g>\n     </g>\n    </g>\n    <g id=\"ytick_14\">\n     <g id=\"line2d_37\">\n      <g>\n       <use xlink:href=\"#mec910e9d63\" x=\"505.29675\" y=\"136.040854\" style=\"stroke: #000000; stroke-width: 0.8\"/>\n      </g>\n     </g>\n     <g id=\"text_25\">\n      <!-- 0.0150 -->\n      <g transform=\"translate(512.29675 139.840073) scale(0.1 -0.1)\">\n       <use xlink:href=\"#DejaVuSans-30\"/>\n       <use xlink:href=\"#DejaVuSans-2e\" transform=\"translate(63.623047 0)\"/>\n       <use xlink:href=\"#DejaVuSans-30\" transform=\"translate(95.410156 0)\"/>\n       <use xlink:href=\"#DejaVuSans-31\" transform=\"translate(159.033203 0)\"/>\n       <use xlink:href=\"#DejaVuSans-35\" transform=\"translate(222.65625 0)\"/>\n       <use xlink:href=\"#DejaVuSans-30\" transform=\"translate(286.279297 0)\"/>\n      </g>\n     </g>\n    </g>\n    <g id=\"ytick_15\">\n     <g id=\"line2d_38\">\n      <g>\n       <use xlink:href=\"#mec910e9d63\" x=\"505.29675\" y=\"82.173705\" style=\"stroke: #000000; stroke-width: 0.8\"/>\n      </g>\n     </g>\n     <g id=\"text_26\">\n      <!-- 0.0175 -->\n      <g transform=\"translate(512.29675 85.972924) scale(0.1 -0.1)\">\n       <use xlink:href=\"#DejaVuSans-30\"/>\n       <use xlink:href=\"#DejaVuSans-2e\" transform=\"translate(63.623047 0)\"/>\n       <use xlink:href=\"#DejaVuSans-30\" transform=\"translate(95.410156 0)\"/>\n       <use xlink:href=\"#DejaVuSans-31\" transform=\"translate(159.033203 0)\"/>\n       <use xlink:href=\"#DejaVuSans-37\" transform=\"translate(222.65625 0)\"/>\n       <use xlink:href=\"#DejaVuSans-35\" transform=\"translate(286.279297 0)\"/>\n      </g>\n     </g>\n    </g>\n    <g id=\"ytick_16\">\n     <g id=\"line2d_39\">\n      <g>\n       <use xlink:href=\"#mec910e9d63\" x=\"505.29675\" y=\"28.306556\" style=\"stroke: #000000; stroke-width: 0.8\"/>\n      </g>\n     </g>\n     <g id=\"text_27\">\n      <!-- 0.0200 -->\n      <g transform=\"translate(512.29675 32.105775) scale(0.1 -0.1)\">\n       <use xlink:href=\"#DejaVuSans-30\"/>\n       <use xlink:href=\"#DejaVuSans-2e\" transform=\"translate(63.623047 0)\"/>\n       <use xlink:href=\"#DejaVuSans-30\" transform=\"translate(95.410156 0)\"/>\n       <use xlink:href=\"#DejaVuSans-32\" transform=\"translate(159.033203 0)\"/>\n       <use xlink:href=\"#DejaVuSans-30\" transform=\"translate(222.65625 0)\"/>\n       <use xlink:href=\"#DejaVuSans-30\" transform=\"translate(286.279297 0)\"/>\n      </g>\n     </g>\n    </g>\n    <g id=\"text_28\">\n     <!-- Normalized Particle Density -->\n     <g transform=\"translate(558.885813 309.796562) rotate(-90) scale(0.1 -0.1)\">\n      <defs>\n       <path id=\"DejaVuSans-4e\" d=\"M 628 4666 \nL 1478 4666 \nL 3547 763 \nL 3547 4666 \nL 4159 4666 \nL 4159 0 \nL 3309 0 \nL 1241 3903 \nL 1241 0 \nL 628 0 \nL 628 4666 \nz\n\" transform=\"scale(0.015625)\"/>\n       <path id=\"DejaVuSans-6f\" d=\"M 1959 3097 \nQ 1497 3097 1228 2736 \nQ 959 2375 959 1747 \nQ 959 1119 1226 758 \nQ 1494 397 1959 397 \nQ 2419 397 2687 759 \nQ 2956 1122 2956 1747 \nQ 2956 2369 2687 2733 \nQ 2419 3097 1959 3097 \nz\nM 1959 3584 \nQ 2709 3584 3137 3096 \nQ 3566 2609 3566 1747 \nQ 3566 888 3137 398 \nQ 2709 -91 1959 -91 \nQ 1206 -91 779 398 \nQ 353 888 353 1747 \nQ 353 2609 779 3096 \nQ 1206 3584 1959 3584 \nz\n\" transform=\"scale(0.015625)\"/>\n       <path id=\"DejaVuSans-72\" d=\"M 2631 2963 \nQ 2534 3019 2420 3045 \nQ 2306 3072 2169 3072 \nQ 1681 3072 1420 2755 \nQ 1159 2438 1159 1844 \nL 1159 0 \nL 581 0 \nL 581 3500 \nL 1159 3500 \nL 1159 2956 \nQ 1341 3275 1631 3429 \nQ 1922 3584 2338 3584 \nQ 2397 3584 2469 3576 \nQ 2541 3569 2628 3553 \nL 2631 2963 \nz\n\" transform=\"scale(0.015625)\"/>\n       <path id=\"DejaVuSans-6d\" d=\"M 3328 2828 \nQ 3544 3216 3844 3400 \nQ 4144 3584 4550 3584 \nQ 5097 3584 5394 3201 \nQ 5691 2819 5691 2113 \nL 5691 0 \nL 5113 0 \nL 5113 2094 \nQ 5113 2597 4934 2840 \nQ 4756 3084 4391 3084 \nQ 3944 3084 3684 2787 \nQ 3425 2491 3425 1978 \nL 3425 0 \nL 2847 0 \nL 2847 2094 \nQ 2847 2600 2669 2842 \nQ 2491 3084 2119 3084 \nQ 1678 3084 1418 2786 \nQ 1159 2488 1159 1978 \nL 1159 0 \nL 581 0 \nL 581 3500 \nL 1159 3500 \nL 1159 2956 \nQ 1356 3278 1631 3431 \nQ 1906 3584 2284 3584 \nQ 2666 3584 2933 3390 \nQ 3200 3197 3328 2828 \nz\n\" transform=\"scale(0.015625)\"/>\n       <path id=\"DejaVuSans-7a\" d=\"M 353 3500 \nL 3084 3500 \nL 3084 2975 \nL 922 459 \nL 3084 459 \nL 3084 0 \nL 275 0 \nL 275 525 \nL 2438 3041 \nL 353 3041 \nL 353 3500 \nz\n\" transform=\"scale(0.015625)\"/>\n       <path id=\"DejaVuSans-50\" d=\"M 1259 4147 \nL 1259 2394 \nL 2053 2394 \nQ 2494 2394 2734 2622 \nQ 2975 2850 2975 3272 \nQ 2975 3691 2734 3919 \nQ 2494 4147 2053 4147 \nL 1259 4147 \nz\nM 628 4666 \nL 2053 4666 \nQ 2838 4666 3239 4311 \nQ 3641 3956 3641 3272 \nQ 3641 2581 3239 2228 \nQ 2838 1875 2053 1875 \nL 1259 1875 \nL 1259 0 \nL 628 0 \nL 628 4666 \nz\n\" transform=\"scale(0.015625)\"/>\n       <path id=\"DejaVuSans-44\" d=\"M 1259 4147 \nL 1259 519 \nL 2022 519 \nQ 2988 519 3436 956 \nQ 3884 1394 3884 2338 \nQ 3884 3275 3436 3711 \nQ 2988 4147 2022 4147 \nL 1259 4147 \nz\nM 628 4666 \nL 1925 4666 \nQ 3281 4666 3915 4102 \nQ 4550 3538 4550 2338 \nQ 4550 1131 3912 565 \nQ 3275 0 1925 0 \nL 628 0 \nL 628 4666 \nz\n\" transform=\"scale(0.015625)\"/>\n      </defs>\n      <use xlink:href=\"#DejaVuSans-4e\"/>\n      <use xlink:href=\"#DejaVuSans-6f\" transform=\"translate(74.804688 0)\"/>\n      <use xlink:href=\"#DejaVuSans-72\" transform=\"translate(135.986328 0)\"/>\n      <use xlink:href=\"#DejaVuSans-6d\" transform=\"translate(175.349609 0)\"/>\n      <use xlink:href=\"#DejaVuSans-61\" transform=\"translate(272.761719 0)\"/>\n      <use xlink:href=\"#DejaVuSans-6c\" transform=\"translate(334.041016 0)\"/>\n      <use xlink:href=\"#DejaVuSans-69\" transform=\"translate(361.824219 0)\"/>\n      <use xlink:href=\"#DejaVuSans-7a\" transform=\"translate(389.607422 0)\"/>\n      <use xlink:href=\"#DejaVuSans-65\" transform=\"translate(442.097656 0)\"/>\n      <use xlink:href=\"#DejaVuSans-64\" transform=\"translate(503.621094 0)\"/>\n      <use xlink:href=\"#DejaVuSans-20\" transform=\"translate(567.097656 0)\"/>\n      <use xlink:href=\"#DejaVuSans-50\" transform=\"translate(598.884766 0)\"/>\n      <use xlink:href=\"#DejaVuSans-61\" transform=\"translate(654.6875 0)\"/>\n      <use xlink:href=\"#DejaVuSans-72\" transform=\"translate(715.966797 0)\"/>\n      <use xlink:href=\"#DejaVuSans-74\" transform=\"translate(757.080078 0)\"/>\n      <use xlink:href=\"#DejaVuSans-69\" transform=\"translate(796.289062 0)\"/>\n      <use xlink:href=\"#DejaVuSans-63\" transform=\"translate(824.072266 0)\"/>\n      <use xlink:href=\"#DejaVuSans-6c\" transform=\"translate(879.052734 0)\"/>\n      <use xlink:href=\"#DejaVuSans-65\" transform=\"translate(906.835938 0)\"/>\n      <use xlink:href=\"#DejaVuSans-20\" transform=\"translate(968.359375 0)\"/>\n      <use xlink:href=\"#DejaVuSans-44\" transform=\"translate(1000.146484 0)\"/>\n      <use xlink:href=\"#DejaVuSans-65\" transform=\"translate(1077.148438 0)\"/>\n      <use xlink:href=\"#DejaVuSans-6e\" transform=\"translate(1138.671875 0)\"/>\n      <use xlink:href=\"#DejaVuSans-73\" transform=\"translate(1202.050781 0)\"/>\n      <use xlink:href=\"#DejaVuSans-69\" transform=\"translate(1254.150391 0)\"/>\n      <use xlink:href=\"#DejaVuSans-74\" transform=\"translate(1281.933594 0)\"/>\n      <use xlink:href=\"#DejaVuSans-79\" transform=\"translate(1321.142578 0)\"/>\n     </g>\n    </g>\n   </g>\n   <g id=\"LineCollection_1\"/>\n   <g id=\"patch_9\">\n    <path d=\"M 483.450469 459.24375 \nL 494.373609 459.24375 \nL 505.29675 459.24375 \nL 505.29675 22.318125 \nL 494.373609 22.318125 \nL 483.450469 22.318125 \nL 483.450469 459.24375 \nz\n\" style=\"fill: none; stroke: #000000; stroke-width: 0.8; stroke-linejoin: miter; stroke-linecap: square\"/>\n   </g>\n  </g>\n </g>\n <defs>\n  <clipPath id=\"pd7eeafcf8e\">\n   <rect x=\"40.603125\" y=\"22.318125\" width=\"416.7975\" height=\"436.925625\"/>\n  </clipPath>\n </defs>\n</svg>\n"
          },
          "metadata": {}
        },
        {
          "output_type": "display_data",
          "data": {
            "text/plain": [
              "HBox(children=(Button(description='tmpimlmxea_.pdf', style=ButtonStyle()), Button(description='tmp5li7ba3e.svg…"
            ],
            "application/vnd.jupyter.widget-view+json": {
              "version_major": 2,
              "version_minor": 0,
              "model_id": "c87f15a8b8b3402fb56e51bccef26a50"
            }
          },
          "metadata": {}
        }
      ]
    },
    {
      "cell_type": "markdown",
      "source": [
        "## Analysis of Results vs. Analytic Solution\n",
        "\n",
        "In both the initial and final state plots, the Monte Carlo–sampled density (color shading) closely follows the dashed‐red analytic Gaussian contours.  \n",
        "- **Initial state (t = 0):** The sample histogram accurately reproduces the 2D Gaussian centered at (250, 250), with only minor pixel‐to‐pixel noise from finite sampling.  \n",
        "- **Final state (t = 300):** The center of mass has shifted by (wind_x × t, wind_y × t) = (450, 300) modulo the domain, exactly as predicted analytically. The sampled density remains Gaussian, though broadened slightly by Monte Carlo variance.  \n",
        "- **Error sources:** Slight discrepancies (< 1 cell) arise from random‐sampling noise and the discrete grid. Increasing `N_part` or ensemble averaging would further reduce these.\n"
      ],
      "metadata": {
        "id": "O9gr7dJA8sCg"
      }
    },
    {
      "cell_type": "markdown",
      "source": [
        "## Conclusions:\n",
        "- The stochastic advection reproduces the expected Gaussian translation with high fidelity.  \n",
        "- Courant numbers < 1 ensure stability and exact mean displacement.  \n",
        "- Remaining noise is purely Monte Carlo error, which can be controlled by increasing particle count.  \n",
        "- This simple particle method thus provides a flexible, grid‐free way to model passive scalar transport consistent with analytic theory."
      ],
      "metadata": {
        "id": "2_5-k6hp8yIw"
      }
    }
  ]
}