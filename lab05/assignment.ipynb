{
  "nbformat": 4,
  "nbformat_minor": 0,
  "metadata": {
    "colab": {
      "provenance": []
    },
    "kernelspec": {
      "name": "python3",
      "display_name": "Python 3"
    },
    "language_info": {
      "name": "python"
    },
    "widgets": {
      "application/vnd.jupyter.widget-state+json": {
        "bfa4c14ca84b4a74a7be335c5f735857": {
          "model_module": "@jupyter-widgets/controls",
          "model_name": "HBoxModel",
          "model_module_version": "1.5.0",
          "state": {
            "_dom_classes": [],
            "_model_module": "@jupyter-widgets/controls",
            "_model_module_version": "1.5.0",
            "_model_name": "HBoxModel",
            "_view_count": null,
            "_view_module": "@jupyter-widgets/controls",
            "_view_module_version": "1.5.0",
            "_view_name": "HBoxView",
            "box_style": "",
            "children": [
              "IPY_MODEL_73664fe6a62a4544a45e7b80efa1f206",
              "IPY_MODEL_c47792e4978e48dea2af5a1e79b0d614"
            ],
            "layout": "IPY_MODEL_5cc635988a6b427dbec71534801e9408"
          }
        },
        "73664fe6a62a4544a45e7b80efa1f206": {
          "model_module": "@jupyter-widgets/controls",
          "model_name": "ButtonModel",
          "model_module_version": "1.5.0",
          "state": {
            "_dom_classes": [],
            "_model_module": "@jupyter-widgets/controls",
            "_model_module_version": "1.5.0",
            "_model_name": "ButtonModel",
            "_view_count": null,
            "_view_module": "@jupyter-widgets/controls",
            "_view_module_version": "1.5.0",
            "_view_name": "ButtonView",
            "button_style": "",
            "description": "tmpq_bjjab5.pdf",
            "disabled": false,
            "icon": "",
            "layout": "IPY_MODEL_54d00536f2bd4d999650f8829a744544",
            "style": "IPY_MODEL_d825f76a8ba5416ab07c47274ec0307f",
            "tooltip": ""
          }
        },
        "c47792e4978e48dea2af5a1e79b0d614": {
          "model_module": "@jupyter-widgets/controls",
          "model_name": "ButtonModel",
          "model_module_version": "1.5.0",
          "state": {
            "_dom_classes": [],
            "_model_module": "@jupyter-widgets/controls",
            "_model_module_version": "1.5.0",
            "_model_name": "ButtonModel",
            "_view_count": null,
            "_view_module": "@jupyter-widgets/controls",
            "_view_module_version": "1.5.0",
            "_view_name": "ButtonView",
            "button_style": "",
            "description": "tmpcp4mzt2x.svg",
            "disabled": false,
            "icon": "",
            "layout": "IPY_MODEL_f1f200917b5e430e9d402d212ba665de",
            "style": "IPY_MODEL_d550eb658cf54cd7b0ac2f17c02e63b8",
            "tooltip": ""
          }
        },
        "5cc635988a6b427dbec71534801e9408": {
          "model_module": "@jupyter-widgets/base",
          "model_name": "LayoutModel",
          "model_module_version": "1.2.0",
          "state": {
            "_model_module": "@jupyter-widgets/base",
            "_model_module_version": "1.2.0",
            "_model_name": "LayoutModel",
            "_view_count": null,
            "_view_module": "@jupyter-widgets/base",
            "_view_module_version": "1.2.0",
            "_view_name": "LayoutView",
            "align_content": null,
            "align_items": null,
            "align_self": null,
            "border": null,
            "bottom": null,
            "display": null,
            "flex": null,
            "flex_flow": null,
            "grid_area": null,
            "grid_auto_columns": null,
            "grid_auto_flow": null,
            "grid_auto_rows": null,
            "grid_column": null,
            "grid_gap": null,
            "grid_row": null,
            "grid_template_areas": null,
            "grid_template_columns": null,
            "grid_template_rows": null,
            "height": null,
            "justify_content": null,
            "justify_items": null,
            "left": null,
            "margin": null,
            "max_height": null,
            "max_width": null,
            "min_height": null,
            "min_width": null,
            "object_fit": null,
            "object_position": null,
            "order": null,
            "overflow": null,
            "overflow_x": null,
            "overflow_y": null,
            "padding": null,
            "right": null,
            "top": null,
            "visibility": null,
            "width": null
          }
        },
        "54d00536f2bd4d999650f8829a744544": {
          "model_module": "@jupyter-widgets/base",
          "model_name": "LayoutModel",
          "model_module_version": "1.2.0",
          "state": {
            "_model_module": "@jupyter-widgets/base",
            "_model_module_version": "1.2.0",
            "_model_name": "LayoutModel",
            "_view_count": null,
            "_view_module": "@jupyter-widgets/base",
            "_view_module_version": "1.2.0",
            "_view_name": "LayoutView",
            "align_content": null,
            "align_items": null,
            "align_self": null,
            "border": null,
            "bottom": null,
            "display": null,
            "flex": null,
            "flex_flow": null,
            "grid_area": null,
            "grid_auto_columns": null,
            "grid_auto_flow": null,
            "grid_auto_rows": null,
            "grid_column": null,
            "grid_gap": null,
            "grid_row": null,
            "grid_template_areas": null,
            "grid_template_columns": null,
            "grid_template_rows": null,
            "height": null,
            "justify_content": null,
            "justify_items": null,
            "left": null,
            "margin": null,
            "max_height": null,
            "max_width": null,
            "min_height": null,
            "min_width": null,
            "object_fit": null,
            "object_position": null,
            "order": null,
            "overflow": null,
            "overflow_x": null,
            "overflow_y": null,
            "padding": null,
            "right": null,
            "top": null,
            "visibility": null,
            "width": null
          }
        },
        "d825f76a8ba5416ab07c47274ec0307f": {
          "model_module": "@jupyter-widgets/controls",
          "model_name": "ButtonStyleModel",
          "model_module_version": "1.5.0",
          "state": {
            "_model_module": "@jupyter-widgets/controls",
            "_model_module_version": "1.5.0",
            "_model_name": "ButtonStyleModel",
            "_view_count": null,
            "_view_module": "@jupyter-widgets/base",
            "_view_module_version": "1.2.0",
            "_view_name": "StyleView",
            "button_color": null,
            "font_weight": ""
          }
        },
        "f1f200917b5e430e9d402d212ba665de": {
          "model_module": "@jupyter-widgets/base",
          "model_name": "LayoutModel",
          "model_module_version": "1.2.0",
          "state": {
            "_model_module": "@jupyter-widgets/base",
            "_model_module_version": "1.2.0",
            "_model_name": "LayoutModel",
            "_view_count": null,
            "_view_module": "@jupyter-widgets/base",
            "_view_module_version": "1.2.0",
            "_view_name": "LayoutView",
            "align_content": null,
            "align_items": null,
            "align_self": null,
            "border": null,
            "bottom": null,
            "display": null,
            "flex": null,
            "flex_flow": null,
            "grid_area": null,
            "grid_auto_columns": null,
            "grid_auto_flow": null,
            "grid_auto_rows": null,
            "grid_column": null,
            "grid_gap": null,
            "grid_row": null,
            "grid_template_areas": null,
            "grid_template_columns": null,
            "grid_template_rows": null,
            "height": null,
            "justify_content": null,
            "justify_items": null,
            "left": null,
            "margin": null,
            "max_height": null,
            "max_width": null,
            "min_height": null,
            "min_width": null,
            "object_fit": null,
            "object_position": null,
            "order": null,
            "overflow": null,
            "overflow_x": null,
            "overflow_y": null,
            "padding": null,
            "right": null,
            "top": null,
            "visibility": null,
            "width": null
          }
        },
        "d550eb658cf54cd7b0ac2f17c02e63b8": {
          "model_module": "@jupyter-widgets/controls",
          "model_name": "ButtonStyleModel",
          "model_module_version": "1.5.0",
          "state": {
            "_model_module": "@jupyter-widgets/controls",
            "_model_module_version": "1.5.0",
            "_model_name": "ButtonStyleModel",
            "_view_count": null,
            "_view_module": "@jupyter-widgets/base",
            "_view_module_version": "1.2.0",
            "_view_name": "StyleView",
            "button_color": null,
            "font_weight": ""
          }
        }
      }
    }
  },
  "cells": [
    {
      "cell_type": "markdown",
      "source": [
        "# Modelling of physical systems - assignment for lab03\n",
        "## Author: Przemysław Maresz"
      ],
      "metadata": {
        "id": "DqNzX6xzCHiv"
      }
    },
    {
      "cell_type": "code",
      "execution_count": 10,
      "metadata": {
        "id": "beO5uDP1_xd6"
      },
      "outputs": [],
      "source": [
        "import numpy as np\n",
        "from matplotlib import pyplot as plt\n",
        "from open_atmos_jupyter_utils import show_plot"
      ]
    },
    {
      "cell_type": "code",
      "source": [
        "class shift:\n",
        "    def __init__(self, *, add, sub):\n",
        "        self.add = add\n",
        "        self.sub = sub\n",
        "    def __radd__(self, i):\n",
        "        return slice(i.start + self.add, i.stop + self.add)\n",
        "    def __rsub__(self, i):\n",
        "        return slice(i.start - self.sub, i.stop - self.sub)\n",
        "\n",
        "one = shift(add=1, sub=1)\n",
        "hlf = shift(add=0, sub=1)\n",
        "\n",
        "def F(psi_l, psi_r, C):\n",
        "    return .5 * (C + abs(C)) * psi_l + \\\n",
        "           .5 * (C - abs(C)) * psi_r\n",
        "\n",
        "def upwind(psi, i, C):\n",
        "    psi[i] = psi[i] - (\n",
        "        F(psi[i      ], psi[i + one], C[i + hlf]) -\n",
        "        F(psi[i - one], psi[i      ], C[i - hlf])\n",
        "    )"
      ],
      "metadata": {
        "id": "6nsGAOBGKWZk"
      },
      "execution_count": 3,
      "outputs": []
    },
    {
      "cell_type": "code",
      "source": [
        "def solve_upwind(*, nt: int, C: float, psi: np.ndarray):\n",
        "    for _ in range(nt):\n",
        "        upwind(psi, slice(1, len(C)), C)\n",
        "    return psi\n",
        "\n",
        "def psi_0(x: np.ndarray, x0: float = 0, a: float = 1, sigma: float = 20):\n",
        "    return a * np.exp(-(x-x0)**2 / 2 / sigma**2)\n",
        "\n",
        "def plot(x, **kwargs):\n",
        "    fig = plt.figure(figsize=(12, 8))\n",
        "    for label, data in kwargs.items():\n",
        "        plt.step(x, data, label=label, where='mid')\n",
        "    plt.legend()\n",
        "    plt.grid()\n",
        "    show_plot(fig=fig)"
      ],
      "metadata": {
        "id": "KV_PBjngKXRP"
      },
      "execution_count": 11,
      "outputs": []
    },
    {
      "cell_type": "code",
      "source": [
        "u = 2\n",
        "t_max = 66\n",
        "\n",
        "nx = 45\n",
        "nt = 100\n",
        "dt = t_max / nt\n",
        "x, dx = np.linspace(-100, 300, nx, retstep=True)"
      ],
      "metadata": {
        "id": "eDBpKkbkKbNC"
      },
      "execution_count": 7,
      "outputs": []
    },
    {
      "cell_type": "code",
      "source": [
        "def corrective_C(psi, C, i):\n",
        "  return (np.abs(C[i-hlf]) - C[i-hlf]**2) * (psi[i] - psi[i-one]) / (psi[i] + psi[i-one])\n",
        "\n",
        "def solve_mpdata(*, nt: int, C: float, psi: np.ndarray, num_correct=1):\n",
        "  for _ in range(nt):\n",
        "    C_current = C.copy()\n",
        "    upwind(psi, slice(1, len(C)), C_current)\n",
        "\n",
        "    for _ in range(num_correct):\n",
        "      C_current = corrective_C(psi, C_current, slice(1, len(psi)))\n",
        "      upwind(psi, slice(1, len(C_current)), C_current)\n",
        "\n",
        "  return psi"
      ],
      "metadata": {
        "id": "l9kVOVgwKipx"
      },
      "execution_count": 8,
      "outputs": []
    },
    {
      "cell_type": "code",
      "source": [
        "plot(\n",
        "    x=x,\n",
        "    initial=psi_0(x),\n",
        "    analytic=psi_0(x-u*t_max),\n",
        "    UPWIND=solve_upwind(nt=nt, C=np.full(nx-1, u * dt / dx), psi=psi_0(x)),\n",
        "    MPDATA_ITER_1=solve_mpdata(nt=nt, C=np.full(nx-1, u * dt / dx), psi=psi_0(x), num_correct=1),\n",
        "    MPDATA_ITER_2=solve_mpdata(nt=nt, C=np.full(nx-1, u * dt / dx), psi=psi_0(x), num_correct=2),\n",
        "    MPDATA_ITER_3=solve_mpdata(nt=nt, C=np.full(nx-1, u * dt / dx), psi=psi_0(x), num_correct=3),\n",
        "    MPDATA_ITER_4=solve_mpdata(nt=nt, C=np.full(nx-1, u * dt / dx), psi=psi_0(x), num_correct=4)\n",
        ")"
      ],
      "metadata": {
        "colab": {
          "base_uri": "https://localhost:8080/",
          "height": 686,
          "referenced_widgets": [
            "bfa4c14ca84b4a74a7be335c5f735857",
            "73664fe6a62a4544a45e7b80efa1f206",
            "c47792e4978e48dea2af5a1e79b0d614",
            "5cc635988a6b427dbec71534801e9408",
            "54d00536f2bd4d999650f8829a744544",
            "d825f76a8ba5416ab07c47274ec0307f",
            "f1f200917b5e430e9d402d212ba665de",
            "d550eb658cf54cd7b0ac2f17c02e63b8"
          ]
        },
        "id": "SgVHystrKjEc",
        "outputId": "7baabdf0-588c-48e3-9c5d-b09a84e32477"
      },
      "execution_count": 12,
      "outputs": [
        {
          "output_type": "display_data",
          "data": {
            "text/plain": [
              "<Figure size 1200x800 with 1 Axes>"
            ],
            "image/svg+xml": "<?xml version=\"1.0\" encoding=\"utf-8\" standalone=\"no\"?>\n<!DOCTYPE svg PUBLIC \"-//W3C//DTD SVG 1.1//EN\"\n  \"http://www.w3.org/Graphics/SVG/1.1/DTD/svg11.dtd\">\n<svg xmlns:xlink=\"http://www.w3.org/1999/xlink\" width=\"706.903125pt\" height=\"474.598125pt\" viewBox=\"0 0 706.903125 474.598125\" xmlns=\"http://www.w3.org/2000/svg\" version=\"1.1\">\n <metadata>\n  <rdf:RDF xmlns:dc=\"http://purl.org/dc/elements/1.1/\" xmlns:cc=\"http://creativecommons.org/ns#\" xmlns:rdf=\"http://www.w3.org/1999/02/22-rdf-syntax-ns#\">\n   <cc:Work>\n    <dc:type rdf:resource=\"http://purl.org/dc/dcmitype/StillImage\"/>\n    <dc:date>2025-04-10T10:08:23.011213</dc:date>\n    <dc:format>image/svg+xml</dc:format>\n    <dc:creator>\n     <cc:Agent>\n      <dc:title>Matplotlib v3.10.0, https://matplotlib.org/</dc:title>\n     </cc:Agent>\n    </dc:creator>\n   </cc:Work>\n  </rdf:RDF>\n </metadata>\n <defs>\n  <style type=\"text/css\">*{stroke-linejoin: round; stroke-linecap: butt}</style>\n </defs>\n <g id=\"figure_1\">\n  <g id=\"patch_1\">\n   <path d=\"M 0 474.598125 \nL 706.903125 474.598125 \nL 706.903125 0 \nL 0 0 \nz\n\" style=\"fill: #ffffff\"/>\n  </g>\n  <g id=\"axes_1\">\n   <g id=\"patch_2\">\n    <path d=\"M 30.103125 450.72 \nL 699.703125 450.72 \nL 699.703125 7.2 \nL 30.103125 7.2 \nz\n\" style=\"fill: #ffffff\"/>\n   </g>\n   <g id=\"matplotlib.axis_1\">\n    <g id=\"xtick_1\">\n     <g id=\"line2d_1\">\n      <path d=\"M 60.539489 450.72 \nL 60.539489 7.2 \n\" clip-path=\"url(#pedde9a3105)\" style=\"fill: none; stroke: #b0b0b0; stroke-width: 0.8; stroke-linecap: square\"/>\n     </g>\n     <g id=\"line2d_2\">\n      <defs>\n       <path id=\"mfa53833828\" d=\"M 0 0 \nL 0 3.5 \n\" style=\"stroke: #000000; stroke-width: 0.8\"/>\n      </defs>\n      <g>\n       <use xlink:href=\"#mfa53833828\" x=\"60.539489\" y=\"450.72\" style=\"stroke: #000000; stroke-width: 0.8\"/>\n      </g>\n     </g>\n     <g id=\"text_1\">\n      <!-- −100 -->\n      <g transform=\"translate(46.805895 465.318437) scale(0.1 -0.1)\">\n       <defs>\n        <path id=\"DejaVuSans-2212\" d=\"M 678 2272 \nL 4684 2272 \nL 4684 1741 \nL 678 1741 \nL 678 2272 \nz\n\" transform=\"scale(0.015625)\"/>\n        <path id=\"DejaVuSans-31\" d=\"M 794 531 \nL 1825 531 \nL 1825 4091 \nL 703 3866 \nL 703 4441 \nL 1819 4666 \nL 2450 4666 \nL 2450 531 \nL 3481 531 \nL 3481 0 \nL 794 0 \nL 794 531 \nz\n\" transform=\"scale(0.015625)\"/>\n        <path id=\"DejaVuSans-30\" d=\"M 2034 4250 \nQ 1547 4250 1301 3770 \nQ 1056 3291 1056 2328 \nQ 1056 1369 1301 889 \nQ 1547 409 2034 409 \nQ 2525 409 2770 889 \nQ 3016 1369 3016 2328 \nQ 3016 3291 2770 3770 \nQ 2525 4250 2034 4250 \nz\nM 2034 4750 \nQ 2819 4750 3233 4129 \nQ 3647 3509 3647 2328 \nQ 3647 1150 3233 529 \nQ 2819 -91 2034 -91 \nQ 1250 -91 836 529 \nQ 422 1150 422 2328 \nQ 422 3509 836 4129 \nQ 1250 4750 2034 4750 \nz\n\" transform=\"scale(0.015625)\"/>\n       </defs>\n       <use xlink:href=\"#DejaVuSans-2212\"/>\n       <use xlink:href=\"#DejaVuSans-31\" transform=\"translate(83.789062 0)\"/>\n       <use xlink:href=\"#DejaVuSans-30\" transform=\"translate(147.412109 0)\"/>\n       <use xlink:href=\"#DejaVuSans-30\" transform=\"translate(211.035156 0)\"/>\n      </g>\n     </g>\n    </g>\n    <g id=\"xtick_2\">\n     <g id=\"line2d_3\">\n      <path d=\"M 136.630398 450.72 \nL 136.630398 7.2 \n\" clip-path=\"url(#pedde9a3105)\" style=\"fill: none; stroke: #b0b0b0; stroke-width: 0.8; stroke-linecap: square\"/>\n     </g>\n     <g id=\"line2d_4\">\n      <g>\n       <use xlink:href=\"#mfa53833828\" x=\"136.630398\" y=\"450.72\" style=\"stroke: #000000; stroke-width: 0.8\"/>\n      </g>\n     </g>\n     <g id=\"text_2\">\n      <!-- −50 -->\n      <g transform=\"translate(126.078054 465.318437) scale(0.1 -0.1)\">\n       <defs>\n        <path id=\"DejaVuSans-35\" d=\"M 691 4666 \nL 3169 4666 \nL 3169 4134 \nL 1269 4134 \nL 1269 2991 \nQ 1406 3038 1543 3061 \nQ 1681 3084 1819 3084 \nQ 2600 3084 3056 2656 \nQ 3513 2228 3513 1497 \nQ 3513 744 3044 326 \nQ 2575 -91 1722 -91 \nQ 1428 -91 1123 -41 \nQ 819 9 494 109 \nL 494 744 \nQ 775 591 1075 516 \nQ 1375 441 1709 441 \nQ 2250 441 2565 725 \nQ 2881 1009 2881 1497 \nQ 2881 1984 2565 2268 \nQ 2250 2553 1709 2553 \nQ 1456 2553 1204 2497 \nQ 953 2441 691 2322 \nL 691 4666 \nz\n\" transform=\"scale(0.015625)\"/>\n       </defs>\n       <use xlink:href=\"#DejaVuSans-2212\"/>\n       <use xlink:href=\"#DejaVuSans-35\" transform=\"translate(83.789062 0)\"/>\n       <use xlink:href=\"#DejaVuSans-30\" transform=\"translate(147.412109 0)\"/>\n      </g>\n     </g>\n    </g>\n    <g id=\"xtick_3\">\n     <g id=\"line2d_5\">\n      <path d=\"M 212.721307 450.72 \nL 212.721307 7.2 \n\" clip-path=\"url(#pedde9a3105)\" style=\"fill: none; stroke: #b0b0b0; stroke-width: 0.8; stroke-linecap: square\"/>\n     </g>\n     <g id=\"line2d_6\">\n      <g>\n       <use xlink:href=\"#mfa53833828\" x=\"212.721307\" y=\"450.72\" style=\"stroke: #000000; stroke-width: 0.8\"/>\n      </g>\n     </g>\n     <g id=\"text_3\">\n      <!-- 0 -->\n      <g transform=\"translate(209.540057 465.318437) scale(0.1 -0.1)\">\n       <use xlink:href=\"#DejaVuSans-30\"/>\n      </g>\n     </g>\n    </g>\n    <g id=\"xtick_4\">\n     <g id=\"line2d_7\">\n      <path d=\"M 288.812216 450.72 \nL 288.812216 7.2 \n\" clip-path=\"url(#pedde9a3105)\" style=\"fill: none; stroke: #b0b0b0; stroke-width: 0.8; stroke-linecap: square\"/>\n     </g>\n     <g id=\"line2d_8\">\n      <g>\n       <use xlink:href=\"#mfa53833828\" x=\"288.812216\" y=\"450.72\" style=\"stroke: #000000; stroke-width: 0.8\"/>\n      </g>\n     </g>\n     <g id=\"text_4\">\n      <!-- 50 -->\n      <g transform=\"translate(282.449716 465.318437) scale(0.1 -0.1)\">\n       <use xlink:href=\"#DejaVuSans-35\"/>\n       <use xlink:href=\"#DejaVuSans-30\" transform=\"translate(63.623047 0)\"/>\n      </g>\n     </g>\n    </g>\n    <g id=\"xtick_5\">\n     <g id=\"line2d_9\">\n      <path d=\"M 364.903125 450.72 \nL 364.903125 7.2 \n\" clip-path=\"url(#pedde9a3105)\" style=\"fill: none; stroke: #b0b0b0; stroke-width: 0.8; stroke-linecap: square\"/>\n     </g>\n     <g id=\"line2d_10\">\n      <g>\n       <use xlink:href=\"#mfa53833828\" x=\"364.903125\" y=\"450.72\" style=\"stroke: #000000; stroke-width: 0.8\"/>\n      </g>\n     </g>\n     <g id=\"text_5\">\n      <!-- 100 -->\n      <g transform=\"translate(355.359375 465.318437) scale(0.1 -0.1)\">\n       <use xlink:href=\"#DejaVuSans-31\"/>\n       <use xlink:href=\"#DejaVuSans-30\" transform=\"translate(63.623047 0)\"/>\n       <use xlink:href=\"#DejaVuSans-30\" transform=\"translate(127.246094 0)\"/>\n      </g>\n     </g>\n    </g>\n    <g id=\"xtick_6\">\n     <g id=\"line2d_11\">\n      <path d=\"M 440.994034 450.72 \nL 440.994034 7.2 \n\" clip-path=\"url(#pedde9a3105)\" style=\"fill: none; stroke: #b0b0b0; stroke-width: 0.8; stroke-linecap: square\"/>\n     </g>\n     <g id=\"line2d_12\">\n      <g>\n       <use xlink:href=\"#mfa53833828\" x=\"440.994034\" y=\"450.72\" style=\"stroke: #000000; stroke-width: 0.8\"/>\n      </g>\n     </g>\n     <g id=\"text_6\">\n      <!-- 150 -->\n      <g transform=\"translate(431.450284 465.318437) scale(0.1 -0.1)\">\n       <use xlink:href=\"#DejaVuSans-31\"/>\n       <use xlink:href=\"#DejaVuSans-35\" transform=\"translate(63.623047 0)\"/>\n       <use xlink:href=\"#DejaVuSans-30\" transform=\"translate(127.246094 0)\"/>\n      </g>\n     </g>\n    </g>\n    <g id=\"xtick_7\">\n     <g id=\"line2d_13\">\n      <path d=\"M 517.084943 450.72 \nL 517.084943 7.2 \n\" clip-path=\"url(#pedde9a3105)\" style=\"fill: none; stroke: #b0b0b0; stroke-width: 0.8; stroke-linecap: square\"/>\n     </g>\n     <g id=\"line2d_14\">\n      <g>\n       <use xlink:href=\"#mfa53833828\" x=\"517.084943\" y=\"450.72\" style=\"stroke: #000000; stroke-width: 0.8\"/>\n      </g>\n     </g>\n     <g id=\"text_7\">\n      <!-- 200 -->\n      <g transform=\"translate(507.541193 465.318437) scale(0.1 -0.1)\">\n       <defs>\n        <path id=\"DejaVuSans-32\" d=\"M 1228 531 \nL 3431 531 \nL 3431 0 \nL 469 0 \nL 469 531 \nQ 828 903 1448 1529 \nQ 2069 2156 2228 2338 \nQ 2531 2678 2651 2914 \nQ 2772 3150 2772 3378 \nQ 2772 3750 2511 3984 \nQ 2250 4219 1831 4219 \nQ 1534 4219 1204 4116 \nQ 875 4013 500 3803 \nL 500 4441 \nQ 881 4594 1212 4672 \nQ 1544 4750 1819 4750 \nQ 2544 4750 2975 4387 \nQ 3406 4025 3406 3419 \nQ 3406 3131 3298 2873 \nQ 3191 2616 2906 2266 \nQ 2828 2175 2409 1742 \nQ 1991 1309 1228 531 \nz\n\" transform=\"scale(0.015625)\"/>\n       </defs>\n       <use xlink:href=\"#DejaVuSans-32\"/>\n       <use xlink:href=\"#DejaVuSans-30\" transform=\"translate(63.623047 0)\"/>\n       <use xlink:href=\"#DejaVuSans-30\" transform=\"translate(127.246094 0)\"/>\n      </g>\n     </g>\n    </g>\n    <g id=\"xtick_8\">\n     <g id=\"line2d_15\">\n      <path d=\"M 593.175852 450.72 \nL 593.175852 7.2 \n\" clip-path=\"url(#pedde9a3105)\" style=\"fill: none; stroke: #b0b0b0; stroke-width: 0.8; stroke-linecap: square\"/>\n     </g>\n     <g id=\"line2d_16\">\n      <g>\n       <use xlink:href=\"#mfa53833828\" x=\"593.175852\" y=\"450.72\" style=\"stroke: #000000; stroke-width: 0.8\"/>\n      </g>\n     </g>\n     <g id=\"text_8\">\n      <!-- 250 -->\n      <g transform=\"translate(583.632102 465.318437) scale(0.1 -0.1)\">\n       <use xlink:href=\"#DejaVuSans-32\"/>\n       <use xlink:href=\"#DejaVuSans-35\" transform=\"translate(63.623047 0)\"/>\n       <use xlink:href=\"#DejaVuSans-30\" transform=\"translate(127.246094 0)\"/>\n      </g>\n     </g>\n    </g>\n    <g id=\"xtick_9\">\n     <g id=\"line2d_17\">\n      <path d=\"M 669.266761 450.72 \nL 669.266761 7.2 \n\" clip-path=\"url(#pedde9a3105)\" style=\"fill: none; stroke: #b0b0b0; stroke-width: 0.8; stroke-linecap: square\"/>\n     </g>\n     <g id=\"line2d_18\">\n      <g>\n       <use xlink:href=\"#mfa53833828\" x=\"669.266761\" y=\"450.72\" style=\"stroke: #000000; stroke-width: 0.8\"/>\n      </g>\n     </g>\n     <g id=\"text_9\">\n      <!-- 300 -->\n      <g transform=\"translate(659.723011 465.318437) scale(0.1 -0.1)\">\n       <defs>\n        <path id=\"DejaVuSans-33\" d=\"M 2597 2516 \nQ 3050 2419 3304 2112 \nQ 3559 1806 3559 1356 \nQ 3559 666 3084 287 \nQ 2609 -91 1734 -91 \nQ 1441 -91 1130 -33 \nQ 819 25 488 141 \nL 488 750 \nQ 750 597 1062 519 \nQ 1375 441 1716 441 \nQ 2309 441 2620 675 \nQ 2931 909 2931 1356 \nQ 2931 1769 2642 2001 \nQ 2353 2234 1838 2234 \nL 1294 2234 \nL 1294 2753 \nL 1863 2753 \nQ 2328 2753 2575 2939 \nQ 2822 3125 2822 3475 \nQ 2822 3834 2567 4026 \nQ 2313 4219 1838 4219 \nQ 1578 4219 1281 4162 \nQ 984 4106 628 3988 \nL 628 4550 \nQ 988 4650 1302 4700 \nQ 1616 4750 1894 4750 \nQ 2613 4750 3031 4423 \nQ 3450 4097 3450 3541 \nQ 3450 3153 3228 2886 \nQ 3006 2619 2597 2516 \nz\n\" transform=\"scale(0.015625)\"/>\n       </defs>\n       <use xlink:href=\"#DejaVuSans-33\"/>\n       <use xlink:href=\"#DejaVuSans-30\" transform=\"translate(63.623047 0)\"/>\n       <use xlink:href=\"#DejaVuSans-30\" transform=\"translate(127.246094 0)\"/>\n      </g>\n     </g>\n    </g>\n   </g>\n   <g id=\"matplotlib.axis_2\">\n    <g id=\"ytick_1\">\n     <g id=\"line2d_19\">\n      <path d=\"M 30.103125 430.56 \nL 699.703125 430.56 \n\" clip-path=\"url(#pedde9a3105)\" style=\"fill: none; stroke: #b0b0b0; stroke-width: 0.8; stroke-linecap: square\"/>\n     </g>\n     <g id=\"line2d_20\">\n      <defs>\n       <path id=\"m495f239479\" d=\"M 0 0 \nL -3.5 0 \n\" style=\"stroke: #000000; stroke-width: 0.8\"/>\n      </defs>\n      <g>\n       <use xlink:href=\"#m495f239479\" x=\"30.103125\" y=\"430.56\" style=\"stroke: #000000; stroke-width: 0.8\"/>\n      </g>\n     </g>\n     <g id=\"text_10\">\n      <!-- 0.0 -->\n      <g transform=\"translate(7.2 434.359219) scale(0.1 -0.1)\">\n       <defs>\n        <path id=\"DejaVuSans-2e\" d=\"M 684 794 \nL 1344 794 \nL 1344 0 \nL 684 0 \nL 684 794 \nz\n\" transform=\"scale(0.015625)\"/>\n       </defs>\n       <use xlink:href=\"#DejaVuSans-30\"/>\n       <use xlink:href=\"#DejaVuSans-2e\" transform=\"translate(63.623047 0)\"/>\n       <use xlink:href=\"#DejaVuSans-30\" transform=\"translate(95.410156 0)\"/>\n      </g>\n     </g>\n    </g>\n    <g id=\"ytick_2\">\n     <g id=\"line2d_21\">\n      <path d=\"M 30.103125 349.92 \nL 699.703125 349.92 \n\" clip-path=\"url(#pedde9a3105)\" style=\"fill: none; stroke: #b0b0b0; stroke-width: 0.8; stroke-linecap: square\"/>\n     </g>\n     <g id=\"line2d_22\">\n      <g>\n       <use xlink:href=\"#m495f239479\" x=\"30.103125\" y=\"349.92\" style=\"stroke: #000000; stroke-width: 0.8\"/>\n      </g>\n     </g>\n     <g id=\"text_11\">\n      <!-- 0.2 -->\n      <g transform=\"translate(7.2 353.719219) scale(0.1 -0.1)\">\n       <use xlink:href=\"#DejaVuSans-30\"/>\n       <use xlink:href=\"#DejaVuSans-2e\" transform=\"translate(63.623047 0)\"/>\n       <use xlink:href=\"#DejaVuSans-32\" transform=\"translate(95.410156 0)\"/>\n      </g>\n     </g>\n    </g>\n    <g id=\"ytick_3\">\n     <g id=\"line2d_23\">\n      <path d=\"M 30.103125 269.28 \nL 699.703125 269.28 \n\" clip-path=\"url(#pedde9a3105)\" style=\"fill: none; stroke: #b0b0b0; stroke-width: 0.8; stroke-linecap: square\"/>\n     </g>\n     <g id=\"line2d_24\">\n      <g>\n       <use xlink:href=\"#m495f239479\" x=\"30.103125\" y=\"269.28\" style=\"stroke: #000000; stroke-width: 0.8\"/>\n      </g>\n     </g>\n     <g id=\"text_12\">\n      <!-- 0.4 -->\n      <g transform=\"translate(7.2 273.079219) scale(0.1 -0.1)\">\n       <defs>\n        <path id=\"DejaVuSans-34\" d=\"M 2419 4116 \nL 825 1625 \nL 2419 1625 \nL 2419 4116 \nz\nM 2253 4666 \nL 3047 4666 \nL 3047 1625 \nL 3713 1625 \nL 3713 1100 \nL 3047 1100 \nL 3047 0 \nL 2419 0 \nL 2419 1100 \nL 313 1100 \nL 313 1709 \nL 2253 4666 \nz\n\" transform=\"scale(0.015625)\"/>\n       </defs>\n       <use xlink:href=\"#DejaVuSans-30\"/>\n       <use xlink:href=\"#DejaVuSans-2e\" transform=\"translate(63.623047 0)\"/>\n       <use xlink:href=\"#DejaVuSans-34\" transform=\"translate(95.410156 0)\"/>\n      </g>\n     </g>\n    </g>\n    <g id=\"ytick_4\">\n     <g id=\"line2d_25\">\n      <path d=\"M 30.103125 188.64 \nL 699.703125 188.64 \n\" clip-path=\"url(#pedde9a3105)\" style=\"fill: none; stroke: #b0b0b0; stroke-width: 0.8; stroke-linecap: square\"/>\n     </g>\n     <g id=\"line2d_26\">\n      <g>\n       <use xlink:href=\"#m495f239479\" x=\"30.103125\" y=\"188.64\" style=\"stroke: #000000; stroke-width: 0.8\"/>\n      </g>\n     </g>\n     <g id=\"text_13\">\n      <!-- 0.6 -->\n      <g transform=\"translate(7.2 192.439219) scale(0.1 -0.1)\">\n       <defs>\n        <path id=\"DejaVuSans-36\" d=\"M 2113 2584 \nQ 1688 2584 1439 2293 \nQ 1191 2003 1191 1497 \nQ 1191 994 1439 701 \nQ 1688 409 2113 409 \nQ 2538 409 2786 701 \nQ 3034 994 3034 1497 \nQ 3034 2003 2786 2293 \nQ 2538 2584 2113 2584 \nz\nM 3366 4563 \nL 3366 3988 \nQ 3128 4100 2886 4159 \nQ 2644 4219 2406 4219 \nQ 1781 4219 1451 3797 \nQ 1122 3375 1075 2522 \nQ 1259 2794 1537 2939 \nQ 1816 3084 2150 3084 \nQ 2853 3084 3261 2657 \nQ 3669 2231 3669 1497 \nQ 3669 778 3244 343 \nQ 2819 -91 2113 -91 \nQ 1303 -91 875 529 \nQ 447 1150 447 2328 \nQ 447 3434 972 4092 \nQ 1497 4750 2381 4750 \nQ 2619 4750 2861 4703 \nQ 3103 4656 3366 4563 \nz\n\" transform=\"scale(0.015625)\"/>\n       </defs>\n       <use xlink:href=\"#DejaVuSans-30\"/>\n       <use xlink:href=\"#DejaVuSans-2e\" transform=\"translate(63.623047 0)\"/>\n       <use xlink:href=\"#DejaVuSans-36\" transform=\"translate(95.410156 0)\"/>\n      </g>\n     </g>\n    </g>\n    <g id=\"ytick_5\">\n     <g id=\"line2d_27\">\n      <path d=\"M 30.103125 108 \nL 699.703125 108 \n\" clip-path=\"url(#pedde9a3105)\" style=\"fill: none; stroke: #b0b0b0; stroke-width: 0.8; stroke-linecap: square\"/>\n     </g>\n     <g id=\"line2d_28\">\n      <g>\n       <use xlink:href=\"#m495f239479\" x=\"30.103125\" y=\"108\" style=\"stroke: #000000; stroke-width: 0.8\"/>\n      </g>\n     </g>\n     <g id=\"text_14\">\n      <!-- 0.8 -->\n      <g transform=\"translate(7.2 111.799219) scale(0.1 -0.1)\">\n       <defs>\n        <path id=\"DejaVuSans-38\" d=\"M 2034 2216 \nQ 1584 2216 1326 1975 \nQ 1069 1734 1069 1313 \nQ 1069 891 1326 650 \nQ 1584 409 2034 409 \nQ 2484 409 2743 651 \nQ 3003 894 3003 1313 \nQ 3003 1734 2745 1975 \nQ 2488 2216 2034 2216 \nz\nM 1403 2484 \nQ 997 2584 770 2862 \nQ 544 3141 544 3541 \nQ 544 4100 942 4425 \nQ 1341 4750 2034 4750 \nQ 2731 4750 3128 4425 \nQ 3525 4100 3525 3541 \nQ 3525 3141 3298 2862 \nQ 3072 2584 2669 2484 \nQ 3125 2378 3379 2068 \nQ 3634 1759 3634 1313 \nQ 3634 634 3220 271 \nQ 2806 -91 2034 -91 \nQ 1263 -91 848 271 \nQ 434 634 434 1313 \nQ 434 1759 690 2068 \nQ 947 2378 1403 2484 \nz\nM 1172 3481 \nQ 1172 3119 1398 2916 \nQ 1625 2713 2034 2713 \nQ 2441 2713 2670 2916 \nQ 2900 3119 2900 3481 \nQ 2900 3844 2670 4047 \nQ 2441 4250 2034 4250 \nQ 1625 4250 1398 4047 \nQ 1172 3844 1172 3481 \nz\n\" transform=\"scale(0.015625)\"/>\n       </defs>\n       <use xlink:href=\"#DejaVuSans-30\"/>\n       <use xlink:href=\"#DejaVuSans-2e\" transform=\"translate(63.623047 0)\"/>\n       <use xlink:href=\"#DejaVuSans-38\" transform=\"translate(95.410156 0)\"/>\n      </g>\n     </g>\n    </g>\n    <g id=\"ytick_6\">\n     <g id=\"line2d_29\">\n      <path d=\"M 30.103125 27.36 \nL 699.703125 27.36 \n\" clip-path=\"url(#pedde9a3105)\" style=\"fill: none; stroke: #b0b0b0; stroke-width: 0.8; stroke-linecap: square\"/>\n     </g>\n     <g id=\"line2d_30\">\n      <g>\n       <use xlink:href=\"#m495f239479\" x=\"30.103125\" y=\"27.36\" style=\"stroke: #000000; stroke-width: 0.8\"/>\n      </g>\n     </g>\n     <g id=\"text_15\">\n      <!-- 1.0 -->\n      <g transform=\"translate(7.2 31.159219) scale(0.1 -0.1)\">\n       <use xlink:href=\"#DejaVuSans-31\"/>\n       <use xlink:href=\"#DejaVuSans-2e\" transform=\"translate(63.623047 0)\"/>\n       <use xlink:href=\"#DejaVuSans-30\" transform=\"translate(95.410156 0)\"/>\n      </g>\n     </g>\n    </g>\n   </g>\n   <g id=\"line2d_31\">\n    <path d=\"M 60.539489 430.558497 \nL 67.456844 430.558497 \nL 67.456844 430.546848 \nL 81.291555 430.546848 \nL 81.291555 430.466364 \nL 95.126265 430.466364 \nL 95.126265 430.017809 \nL 108.960976 430.017809 \nL 108.960976 428.00654 \nL 122.795687 428.00654 \nL 122.795687 420.779169 \nL 136.630398 420.779169 \nL 136.630398 400.088614 \nL 150.465108 400.088614 \nL 150.465108 353.349137 \nL 164.299819 353.349137 \nL 164.299819 271.436497 \nL 178.13453 271.436497 \nL 178.13453 163.837291 \nL 191.969241 163.837291 \nL 191.969241 66.933613 \nL 205.803951 66.933613 \nL 205.803951 27.36 \nL 219.638662 27.36 \nL 219.638662 66.933613 \nL 233.473373 66.933613 \nL 233.473373 163.837291 \nL 247.308084 163.837291 \nL 247.308084 271.436497 \nL 261.142794 271.436497 \nL 261.142794 353.349137 \nL 274.977505 353.349137 \nL 274.977505 400.088614 \nL 288.812216 400.088614 \nL 288.812216 420.779169 \nL 302.646927 420.779169 \nL 302.646927 428.00654 \nL 316.481637 428.00654 \nL 316.481637 430.017809 \nL 330.316348 430.017809 \nL 330.316348 430.466364 \nL 344.151059 430.466364 \nL 344.151059 430.546848 \nL 357.98577 430.546848 \nL 357.98577 430.558497 \nL 371.82048 430.558497 \nL 371.82048 430.55986 \nL 385.655191 430.55986 \nL 385.655191 430.559989 \nL 399.489902 430.559989 \nL 399.489902 430.559999 \nL 413.324613 430.559999 \nL 413.324613 430.56 \nL 427.159323 430.56 \nL 427.159323 430.56 \nL 440.994034 430.56 \nL 440.994034 430.56 \nL 454.828745 430.56 \nL 454.828745 430.56 \nL 468.663456 430.56 \nL 468.663456 430.56 \nL 482.498166 430.56 \nL 482.498166 430.56 \nL 496.332877 430.56 \nL 496.332877 430.56 \nL 510.167588 430.56 \nL 510.167588 430.56 \nL 524.002299 430.56 \nL 524.002299 430.56 \nL 537.837009 430.56 \nL 537.837009 430.56 \nL 551.67172 430.56 \nL 551.67172 430.56 \nL 565.506431 430.56 \nL 565.506431 430.56 \nL 579.341142 430.56 \nL 579.341142 430.56 \nL 593.175852 430.56 \nL 593.175852 430.56 \nL 607.010563 430.56 \nL 607.010563 430.56 \nL 620.845274 430.56 \nL 620.845274 430.56 \nL 634.679985 430.56 \nL 634.679985 430.56 \nL 648.514695 430.56 \nL 648.514695 430.56 \nL 662.349406 430.56 \nL 662.349406 430.56 \nL 669.266761 430.56 \n\" clip-path=\"url(#pedde9a3105)\" style=\"fill: none; stroke: #1f77b4; stroke-width: 1.5; stroke-linecap: square\"/>\n   </g>\n   <g id=\"line2d_32\">\n    <path d=\"M 60.539489 430.56 \nL 67.456844 430.56 \nL 67.456844 430.56 \nL 81.291555 430.56 \nL 81.291555 430.56 \nL 95.126265 430.56 \nL 95.126265 430.56 \nL 108.960976 430.56 \nL 108.960976 430.56 \nL 122.795687 430.56 \nL 122.795687 430.56 \nL 136.630398 430.56 \nL 136.630398 430.56 \nL 150.465108 430.56 \nL 150.465108 430.56 \nL 164.299819 430.56 \nL 164.299819 430.56 \nL 178.13453 430.56 \nL 178.13453 430.56 \nL 191.969241 430.56 \nL 191.969241 430.56 \nL 205.803951 430.56 \nL 205.803951 430.56 \nL 219.638662 430.56 \nL 219.638662 430.559997 \nL 233.473373 430.559997 \nL 233.473373 430.559963 \nL 247.308084 430.559963 \nL 247.308084 430.559552 \nL 261.142794 430.559552 \nL 261.142794 430.555632 \nL 274.977505 430.555632 \nL 274.977505 430.525376 \nL 288.812216 430.525376 \nL 288.812216 430.336775 \nL 302.646927 430.336775 \nL 302.646927 429.389479 \nL 316.481637 429.389479 \nL 316.481637 425.567871 \nL 330.316348 425.567871 \nL 330.316348 413.243425 \nL 344.151059 413.243425 \nL 344.151059 381.705123 \nL 357.98577 381.705123 \nL 357.98577 318.45536 \nL 371.82048 318.45536 \nL 371.82048 221.337211 \nL 385.655191 221.337211 \nL 385.655191 112.971973 \nL 399.489902 112.971973 \nL 399.489902 38.467088 \nL 413.324613 38.467088 \nL 413.324613 36.843517 \nL 427.159323 36.843517 \nL 427.159323 109.010427 \nL 440.994034 109.010427 \nL 440.994034 216.96946 \nL 454.828745 216.96946 \nL 454.828745 315.16531 \nL 468.663456 315.16531 \nL 468.663456 379.853998 \nL 482.498166 379.853998 \nL 482.498166 412.438145 \nL 496.332877 412.438145 \nL 496.332877 425.292365 \nL 510.167588 425.292365 \nL 510.167588 429.31463 \nL 524.002299 429.31463 \nL 524.002299 430.32053 \nL 537.837009 430.32053 \nL 537.837009 430.522548 \nL 551.67172 430.522548 \nL 551.67172 430.555236 \nL 565.506431 430.555236 \nL 565.506431 430.559507 \nL 579.341142 430.559507 \nL 579.341142 430.559959 \nL 593.175852 430.559959 \nL 593.175852 430.559997 \nL 607.010563 430.559997 \nL 607.010563 430.56 \nL 620.845274 430.56 \nL 620.845274 430.56 \nL 634.679985 430.56 \nL 634.679985 430.56 \nL 648.514695 430.56 \nL 648.514695 430.56 \nL 662.349406 430.56 \nL 662.349406 430.56 \nL 669.266761 430.56 \n\" clip-path=\"url(#pedde9a3105)\" style=\"fill: none; stroke: #ff7f0e; stroke-width: 1.5; stroke-linecap: square\"/>\n   </g>\n   <g id=\"line2d_33\">\n    <path d=\"M 60.539489 430.558497 \nL 67.456844 430.558497 \nL 67.456844 430.558497 \nL 81.291555 430.558497 \nL 81.291555 430.558497 \nL 95.126265 430.558497 \nL 95.126265 430.558497 \nL 108.960976 430.558497 \nL 108.960976 430.558492 \nL 122.795687 430.558492 \nL 122.795687 430.55846 \nL 136.630398 430.55846 \nL 136.630398 430.55828 \nL 150.465108 430.55828 \nL 150.465108 430.557408 \nL 164.299819 430.557408 \nL 164.299819 430.553726 \nL 178.13453 430.553726 \nL 178.13453 430.540025 \nL 191.969241 430.540025 \nL 191.969241 430.4947 \nL 205.803951 430.4947 \nL 205.803951 430.360572 \nL 219.638662 430.360572 \nL 219.638662 430.003752 \nL 233.473373 430.003752 \nL 233.473373 429.146739 \nL 247.308084 429.146739 \nL 247.308084 427.281624 \nL 261.142794 427.281624 \nL 261.142794 423.592491 \nL 274.977505 423.592491 \nL 274.977505 416.944526 \nL 288.812216 416.944526 \nL 288.812216 406.011918 \nL 302.646927 406.011918 \nL 302.646927 389.592917 \nL 316.481637 389.592917 \nL 316.481637 367.086256 \nL 330.316348 367.086256 \nL 330.316348 338.998527 \nL 344.151059 338.998527 \nL 344.151059 307.27118 \nL 357.98577 307.27118 \nL 357.98577 275.22109 \nL 371.82048 275.22109 \nL 371.82048 247.006577 \nL 385.655191 247.006577 \nL 385.655191 226.723132 \nL 399.489902 226.723132 \nL 399.489902 217.407249 \nL 413.324613 217.407249 \nL 413.324613 220.28894 \nL 427.159323 220.28894 \nL 427.159323 234.545687 \nL 440.994034 234.545687 \nL 440.994034 257.615713 \nL 454.828745 257.615713 \nL 454.828745 285.922774 \nL 468.663456 285.922774 \nL 468.663456 315.74122 \nL 482.498166 315.74122 \nL 482.498166 343.929722 \nL 496.332877 343.929722 \nL 496.332877 368.361537 \nL 510.167588 368.361537 \nL 510.167588 388.015947 \nL 524.002299 388.015947 \nL 524.002299 402.806824 \nL 537.837009 402.806824 \nL 537.837009 413.276254 \nL 551.67172 413.276254 \nL 551.67172 420.274519 \nL 565.506431 420.274519 \nL 565.506431 424.705927 \nL 579.341142 424.705927 \nL 579.341142 427.370661 \nL 593.175852 427.370661 \nL 593.175852 428.895466 \nL 607.010563 428.895466 \nL 607.010563 429.727174 \nL 620.845274 429.727174 \nL 620.845274 430.160251 \nL 634.679985 430.160251 \nL 634.679985 430.375807 \nL 648.514695 430.375807 \nL 648.514695 430.478477 \nL 662.349406 430.478477 \nL 662.349406 430.56 \nL 669.266761 430.56 \n\" clip-path=\"url(#pedde9a3105)\" style=\"fill: none; stroke: #2ca02c; stroke-width: 1.5; stroke-linecap: square\"/>\n   </g>\n   <g id=\"line2d_34\">\n    <path d=\"M 60.539489 430.558497 \nL 67.456844 430.558497 \nL 67.456844 430.5585 \nL 81.291555 430.5585 \nL 81.291555 430.55849 \nL 95.126265 430.55849 \nL 95.126265 430.55848 \nL 108.960976 430.55848 \nL 108.960976 430.55852 \nL 122.795687 430.55852 \nL 122.795687 430.558561 \nL 136.630398 430.558561 \nL 136.630398 430.558477 \nL 150.465108 430.558477 \nL 150.465108 430.558325 \nL 164.299819 430.558325 \nL 164.299819 430.558404 \nL 178.13453 430.558404 \nL 178.13453 430.558815 \nL 191.969241 430.558815 \nL 191.969241 430.559125 \nL 205.803951 430.559125 \nL 205.803951 430.558447 \nL 219.638662 430.558447 \nL 219.638662 430.5547 \nL 233.473373 430.5547 \nL 233.473373 430.538671 \nL 247.308084 430.538671 \nL 247.308084 430.476599 \nL 261.142794 430.476599 \nL 261.142794 430.259476 \nL 274.977505 430.259476 \nL 274.977505 429.577662 \nL 288.812216 429.577662 \nL 288.812216 427.659843 \nL 302.646927 427.659843 \nL 302.646927 422.809141 \nL 316.481637 422.809141 \nL 316.481637 411.701328 \nL 330.316348 411.701328 \nL 330.316348 388.65159 \nL 344.151059 388.65159 \nL 344.151059 346.007802 \nL 357.98577 346.007802 \nL 357.98577 278.640163 \nL 371.82048 278.640163 \nL 371.82048 194.876401 \nL 385.655191 194.876401 \nL 385.655191 124.899531 \nL 399.489902 124.899531 \nL 399.489902 103.187563 \nL 413.324613 103.187563 \nL 413.324613 131.524975 \nL 427.159323 131.524975 \nL 427.159323 186.620881 \nL 440.994034 186.620881 \nL 440.994034 248.257027 \nL 454.828745 248.257027 \nL 454.828745 304.041424 \nL 468.663456 304.041424 \nL 468.663456 348.343012 \nL 482.498166 348.343012 \nL 482.498166 380.246673 \nL 496.332877 380.246673 \nL 496.332877 401.442852 \nL 510.167588 401.442852 \nL 510.167588 414.572181 \nL 524.002299 414.572181 \nL 524.002299 422.20852 \nL 537.837009 422.20852 \nL 537.837009 426.400548 \nL 551.67172 426.400548 \nL 551.67172 428.581091 \nL 565.506431 428.581091 \nL 565.506431 429.65918 \nL 579.341142 429.65918 \nL 579.341142 430.167095 \nL 593.175852 430.167095 \nL 593.175852 430.395595 \nL 607.010563 430.395595 \nL 607.010563 430.49393 \nL 620.845274 430.49393 \nL 620.845274 430.534475 \nL 634.679985 430.534475 \nL 634.679985 430.550518 \nL 648.514695 430.550518 \nL 648.514695 430.556841 \nL 662.349406 430.556841 \nL 662.349406 430.56 \nL 669.266761 430.56 \n\" clip-path=\"url(#pedde9a3105)\" style=\"fill: none; stroke: #d62728; stroke-width: 1.5; stroke-linecap: square\"/>\n   </g>\n   <g id=\"line2d_35\">\n    <path d=\"M 60.539489 430.558497 \nL 67.456844 430.558497 \nL 67.456844 430.5585 \nL 81.291555 430.5585 \nL 81.291555 430.558501 \nL 95.126265 430.558501 \nL 95.126265 430.558481 \nL 108.960976 430.558481 \nL 108.960976 430.558475 \nL 122.795687 430.558475 \nL 122.795687 430.558535 \nL 136.630398 430.558535 \nL 136.630398 430.55859 \nL 150.465108 430.55859 \nL 150.465108 430.558491 \nL 164.299819 430.558491 \nL 164.299819 430.558279 \nL 178.13453 430.558279 \nL 178.13453 430.558238 \nL 191.969241 430.558238 \nL 191.969241 430.558575 \nL 205.803951 430.558575 \nL 205.803951 430.559149 \nL 219.638662 430.559149 \nL 219.638662 430.559603 \nL 233.473373 430.559603 \nL 233.473373 430.559419 \nL 247.308084 430.559419 \nL 247.308084 430.55744 \nL 261.142794 430.55744 \nL 261.142794 430.546478 \nL 274.977505 430.546478 \nL 274.977505 430.493751 \nL 288.812216 430.493751 \nL 288.812216 430.266424 \nL 302.646927 430.266424 \nL 302.646927 429.321648 \nL 316.481637 429.321648 \nL 316.481637 425.456739 \nL 330.316348 425.456739 \nL 330.316348 411.073427 \nL 344.151059 411.073427 \nL 344.151059 368.875226 \nL 357.98577 368.875226 \nL 357.98577 283.710915 \nL 371.82048 283.710915 \nL 371.82048 174.370992 \nL 385.655191 174.370992 \nL 385.655191 90.701847 \nL 399.489902 90.701847 \nL 399.489902 67.77803 \nL 413.324613 67.77803 \nL 413.324613 103.546901 \nL 427.159323 103.546901 \nL 427.159323 172.763242 \nL 440.994034 172.763242 \nL 440.994034 248.420578 \nL 454.828745 248.420578 \nL 454.828745 313.262703 \nL 468.663456 313.262703 \nL 468.663456 360.877169 \nL 482.498166 360.877169 \nL 482.498166 392.036789 \nL 496.332877 392.036789 \nL 496.332877 410.6091 \nL 510.167588 410.6091 \nL 510.167588 420.83029 \nL 524.002299 420.83029 \nL 524.002299 426.073149 \nL 537.837009 426.073149 \nL 537.837009 428.596789 \nL 551.67172 428.596789 \nL 551.67172 429.74265 \nL 565.506431 429.74265 \nL 565.506431 430.235432 \nL 579.341142 430.235432 \nL 579.341142 430.436817 \nL 593.175852 430.436817 \nL 593.175852 430.515237 \nL 607.010563 430.515237 \nL 607.010563 430.544402 \nL 620.845274 430.544402 \nL 620.845274 430.554781 \nL 634.679985 430.554781 \nL 634.679985 430.558324 \nL 648.514695 430.558324 \nL 648.514695 430.559531 \nL 662.349406 430.559531 \nL 662.349406 430.56 \nL 669.266761 430.56 \n\" clip-path=\"url(#pedde9a3105)\" style=\"fill: none; stroke: #9467bd; stroke-width: 1.5; stroke-linecap: square\"/>\n   </g>\n   <g id=\"line2d_36\">\n    <path d=\"M 60.539489 430.558497 \nL 67.456844 430.558497 \nL 67.456844 430.558499 \nL 81.291555 430.558499 \nL 81.291555 430.558503 \nL 95.126265 430.558503 \nL 95.126265 430.558489 \nL 108.960976 430.558489 \nL 108.960976 430.558471 \nL 122.795687 430.558471 \nL 122.795687 430.558505 \nL 136.630398 430.558505 \nL 136.630398 430.558578 \nL 150.465108 430.558578 \nL 150.465108 430.558558 \nL 164.299819 430.558558 \nL 164.299819 430.558384 \nL 178.13453 430.558384 \nL 178.13453 430.558216 \nL 191.969241 430.558216 \nL 191.969241 430.558306 \nL 205.803951 430.558306 \nL 205.803951 430.558735 \nL 219.638662 430.558735 \nL 219.638662 430.559315 \nL 233.473373 430.559315 \nL 233.473373 430.559756 \nL 247.308084 430.559756 \nL 247.308084 430.559743 \nL 261.142794 430.559743 \nL 261.142794 430.55911 \nL 274.977505 430.55911 \nL 274.977505 430.557306 \nL 288.812216 430.557306 \nL 288.812216 430.547572 \nL 302.646927 430.547572 \nL 302.646927 430.458038 \nL 316.481637 430.458038 \nL 316.481637 429.479804 \nL 330.316348 429.479804 \nL 330.316348 420.759887 \nL 344.151059 420.759887 \nL 344.151059 378.400538 \nL 357.98577 378.400538 \nL 357.98577 282.266015 \nL 371.82048 282.266015 \nL 371.82048 166.133652 \nL 385.655191 166.133652 \nL 385.655191 82.350342 \nL 399.489902 82.350342 \nL 399.489902 59.344772 \nL 413.324613 59.344772 \nL 413.324613 95.127147 \nL 427.159323 95.127147 \nL 427.159323 166.837414 \nL 440.994034 166.837414 \nL 440.994034 246.768262 \nL 454.828745 246.768262 \nL 454.828745 315.339963 \nL 468.663456 315.339963 \nL 468.663456 364.796951 \nL 482.498166 364.796951 \nL 482.498166 396.04632 \nL 496.332877 396.04632 \nL 496.332877 413.768309 \nL 510.167588 413.768309 \nL 510.167588 422.935668 \nL 524.002299 422.935668 \nL 524.002299 427.311257 \nL 537.837009 427.311257 \nL 537.837009 429.254943 \nL 551.67172 429.254943 \nL 551.67172 430.063851 \nL 565.506431 430.063851 \nL 565.506431 430.38091 \nL 579.341142 430.38091 \nL 579.341142 430.498453 \nL 593.175852 430.498453 \nL 593.175852 430.539815 \nL 607.010563 430.539815 \nL 607.010563 430.553669 \nL 620.845274 430.553669 \nL 620.845274 430.558098 \nL 634.679985 430.558098 \nL 634.679985 430.559453 \nL 648.514695 430.559453 \nL 648.514695 430.559865 \nL 662.349406 430.559865 \nL 662.349406 430.56 \nL 669.266761 430.56 \n\" clip-path=\"url(#pedde9a3105)\" style=\"fill: none; stroke: #8c564b; stroke-width: 1.5; stroke-linecap: square\"/>\n   </g>\n   <g id=\"line2d_37\">\n    <path d=\"M 60.539489 430.558497 \nL 67.456844 430.558497 \nL 67.456844 430.558498 \nL 81.291555 430.558498 \nL 81.291555 430.558503 \nL 95.126265 430.558503 \nL 95.126265 430.558493 \nL 108.960976 430.558493 \nL 108.960976 430.558473 \nL 122.795687 430.558473 \nL 122.795687 430.558493 \nL 136.630398 430.558493 \nL 136.630398 430.558561 \nL 150.465108 430.558561 \nL 150.465108 430.558572 \nL 164.299819 430.558572 \nL 164.299819 430.558443 \nL 178.13453 430.558443 \nL 178.13453 430.558258 \nL 191.969241 430.558258 \nL 191.969241 430.558221 \nL 205.803951 430.558221 \nL 205.803951 430.558565 \nL 219.638662 430.558565 \nL 219.638662 430.559186 \nL 233.473373 430.559186 \nL 233.473373 430.559546 \nL 247.308084 430.559546 \nL 247.308084 430.559543 \nL 261.142794 430.559543 \nL 261.142794 430.55967 \nL 274.977505 430.55967 \nL 274.977505 430.559904 \nL 288.812216 430.559904 \nL 288.812216 430.55967 \nL 302.646927 430.55967 \nL 302.646927 430.55219 \nL 316.481637 430.55219 \nL 316.481637 430.316403 \nL 330.316348 430.316403 \nL 330.316348 424.973643 \nL 344.151059 424.973643 \nL 344.151059 382.75352 \nL 357.98577 382.75352 \nL 357.98577 280.326944 \nL 371.82048 280.326944 \nL 371.82048 162.844161 \nL 385.655191 162.844161 \nL 385.655191 80.215662 \nL 399.489902 80.215662 \nL 399.489902 57.434921 \nL 413.324613 57.434921 \nL 413.324613 92.74875 \nL 427.159323 92.74875 \nL 427.159323 164.535237 \nL 440.994034 164.535237 \nL 440.994034 245.506506 \nL 454.828745 245.506506 \nL 454.828745 315.471266 \nL 468.663456 315.471266 \nL 468.663456 365.909069 \nL 482.498166 365.909069 \nL 482.498166 397.459224 \nL 496.332877 397.459224 \nL 496.332877 414.989631 \nL 510.167588 414.989631 \nL 510.167588 423.78312 \nL 524.002299 423.78312 \nL 524.002299 427.813845 \nL 537.837009 427.813845 \nL 537.837009 429.518333 \nL 551.67172 429.518333 \nL 551.67172 430.188406 \nL 565.506431 430.188406 \nL 565.506431 430.434831 \nL 579.341142 430.434831 \nL 579.341142 430.52005 \nL 593.175852 430.52005 \nL 593.175852 430.547882 \nL 607.010563 430.547882 \nL 607.010563 430.556497 \nL 620.845274 430.556497 \nL 620.845274 430.559033 \nL 634.679985 430.559033 \nL 634.679985 430.559745 \nL 648.514695 430.559745 \nL 648.514695 430.559943 \nL 662.349406 430.559943 \nL 662.349406 430.56 \nL 669.266761 430.56 \n\" clip-path=\"url(#pedde9a3105)\" style=\"fill: none; stroke: #e377c2; stroke-width: 1.5; stroke-linecap: square\"/>\n   </g>\n   <g id=\"patch_3\">\n    <path d=\"M 30.103125 450.72 \nL 30.103125 7.2 \n\" style=\"fill: none; stroke: #000000; stroke-width: 0.8; stroke-linejoin: miter; stroke-linecap: square\"/>\n   </g>\n   <g id=\"patch_4\">\n    <path d=\"M 699.703125 450.72 \nL 699.703125 7.2 \n\" style=\"fill: none; stroke: #000000; stroke-width: 0.8; stroke-linejoin: miter; stroke-linecap: square\"/>\n   </g>\n   <g id=\"patch_5\">\n    <path d=\"M 30.103125 450.72 \nL 699.703125 450.72 \n\" style=\"fill: none; stroke: #000000; stroke-width: 0.8; stroke-linejoin: miter; stroke-linecap: square\"/>\n   </g>\n   <g id=\"patch_6\">\n    <path d=\"M 30.103125 7.2 \nL 699.703125 7.2 \n\" style=\"fill: none; stroke: #000000; stroke-width: 0.8; stroke-linejoin: miter; stroke-linecap: square\"/>\n   </g>\n   <g id=\"legend_1\">\n    <g id=\"patch_7\">\n     <path d=\"M 581.59375 119.059375 \nL 692.703125 119.059375 \nQ 694.703125 119.059375 694.703125 117.059375 \nL 694.703125 14.2 \nQ 694.703125 12.2 692.703125 12.2 \nL 581.59375 12.2 \nQ 579.59375 12.2 579.59375 14.2 \nL 579.59375 117.059375 \nQ 579.59375 119.059375 581.59375 119.059375 \nz\n\" style=\"fill: #ffffff; opacity: 0.8; stroke: #cccccc; stroke-linejoin: miter\"/>\n    </g>\n    <g id=\"line2d_38\">\n     <path d=\"M 583.59375 20.298437 \nL 588.59375 20.298437 \nL 588.59375 20.298437 \nL 598.59375 20.298437 \nL 598.59375 20.298437 \nL 603.59375 20.298437 \n\" style=\"fill: none; stroke: #1f77b4; stroke-width: 1.5; stroke-linecap: square\"/>\n    </g>\n    <g id=\"text_16\">\n     <!-- initial -->\n     <g transform=\"translate(611.59375 23.798437) scale(0.1 -0.1)\">\n      <defs>\n       <path id=\"DejaVuSans-69\" d=\"M 603 3500 \nL 1178 3500 \nL 1178 0 \nL 603 0 \nL 603 3500 \nz\nM 603 4863 \nL 1178 4863 \nL 1178 4134 \nL 603 4134 \nL 603 4863 \nz\n\" transform=\"scale(0.015625)\"/>\n       <path id=\"DejaVuSans-6e\" d=\"M 3513 2113 \nL 3513 0 \nL 2938 0 \nL 2938 2094 \nQ 2938 2591 2744 2837 \nQ 2550 3084 2163 3084 \nQ 1697 3084 1428 2787 \nQ 1159 2491 1159 1978 \nL 1159 0 \nL 581 0 \nL 581 3500 \nL 1159 3500 \nL 1159 2956 \nQ 1366 3272 1645 3428 \nQ 1925 3584 2291 3584 \nQ 2894 3584 3203 3211 \nQ 3513 2838 3513 2113 \nz\n\" transform=\"scale(0.015625)\"/>\n       <path id=\"DejaVuSans-74\" d=\"M 1172 4494 \nL 1172 3500 \nL 2356 3500 \nL 2356 3053 \nL 1172 3053 \nL 1172 1153 \nQ 1172 725 1289 603 \nQ 1406 481 1766 481 \nL 2356 481 \nL 2356 0 \nL 1766 0 \nQ 1100 0 847 248 \nQ 594 497 594 1153 \nL 594 3053 \nL 172 3053 \nL 172 3500 \nL 594 3500 \nL 594 4494 \nL 1172 4494 \nz\n\" transform=\"scale(0.015625)\"/>\n       <path id=\"DejaVuSans-61\" d=\"M 2194 1759 \nQ 1497 1759 1228 1600 \nQ 959 1441 959 1056 \nQ 959 750 1161 570 \nQ 1363 391 1709 391 \nQ 2188 391 2477 730 \nQ 2766 1069 2766 1631 \nL 2766 1759 \nL 2194 1759 \nz\nM 3341 1997 \nL 3341 0 \nL 2766 0 \nL 2766 531 \nQ 2569 213 2275 61 \nQ 1981 -91 1556 -91 \nQ 1019 -91 701 211 \nQ 384 513 384 1019 \nQ 384 1609 779 1909 \nQ 1175 2209 1959 2209 \nL 2766 2209 \nL 2766 2266 \nQ 2766 2663 2505 2880 \nQ 2244 3097 1772 3097 \nQ 1472 3097 1187 3025 \nQ 903 2953 641 2809 \nL 641 3341 \nQ 956 3463 1253 3523 \nQ 1550 3584 1831 3584 \nQ 2591 3584 2966 3190 \nQ 3341 2797 3341 1997 \nz\n\" transform=\"scale(0.015625)\"/>\n       <path id=\"DejaVuSans-6c\" d=\"M 603 4863 \nL 1178 4863 \nL 1178 0 \nL 603 0 \nL 603 4863 \nz\n\" transform=\"scale(0.015625)\"/>\n      </defs>\n      <use xlink:href=\"#DejaVuSans-69\"/>\n      <use xlink:href=\"#DejaVuSans-6e\" transform=\"translate(27.783203 0)\"/>\n      <use xlink:href=\"#DejaVuSans-69\" transform=\"translate(91.162109 0)\"/>\n      <use xlink:href=\"#DejaVuSans-74\" transform=\"translate(118.945312 0)\"/>\n      <use xlink:href=\"#DejaVuSans-69\" transform=\"translate(158.154297 0)\"/>\n      <use xlink:href=\"#DejaVuSans-61\" transform=\"translate(185.9375 0)\"/>\n      <use xlink:href=\"#DejaVuSans-6c\" transform=\"translate(247.216797 0)\"/>\n     </g>\n    </g>\n    <g id=\"line2d_39\">\n     <path d=\"M 583.59375 34.976562 \nL 588.59375 34.976562 \nL 588.59375 34.976562 \nL 598.59375 34.976562 \nL 598.59375 34.976562 \nL 603.59375 34.976562 \n\" style=\"fill: none; stroke: #ff7f0e; stroke-width: 1.5; stroke-linecap: square\"/>\n    </g>\n    <g id=\"text_17\">\n     <!-- analytic -->\n     <g transform=\"translate(611.59375 38.476562) scale(0.1 -0.1)\">\n      <defs>\n       <path id=\"DejaVuSans-79\" d=\"M 2059 -325 \nQ 1816 -950 1584 -1140 \nQ 1353 -1331 966 -1331 \nL 506 -1331 \nL 506 -850 \nL 844 -850 \nQ 1081 -850 1212 -737 \nQ 1344 -625 1503 -206 \nL 1606 56 \nL 191 3500 \nL 800 3500 \nL 1894 763 \nL 2988 3500 \nL 3597 3500 \nL 2059 -325 \nz\n\" transform=\"scale(0.015625)\"/>\n       <path id=\"DejaVuSans-63\" d=\"M 3122 3366 \nL 3122 2828 \nQ 2878 2963 2633 3030 \nQ 2388 3097 2138 3097 \nQ 1578 3097 1268 2742 \nQ 959 2388 959 1747 \nQ 959 1106 1268 751 \nQ 1578 397 2138 397 \nQ 2388 397 2633 464 \nQ 2878 531 3122 666 \nL 3122 134 \nQ 2881 22 2623 -34 \nQ 2366 -91 2075 -91 \nQ 1284 -91 818 406 \nQ 353 903 353 1747 \nQ 353 2603 823 3093 \nQ 1294 3584 2113 3584 \nQ 2378 3584 2631 3529 \nQ 2884 3475 3122 3366 \nz\n\" transform=\"scale(0.015625)\"/>\n      </defs>\n      <use xlink:href=\"#DejaVuSans-61\"/>\n      <use xlink:href=\"#DejaVuSans-6e\" transform=\"translate(61.279297 0)\"/>\n      <use xlink:href=\"#DejaVuSans-61\" transform=\"translate(124.658203 0)\"/>\n      <use xlink:href=\"#DejaVuSans-6c\" transform=\"translate(185.9375 0)\"/>\n      <use xlink:href=\"#DejaVuSans-79\" transform=\"translate(213.720703 0)\"/>\n      <use xlink:href=\"#DejaVuSans-74\" transform=\"translate(272.900391 0)\"/>\n      <use xlink:href=\"#DejaVuSans-69\" transform=\"translate(312.109375 0)\"/>\n      <use xlink:href=\"#DejaVuSans-63\" transform=\"translate(339.892578 0)\"/>\n     </g>\n    </g>\n    <g id=\"line2d_40\">\n     <path d=\"M 583.59375 49.654687 \nL 588.59375 49.654687 \nL 588.59375 49.654687 \nL 598.59375 49.654687 \nL 598.59375 49.654687 \nL 603.59375 49.654687 \n\" style=\"fill: none; stroke: #2ca02c; stroke-width: 1.5; stroke-linecap: square\"/>\n    </g>\n    <g id=\"text_18\">\n     <!-- UPWIND -->\n     <g transform=\"translate(611.59375 53.154687) scale(0.1 -0.1)\">\n      <defs>\n       <path id=\"DejaVuSans-55\" d=\"M 556 4666 \nL 1191 4666 \nL 1191 1831 \nQ 1191 1081 1462 751 \nQ 1734 422 2344 422 \nQ 2950 422 3222 751 \nQ 3494 1081 3494 1831 \nL 3494 4666 \nL 4128 4666 \nL 4128 1753 \nQ 4128 841 3676 375 \nQ 3225 -91 2344 -91 \nQ 1459 -91 1007 375 \nQ 556 841 556 1753 \nL 556 4666 \nz\n\" transform=\"scale(0.015625)\"/>\n       <path id=\"DejaVuSans-50\" d=\"M 1259 4147 \nL 1259 2394 \nL 2053 2394 \nQ 2494 2394 2734 2622 \nQ 2975 2850 2975 3272 \nQ 2975 3691 2734 3919 \nQ 2494 4147 2053 4147 \nL 1259 4147 \nz\nM 628 4666 \nL 2053 4666 \nQ 2838 4666 3239 4311 \nQ 3641 3956 3641 3272 \nQ 3641 2581 3239 2228 \nQ 2838 1875 2053 1875 \nL 1259 1875 \nL 1259 0 \nL 628 0 \nL 628 4666 \nz\n\" transform=\"scale(0.015625)\"/>\n       <path id=\"DejaVuSans-57\" d=\"M 213 4666 \nL 850 4666 \nL 1831 722 \nL 2809 4666 \nL 3519 4666 \nL 4500 722 \nL 5478 4666 \nL 6119 4666 \nL 4947 0 \nL 4153 0 \nL 3169 4050 \nL 2175 0 \nL 1381 0 \nL 213 4666 \nz\n\" transform=\"scale(0.015625)\"/>\n       <path id=\"DejaVuSans-49\" d=\"M 628 4666 \nL 1259 4666 \nL 1259 0 \nL 628 0 \nL 628 4666 \nz\n\" transform=\"scale(0.015625)\"/>\n       <path id=\"DejaVuSans-4e\" d=\"M 628 4666 \nL 1478 4666 \nL 3547 763 \nL 3547 4666 \nL 4159 4666 \nL 4159 0 \nL 3309 0 \nL 1241 3903 \nL 1241 0 \nL 628 0 \nL 628 4666 \nz\n\" transform=\"scale(0.015625)\"/>\n       <path id=\"DejaVuSans-44\" d=\"M 1259 4147 \nL 1259 519 \nL 2022 519 \nQ 2988 519 3436 956 \nQ 3884 1394 3884 2338 \nQ 3884 3275 3436 3711 \nQ 2988 4147 2022 4147 \nL 1259 4147 \nz\nM 628 4666 \nL 1925 4666 \nQ 3281 4666 3915 4102 \nQ 4550 3538 4550 2338 \nQ 4550 1131 3912 565 \nQ 3275 0 1925 0 \nL 628 0 \nL 628 4666 \nz\n\" transform=\"scale(0.015625)\"/>\n      </defs>\n      <use xlink:href=\"#DejaVuSans-55\"/>\n      <use xlink:href=\"#DejaVuSans-50\" transform=\"translate(73.193359 0)\"/>\n      <use xlink:href=\"#DejaVuSans-57\" transform=\"translate(133.496094 0)\"/>\n      <use xlink:href=\"#DejaVuSans-49\" transform=\"translate(232.373047 0)\"/>\n      <use xlink:href=\"#DejaVuSans-4e\" transform=\"translate(261.865234 0)\"/>\n      <use xlink:href=\"#DejaVuSans-44\" transform=\"translate(336.669922 0)\"/>\n     </g>\n    </g>\n    <g id=\"line2d_41\">\n     <path d=\"M 583.59375 64.332812 \nL 588.59375 64.332812 \nL 588.59375 64.332812 \nL 598.59375 64.332812 \nL 598.59375 64.332812 \nL 603.59375 64.332812 \n\" style=\"fill: none; stroke: #d62728; stroke-width: 1.5; stroke-linecap: square\"/>\n    </g>\n    <g id=\"text_19\">\n     <!-- MPDATA_ITER_1 -->\n     <g transform=\"translate(611.59375 67.832812) scale(0.1 -0.1)\">\n      <defs>\n       <path id=\"DejaVuSans-4d\" d=\"M 628 4666 \nL 1569 4666 \nL 2759 1491 \nL 3956 4666 \nL 4897 4666 \nL 4897 0 \nL 4281 0 \nL 4281 4097 \nL 3078 897 \nL 2444 897 \nL 1241 4097 \nL 1241 0 \nL 628 0 \nL 628 4666 \nz\n\" transform=\"scale(0.015625)\"/>\n       <path id=\"DejaVuSans-41\" d=\"M 2188 4044 \nL 1331 1722 \nL 3047 1722 \nL 2188 4044 \nz\nM 1831 4666 \nL 2547 4666 \nL 4325 0 \nL 3669 0 \nL 3244 1197 \nL 1141 1197 \nL 716 0 \nL 50 0 \nL 1831 4666 \nz\n\" transform=\"scale(0.015625)\"/>\n       <path id=\"DejaVuSans-54\" d=\"M -19 4666 \nL 3928 4666 \nL 3928 4134 \nL 2272 4134 \nL 2272 0 \nL 1638 0 \nL 1638 4134 \nL -19 4134 \nL -19 4666 \nz\n\" transform=\"scale(0.015625)\"/>\n       <path id=\"DejaVuSans-5f\" d=\"M 3263 -1063 \nL 3263 -1509 \nL -63 -1509 \nL -63 -1063 \nL 3263 -1063 \nz\n\" transform=\"scale(0.015625)\"/>\n       <path id=\"DejaVuSans-45\" d=\"M 628 4666 \nL 3578 4666 \nL 3578 4134 \nL 1259 4134 \nL 1259 2753 \nL 3481 2753 \nL 3481 2222 \nL 1259 2222 \nL 1259 531 \nL 3634 531 \nL 3634 0 \nL 628 0 \nL 628 4666 \nz\n\" transform=\"scale(0.015625)\"/>\n       <path id=\"DejaVuSans-52\" d=\"M 2841 2188 \nQ 3044 2119 3236 1894 \nQ 3428 1669 3622 1275 \nL 4263 0 \nL 3584 0 \nL 2988 1197 \nQ 2756 1666 2539 1819 \nQ 2322 1972 1947 1972 \nL 1259 1972 \nL 1259 0 \nL 628 0 \nL 628 4666 \nL 2053 4666 \nQ 2853 4666 3247 4331 \nQ 3641 3997 3641 3322 \nQ 3641 2881 3436 2590 \nQ 3231 2300 2841 2188 \nz\nM 1259 4147 \nL 1259 2491 \nL 2053 2491 \nQ 2509 2491 2742 2702 \nQ 2975 2913 2975 3322 \nQ 2975 3731 2742 3939 \nQ 2509 4147 2053 4147 \nL 1259 4147 \nz\n\" transform=\"scale(0.015625)\"/>\n      </defs>\n      <use xlink:href=\"#DejaVuSans-4d\"/>\n      <use xlink:href=\"#DejaVuSans-50\" transform=\"translate(86.279297 0)\"/>\n      <use xlink:href=\"#DejaVuSans-44\" transform=\"translate(146.582031 0)\"/>\n      <use xlink:href=\"#DejaVuSans-41\" transform=\"translate(221.833984 0)\"/>\n      <use xlink:href=\"#DejaVuSans-54\" transform=\"translate(282.492188 0)\"/>\n      <use xlink:href=\"#DejaVuSans-41\" transform=\"translate(335.826172 0)\"/>\n      <use xlink:href=\"#DejaVuSans-5f\" transform=\"translate(404.234375 0)\"/>\n      <use xlink:href=\"#DejaVuSans-49\" transform=\"translate(454.234375 0)\"/>\n      <use xlink:href=\"#DejaVuSans-54\" transform=\"translate(483.726562 0)\"/>\n      <use xlink:href=\"#DejaVuSans-45\" transform=\"translate(544.810547 0)\"/>\n      <use xlink:href=\"#DejaVuSans-52\" transform=\"translate(607.994141 0)\"/>\n      <use xlink:href=\"#DejaVuSans-5f\" transform=\"translate(677.476562 0)\"/>\n      <use xlink:href=\"#DejaVuSans-31\" transform=\"translate(727.476562 0)\"/>\n     </g>\n    </g>\n    <g id=\"line2d_42\">\n     <path d=\"M 583.59375 79.289062 \nL 588.59375 79.289062 \nL 588.59375 79.289062 \nL 598.59375 79.289062 \nL 598.59375 79.289062 \nL 603.59375 79.289062 \n\" style=\"fill: none; stroke: #9467bd; stroke-width: 1.5; stroke-linecap: square\"/>\n    </g>\n    <g id=\"text_20\">\n     <!-- MPDATA_ITER_2 -->\n     <g transform=\"translate(611.59375 82.789062) scale(0.1 -0.1)\">\n      <use xlink:href=\"#DejaVuSans-4d\"/>\n      <use xlink:href=\"#DejaVuSans-50\" transform=\"translate(86.279297 0)\"/>\n      <use xlink:href=\"#DejaVuSans-44\" transform=\"translate(146.582031 0)\"/>\n      <use xlink:href=\"#DejaVuSans-41\" transform=\"translate(221.833984 0)\"/>\n      <use xlink:href=\"#DejaVuSans-54\" transform=\"translate(282.492188 0)\"/>\n      <use xlink:href=\"#DejaVuSans-41\" transform=\"translate(335.826172 0)\"/>\n      <use xlink:href=\"#DejaVuSans-5f\" transform=\"translate(404.234375 0)\"/>\n      <use xlink:href=\"#DejaVuSans-49\" transform=\"translate(454.234375 0)\"/>\n      <use xlink:href=\"#DejaVuSans-54\" transform=\"translate(483.726562 0)\"/>\n      <use xlink:href=\"#DejaVuSans-45\" transform=\"translate(544.810547 0)\"/>\n      <use xlink:href=\"#DejaVuSans-52\" transform=\"translate(607.994141 0)\"/>\n      <use xlink:href=\"#DejaVuSans-5f\" transform=\"translate(677.476562 0)\"/>\n      <use xlink:href=\"#DejaVuSans-32\" transform=\"translate(727.476562 0)\"/>\n     </g>\n    </g>\n    <g id=\"line2d_43\">\n     <path d=\"M 583.59375 94.245312 \nL 588.59375 94.245312 \nL 588.59375 94.245312 \nL 598.59375 94.245312 \nL 598.59375 94.245312 \nL 603.59375 94.245312 \n\" style=\"fill: none; stroke: #8c564b; stroke-width: 1.5; stroke-linecap: square\"/>\n    </g>\n    <g id=\"text_21\">\n     <!-- MPDATA_ITER_3 -->\n     <g transform=\"translate(611.59375 97.745312) scale(0.1 -0.1)\">\n      <use xlink:href=\"#DejaVuSans-4d\"/>\n      <use xlink:href=\"#DejaVuSans-50\" transform=\"translate(86.279297 0)\"/>\n      <use xlink:href=\"#DejaVuSans-44\" transform=\"translate(146.582031 0)\"/>\n      <use xlink:href=\"#DejaVuSans-41\" transform=\"translate(221.833984 0)\"/>\n      <use xlink:href=\"#DejaVuSans-54\" transform=\"translate(282.492188 0)\"/>\n      <use xlink:href=\"#DejaVuSans-41\" transform=\"translate(335.826172 0)\"/>\n      <use xlink:href=\"#DejaVuSans-5f\" transform=\"translate(404.234375 0)\"/>\n      <use xlink:href=\"#DejaVuSans-49\" transform=\"translate(454.234375 0)\"/>\n      <use xlink:href=\"#DejaVuSans-54\" transform=\"translate(483.726562 0)\"/>\n      <use xlink:href=\"#DejaVuSans-45\" transform=\"translate(544.810547 0)\"/>\n      <use xlink:href=\"#DejaVuSans-52\" transform=\"translate(607.994141 0)\"/>\n      <use xlink:href=\"#DejaVuSans-5f\" transform=\"translate(677.476562 0)\"/>\n      <use xlink:href=\"#DejaVuSans-33\" transform=\"translate(727.476562 0)\"/>\n     </g>\n    </g>\n    <g id=\"line2d_44\">\n     <path d=\"M 583.59375 109.201562 \nL 588.59375 109.201562 \nL 588.59375 109.201562 \nL 598.59375 109.201562 \nL 598.59375 109.201562 \nL 603.59375 109.201562 \n\" style=\"fill: none; stroke: #e377c2; stroke-width: 1.5; stroke-linecap: square\"/>\n    </g>\n    <g id=\"text_22\">\n     <!-- MPDATA_ITER_4 -->\n     <g transform=\"translate(611.59375 112.701562) scale(0.1 -0.1)\">\n      <use xlink:href=\"#DejaVuSans-4d\"/>\n      <use xlink:href=\"#DejaVuSans-50\" transform=\"translate(86.279297 0)\"/>\n      <use xlink:href=\"#DejaVuSans-44\" transform=\"translate(146.582031 0)\"/>\n      <use xlink:href=\"#DejaVuSans-41\" transform=\"translate(221.833984 0)\"/>\n      <use xlink:href=\"#DejaVuSans-54\" transform=\"translate(282.492188 0)\"/>\n      <use xlink:href=\"#DejaVuSans-41\" transform=\"translate(335.826172 0)\"/>\n      <use xlink:href=\"#DejaVuSans-5f\" transform=\"translate(404.234375 0)\"/>\n      <use xlink:href=\"#DejaVuSans-49\" transform=\"translate(454.234375 0)\"/>\n      <use xlink:href=\"#DejaVuSans-54\" transform=\"translate(483.726562 0)\"/>\n      <use xlink:href=\"#DejaVuSans-45\" transform=\"translate(544.810547 0)\"/>\n      <use xlink:href=\"#DejaVuSans-52\" transform=\"translate(607.994141 0)\"/>\n      <use xlink:href=\"#DejaVuSans-5f\" transform=\"translate(677.476562 0)\"/>\n      <use xlink:href=\"#DejaVuSans-34\" transform=\"translate(727.476562 0)\"/>\n     </g>\n    </g>\n   </g>\n  </g>\n </g>\n <defs>\n  <clipPath id=\"pedde9a3105\">\n   <rect x=\"30.103125\" y=\"7.2\" width=\"669.6\" height=\"443.52\"/>\n  </clipPath>\n </defs>\n</svg>\n"
          },
          "metadata": {}
        },
        {
          "output_type": "display_data",
          "data": {
            "text/plain": [
              "HBox(children=(Button(description='tmpq_bjjab5.pdf', style=ButtonStyle()), Button(description='tmpcp4mzt2x.svg…"
            ],
            "application/vnd.jupyter.widget-view+json": {
              "version_major": 2,
              "version_minor": 0,
              "model_id": "bfa4c14ca84b4a74a7be335c5f735857"
            }
          },
          "metadata": {}
        },
        {
          "output_type": "display_data",
          "data": {
            "text/plain": [
              "<IPython.core.display.Javascript object>"
            ],
            "application/javascript": [
              "\n",
              "    async function download(id, filename, size) {\n",
              "      if (!google.colab.kernel.accessAllowed) {\n",
              "        return;\n",
              "      }\n",
              "      const div = document.createElement('div');\n",
              "      const label = document.createElement('label');\n",
              "      label.textContent = `Downloading \"${filename}\": `;\n",
              "      div.appendChild(label);\n",
              "      const progress = document.createElement('progress');\n",
              "      progress.max = size;\n",
              "      div.appendChild(progress);\n",
              "      document.body.appendChild(div);\n",
              "\n",
              "      const buffers = [];\n",
              "      let downloaded = 0;\n",
              "\n",
              "      const channel = await google.colab.kernel.comms.open(id);\n",
              "      // Send a message to notify the kernel that we're ready.\n",
              "      channel.send({})\n",
              "\n",
              "      for await (const message of channel.messages) {\n",
              "        // Send a message to notify the kernel that we're ready.\n",
              "        channel.send({})\n",
              "        if (message.buffers) {\n",
              "          for (const buffer of message.buffers) {\n",
              "            buffers.push(buffer);\n",
              "            downloaded += buffer.byteLength;\n",
              "            progress.value = downloaded;\n",
              "          }\n",
              "        }\n",
              "      }\n",
              "      const blob = new Blob(buffers, {type: 'application/binary'});\n",
              "      const a = document.createElement('a');\n",
              "      a.href = window.URL.createObjectURL(blob);\n",
              "      a.download = filename;\n",
              "      div.appendChild(a);\n",
              "      a.click();\n",
              "      div.remove();\n",
              "    }\n",
              "  "
            ]
          },
          "metadata": {}
        },
        {
          "output_type": "display_data",
          "data": {
            "text/plain": [
              "<IPython.core.display.Javascript object>"
            ],
            "application/javascript": [
              "download(\"download_d58f68de-745e-4e5f-a6b4-ff835f4dfb8d\", \"tmpcp4mzt2x.svg\", 48155)"
            ]
          },
          "metadata": {}
        }
      ]
    },
    {
      "cell_type": "markdown",
      "source": [
        "## Results\n",
        "\n",
        "\n",
        "#### Iteration 0 (Upwind)\n",
        "\n",
        "The initial upwind method produces a solution that is significantly diffused. The sharp Gaussian profile is noticeably smoothed and shifted, due to the inherent numerical diffusion error.\n",
        "\n",
        "#### Iteration 1 (MPDATA_ITER_1)\n",
        "\n",
        "The first corrective iteration applies an anti-diffusive step. This iteration effectively reduces much of the numerical diffusion, leading to a profile that is noticeably closer to the analytical solution, with a sharper front than the pure upwind result.\n",
        "\n",
        "#### Iteration 2 (MPDATA_ITER_2)\n",
        "\n",
        "With the second correction, further refinement is observed. The profile continues to sharpen and match the analytical solution even more closely. The corrective term now minimizes the remaining diffusive effects left by the first iteration.\n",
        "\n",
        "#### Iteration 3 (MPDATA_ITER_3)\n",
        "\n",
        "At this stage, the profile has almost converged to the analytic shape. The corrected solution shows very little remaining diffusion, indicating that the majority of the error has been compensated. The improvement compared to the previous iteration is modest.\n",
        "\n",
        "#### Iteration 4 (MPDATA_ITER_4)\n",
        "\n",
        "The fourth iteration produces only marginal improvements over iteration 3. The profile remains almost identical to that of the third iteration, suggesting that the solution has essentially converged and further corrections are unnecessary."
      ],
      "metadata": {
        "id": "7v6mSvq2Lrcm"
      }
    }
  ]
}